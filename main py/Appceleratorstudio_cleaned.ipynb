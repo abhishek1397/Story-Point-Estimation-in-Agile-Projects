{
 "cells": [
  {
   "cell_type": "code",
   "execution_count": 1,
   "metadata": {},
   "outputs": [],
   "source": [
    "import pandas as pd\n",
    "import numpy as np\n",
    "\n",
    "path = \"../IEEE TSE2018/dataset/appceleratorstudio.csv\"\n",
    "df = pd.read_csv(path, usecols=['issuekey', 'title', 'description', 'storypoint'])"
   ]
  },
  {
   "cell_type": "code",
   "execution_count": 2,
   "metadata": {},
   "outputs": [
    {
     "data": {
      "text/plain": [
       "issuekey        0\n",
       "title           0\n",
       "description    43\n",
       "storypoint      0\n",
       "dtype: int64"
      ]
     },
     "execution_count": 2,
     "metadata": {},
     "output_type": "execute_result"
    }
   ],
   "source": [
    "df.isnull().sum()"
   ]
  },
  {
   "cell_type": "code",
   "execution_count": 3,
   "metadata": {},
   "outputs": [],
   "source": [
    "df = df.dropna(how='any')"
   ]
  },
  {
   "cell_type": "code",
   "execution_count": 4,
   "metadata": {},
   "outputs": [
    {
     "data": {
      "text/html": [
       "<div>\n",
       "<style scoped>\n",
       "    .dataframe tbody tr th:only-of-type {\n",
       "        vertical-align: middle;\n",
       "    }\n",
       "\n",
       "    .dataframe tbody tr th {\n",
       "        vertical-align: top;\n",
       "    }\n",
       "\n",
       "    .dataframe thead th {\n",
       "        text-align: right;\n",
       "    }\n",
       "</style>\n",
       "<table border=\"1\" class=\"dataframe\">\n",
       "  <thead>\n",
       "    <tr style=\"text-align: right;\">\n",
       "      <th></th>\n",
       "      <th>issuekey</th>\n",
       "      <th>title</th>\n",
       "      <th>description</th>\n",
       "      <th>storypoint</th>\n",
       "    </tr>\n",
       "  </thead>\n",
       "  <tbody>\n",
       "    <tr>\n",
       "      <th>0</th>\n",
       "      <td>TISTUD-6</td>\n",
       "      <td>Add CA against object literals in function inv...</td>\n",
       "      <td>{html}&lt;div&gt;&lt;p&gt;The idea here is that if our met...</td>\n",
       "      <td>1</td>\n",
       "    </tr>\n",
       "    <tr>\n",
       "      <th>1</th>\n",
       "      <td>TISTUD-9</td>\n",
       "      <td>Update branding for Appcelerator plugin to App...</td>\n",
       "      <td>{html}&lt;div&gt;&lt;p&gt;At least fix feature icons, asso...</td>\n",
       "      <td>1</td>\n",
       "    </tr>\n",
       "    <tr>\n",
       "      <th>2</th>\n",
       "      <td>TISTUD-11</td>\n",
       "      <td>Create new JSON schema for SDK team</td>\n",
       "      <td>{html}&lt;div&gt;&lt;p&gt;Create JSON schema containing pr...</td>\n",
       "      <td>1</td>\n",
       "    </tr>\n",
       "    <tr>\n",
       "      <th>3</th>\n",
       "      <td>TISTUD-13</td>\n",
       "      <td>Create Project References Property Page</td>\n",
       "      <td>{html}&lt;div&gt;&lt;p&gt;Create property page for project...</td>\n",
       "      <td>1</td>\n",
       "    </tr>\n",
       "    <tr>\n",
       "      <th>4</th>\n",
       "      <td>TISTUD-16</td>\n",
       "      <td>New Desktop Project Wizard</td>\n",
       "      <td>{html}&lt;div&gt;&lt;p&gt;Desktop (need to convert existin...</td>\n",
       "      <td>1</td>\n",
       "    </tr>\n",
       "  </tbody>\n",
       "</table>\n",
       "</div>"
      ],
      "text/plain": [
       "    issuekey                                              title  \\\n",
       "0   TISTUD-6  Add CA against object literals in function inv...   \n",
       "1   TISTUD-9  Update branding for Appcelerator plugin to App...   \n",
       "2  TISTUD-11                Create new JSON schema for SDK team   \n",
       "3  TISTUD-13            Create Project References Property Page   \n",
       "4  TISTUD-16                         New Desktop Project Wizard   \n",
       "\n",
       "                                         description  storypoint  \n",
       "0  {html}<div><p>The idea here is that if our met...           1  \n",
       "1  {html}<div><p>At least fix feature icons, asso...           1  \n",
       "2  {html}<div><p>Create JSON schema containing pr...           1  \n",
       "3  {html}<div><p>Create property page for project...           1  \n",
       "4  {html}<div><p>Desktop (need to convert existin...           1  "
      ]
     },
     "execution_count": 4,
     "metadata": {},
     "output_type": "execute_result"
    }
   ],
   "source": [
    "df.head()"
   ]
  },
  {
   "cell_type": "code",
   "execution_count": 5,
   "metadata": {},
   "outputs": [
    {
     "data": {
      "text/plain": [
       "count    2876.000000\n",
       "mean        5.636300\n",
       "std         3.309936\n",
       "min         1.000000\n",
       "25%         3.000000\n",
       "50%         5.000000\n",
       "75%         8.000000\n",
       "max        40.000000\n",
       "Name: storypoint, dtype: float64"
      ]
     },
     "execution_count": 5,
     "metadata": {},
     "output_type": "execute_result"
    }
   ],
   "source": [
    "df.storypoint.describe()"
   ]
  },
  {
   "cell_type": "code",
   "execution_count": 6,
   "metadata": {},
   "outputs": [
    {
     "data": {
      "image/png": "[encoded data removed]",
      "text/plain": [
       "<Figure size 432x288 with 1 Axes>"
      ]
     },
     "metadata": {
      "needs_background": "light"
     },
     "output_type": "display_data"
    }
   ],
   "source": [
    "import matplotlib.pyplot as plt\n",
    " \n",
    "plt.hist(df.storypoint, bins=20, alpha=0.6, color='y')\n",
    "plt.title(\"#Items per Point\")\n",
    "plt.xlabel(\"Points\")\n",
    "plt.ylabel(\"Count\")\n",
    " \n",
    "plt.show()"
   ]
  },
  {
   "cell_type": "code",
   "execution_count": 7,
   "metadata": {},
   "outputs": [
    {
     "data": {
      "text/plain": [
       "storypoint\n",
       "1      148\n",
       "2      112\n",
       "3      571\n",
       "5     1126\n",
       "8      751\n",
       "9        1\n",
       "13     137\n",
       "20      22\n",
       "21       3\n",
       "34       1\n",
       "40       4\n",
       "dtype: int64"
      ]
     },
     "execution_count": 7,
     "metadata": {},
     "output_type": "execute_result"
    }
   ],
   "source": [
    "df.groupby('storypoint').size()"
   ]
  },
  {
   "cell_type": "markdown",
   "metadata": {},
   "source": [
    "### Data Preprocessing"
   ]
  },
  {
   "cell_type": "code",
   "execution_count": 8,
   "metadata": {},
   "outputs": [],
   "source": [
    "df.loc[df.storypoint <= 2, 'storypoint'] = 0 #small\n",
    "df.loc[(df.storypoint > 2) & (df.storypoint <= 5), 'storypoint'] = 1 #medium\n",
    "df.loc[df.storypoint > 5, 'storypoint'] = 2 #big"
   ]
  },
  {
   "cell_type": "code",
   "execution_count": 9,
   "metadata": {},
   "outputs": [
    {
     "data": {
      "text/plain": [
       "storypoint\n",
       "0     260\n",
       "1    1697\n",
       "2     919\n",
       "dtype: int64"
      ]
     },
     "execution_count": 9,
     "metadata": {},
     "output_type": "execute_result"
    }
   ],
   "source": [
    "df.groupby('storypoint').size()"
   ]
  },
  {
   "cell_type": "code",
   "execution_count": 10,
   "metadata": {},
   "outputs": [],
   "source": [
    "import re\n",
    "from nltk.corpus import stopwords\n",
    "\n",
    "#Clean operation\n",
    "#Remove english stop words and html tokens\n",
    "\n",
    "def cleanData(text):\n",
    "    #Remove all tags\n",
    "    text = re.compile(r'<.*?>').sub('', text)\n",
    "    #Remove web urls\n",
    "    text = re.compile(r'http\\S+').sub('', text)\n",
    "    #Remove {html} tag\n",
    "    text = text.replace('{html}', '')\n",
    "    \n",
    "    text_words = text.split()    \n",
    "    \n",
    "    resultwords  = [word for word in text_words if word not in stopwords.words('english')]\n",
    "    \n",
    "    if len(resultwords) > 0:\n",
    "        result = ' '.join(resultwords)\n",
    "    else:\n",
    "        print('Empty transformation for: ' + text)\n",
    "        \n",
    "    return result\n",
    "\n",
    "def formatFastTextClassifier(label):\n",
    "    return \"__label__\" + str(label) + \" \""
   ]
  },
  {
   "cell_type": "code",
   "execution_count": 11,
   "metadata": {},
   "outputs": [
    {
     "name": "stderr",
     "output_type": "stream",
     "text": [
      "[nltk_data] Downloading package stopwords to\n",
      "[nltk_data]     C:\\Users\\hawkp\\AppData\\Roaming\\nltk_data...\n",
      "[nltk_data]   Package stopwords is already up-to-date!\n"
     ]
    }
   ],
   "source": [
    "import nltk\n",
    "\n",
    "nltk.download('stopwords')\n",
    "\n",
    "df['title_desc'] = df['title'].str.lower() + ' - ' + df['description'].str.lower()\n",
    "df['label_title_desc'] = df['storypoint'].apply(lambda x: formatFastTextClassifier(x)) + df['title_desc'].apply(lambda x: cleanData(str(x)))\n",
    "\n",
    "df = df.reset_index(drop=True)"
   ]
  },
  {
   "cell_type": "code",
   "execution_count": 12,
   "metadata": {},
   "outputs": [],
   "source": [
    "from collections import Counter\n",
    "\n",
    "def SimpleOverSample(_xtrain, _ytrain):\n",
    "    xtrain = list(_xtrain)\n",
    "    ytrain = list(_ytrain)\n",
    "\n",
    "    samples_counter = Counter(ytrain)\n",
    "    max_samples = sorted(samples_counter.values(), reverse=True)[0]\n",
    "    for sc in samples_counter:\n",
    "        init_samples = samples_counter[sc]\n",
    "        samples_to_add = max_samples - init_samples\n",
    "        if samples_to_add > 0:\n",
    "            #collect indices to oversample for the current class\n",
    "            index = list()\n",
    "            for i in range(len(ytrain)):\n",
    "                if(ytrain[i] == sc):\n",
    "                    index.append(i)\n",
    "            #select samples to copy for the current class    \n",
    "            copy_from = [xtrain[i] for i in index]\n",
    "            index_copy = 0\n",
    "            for i in range(samples_to_add):\n",
    "                xtrain.append(copy_from[index_copy % len(copy_from)])\n",
    "                ytrain.append(sc)\n",
    "                index_copy += 1\n",
    "    return xtrain, ytrain"
   ]
  },
  {
   "cell_type": "code",
   "execution_count": 13,
   "metadata": {},
   "outputs": [
    {
     "data": {
      "image/png": "[encoded data removed]",
      "text/plain": [
       "<Figure size 432x288 with 1 Axes>"
      ]
     },
     "metadata": {
      "needs_background": "light"
     },
     "output_type": "display_data"
    }
   ],
   "source": [
    "df_oversampled = pd.DataFrame(df, columns=['label_title_desc','storypoint'])\n",
    "X_resampled, y_resampled =  SimpleOverSample(df_oversampled.label_title_desc.values.tolist(), df_oversampled.storypoint.values.tolist())\n",
    "\n",
    "plt.hist(y_resampled, bins=20, alpha=0.6, color='y')\n",
    "plt.title(\"#Items per Point\")\n",
    "plt.xlabel(\"Points\")\n",
    "plt.ylabel(\"Count\")\n",
    "plt.show()"
   ]
  },
  {
   "cell_type": "markdown",
   "metadata": {},
   "source": [
    "### Creating pretrained vectors"
   ]
  },
  {
   "cell_type": "code",
   "execution_count": 14,
   "metadata": {},
   "outputs": [],
   "source": [
    "root = '../IEEE TSE2018/pretrain data/'\n",
    "\n",
    "pretrain_files = ['apache_pretrain.csv', \n",
    "                  'jira_pretrain.csv', \n",
    "                  'spring_pretrain.csv', \n",
    "                  'talendforge_pretrain.csv', \n",
    "                  'moodle_pretrain.csv',\n",
    "                  'appcelerator_pretrain.csv',\n",
    "                  'duraspace_pretrain.csv',\n",
    "                  'mulesoft_pretrain.csv',\n",
    "                  'lsstcorp_pretrain.csv']\n",
    "\n",
    "pretrained = None\n",
    "\n",
    "for file in pretrain_files:\n",
    "    df_pretrain = pd.read_csv(root + file, usecols=['issuekey', 'title', 'description'])\n",
    "    if(pretrained is not None):\n",
    "        pretrained = pd.concat([pretrained, df_pretrain])\n",
    "    else:\n",
    "        pretrained = df_pretrain\n",
    "\n",
    "pretrained = pretrained.dropna(how='any')"
   ]
  },
  {
   "cell_type": "code",
   "execution_count": 15,
   "metadata": {},
   "outputs": [],
   "source": [
    "#pretrained['title_desc'] = (pretrained['title'].str.lower() + ' - ' + pretrained['description'].str.lower()).apply(lambda x: cleanData(str(x)))\n",
    "#pretrained.to_pickle('pretrained_df.pkl')\n",
    "pretrained = pd.read_pickle('pretrained_df.pkl')"
   ]
  },
  {
   "cell_type": "code",
   "execution_count": 16,
   "metadata": {},
   "outputs": [],
   "source": [
    "outfile=open(\"issues_pretrain.txt\", mode=\"w\", encoding=\"utf-8\")\n",
    "for line in pretrained.title_desc.values:\n",
    "    outfile.write(line + '\\n')\n",
    "outfile.close()"
   ]
  },
  {
   "cell_type": "code",
   "execution_count": 17,
   "metadata": {},
   "outputs": [],
   "source": [
    "import os\n",
    "\n",
    "#command = \"fasttext skipgram -input issues_pretrain.txt -output pretrained_model -epoch 100 -wordNgrams 4 -dim 300 -minn 4 -maxn 6 -lr 0.01\"\n",
    "#os.system(command)"
   ]
  },
  {
   "cell_type": "markdown",
   "metadata": {},
   "source": [
    "### Model Training and Results"
   ]
  },
  {
   "cell_type": "code",
   "execution_count": 18,
   "metadata": {},
   "outputs": [],
   "source": [
    "import uuid\n",
    "\n",
    "class FastTextClassifier:\n",
    "    \n",
    "    folderName = \"\"\n",
    "    trainFileName = \"\"\n",
    "    testFileName = \"\"\n",
    "    pretrainedModelName = \"\"\n",
    "    outputModelName = \"\"\n",
    "    outputFileName = \"\"\n",
    "    logFolderName = \"\"\n",
    "    \n",
    "    \n",
    "    def __init__(self):\n",
    "        self.rand = str(uuid.uuid4())\n",
    "        self.trainFileName = \"issues_train_\" + self.rand + \".txt\"\n",
    "        self.testFileName = \"issues_test_\" + self.rand + \".txt\"\n",
    "        self.pretrainedModelName = \"pretrained_model\" + \".vec\"\n",
    "        self.outputModelName = \"supervised_classifier_model_\" + self.rand\n",
    "        self.outputFileName = \"predicted_results_\" + self.rand + \".txt\"\n",
    "        self.logFolderName = \"logfiles_\" + self.rand\n",
    "        \n",
    "        command = \"mkdir \" + self.logFolderName\n",
    "        os.system(command)\n",
    "        \n",
    "    \n",
    "    def fit(self, xtrain, ytrain):\n",
    "        #log folder path\n",
    "        \n",
    "        trainFilePath = self.logFolderName + \"/\" +self.trainFileName\n",
    "        outputModelPath = self.logFolderName + \"/\" +self.outputModelName\n",
    "        \n",
    "        outfile=open(trainFilePath, mode=\"w\", encoding=\"utf-8\")\n",
    "        for i in range(len(xtrain)):\n",
    "            #line = \"__label__\" + str(ytrain[i]) + \" \" + xtrain[i]\n",
    "            line = xtrain[i]\n",
    "            outfile.write(line + '\\n')\n",
    "        outfile.close()            \n",
    "        \n",
    "        #fit data to model and save it\n",
    "        command = \"fasttext supervised -input \" + trainFilePath + \" -output \" + outputModelPath + \" -epoch 500 -wordNgrams 4 -dim 300 -minn 4 -maxn 6 -pretrainedVectors \" + self.pretrainedModelName\n",
    "        os.system(command)\n",
    "        \n",
    "        \n",
    "    def predict(self, xtest):\n",
    "        #log folder path\n",
    "        testFilePath = self.logFolderName + \"/\" +self.testFileName\n",
    "        outputFilePath = self.logFolderName + \"/\" +self.outputFileName\n",
    "        outputModelPath = self.logFolderName + \"/\" +self.outputModelName\n",
    "        \n",
    "        #save test file\n",
    "        outfile=open(testFilePath, mode=\"w\", encoding=\"utf-8\")\n",
    "        for i in range(len(xtest)):\n",
    "            outfile.write(xtest[i] + '\\n')\n",
    "        outfile.close()\n",
    "        \n",
    "        #get predictions     \n",
    "        command =  \"fasttext predict \" + outputModelPath + \".bin \" + testFilePath + \" > \" + outputFilePath\n",
    "        os.system(command)\n",
    "        \n",
    "        outfile=open(outputFilePath, mode=\"r\")\n",
    "        test_pred = [int(line.strip('_label\\r\\n')) for line in outfile.readlines()]\n",
    "        outfile.close()\n",
    "                \n",
    "        return test_pred"
   ]
  },
  {
   "cell_type": "code",
   "execution_count": 19,
   "metadata": {},
   "outputs": [],
   "source": [
    "def rebuild_kfold_sets(folds, k, i):\n",
    "    training_set = None\n",
    "    testing_set = None\n",
    "\n",
    "    for j in range(k):\n",
    "        if(i==j):\n",
    "            testing_set = folds[i]\n",
    "        elif(training_set is not None):\n",
    "            training_set = pd.concat([training_set, folds[j]])\n",
    "        else:\n",
    "            training_set = folds[j]\n",
    "    \n",
    "    return training_set, testing_set"
   ]
  },
  {
   "cell_type": "code",
   "execution_count": 20,
   "metadata": {},
   "outputs": [],
   "source": [
    "import itertools\n",
    "\n",
    "def plot_confusion_matrix(cm, classes,\n",
    "                          normalize=False,\n",
    "                          title='Confusion matrix',\n",
    "                          cmap=plt.cm.Blues):\n",
    "    \"\"\"\n",
    "    This function prints and plots the confusion matrix.\n",
    "    Normalization can be applied by setting `normalize=True`.\n",
    "    \"\"\"\n",
    "    if normalize:\n",
    "        cm = cm.astype('float') / cm.sum(axis=1)[:, np.newaxis]\n",
    "\n",
    "\n",
    "    plt.imshow(cm, interpolation='nearest', cmap=cmap)\n",
    "    plt.title(title)\n",
    "    plt.colorbar()\n",
    "    tick_marks = np.arange(len(classes))\n",
    "    plt.xticks(tick_marks, classes, rotation=45)\n",
    "    plt.yticks(tick_marks, classes)\n",
    "\n",
    "    fmt = '.2f' if normalize else 'd'\n",
    "    thresh = cm.max() / 2.\n",
    "    for i, j in itertools.product(range(cm.shape[0]), range(cm.shape[1])):\n",
    "        plt.text(j, i, format(cm[i, j], fmt),\n",
    "                 horizontalalignment=\"center\",\n",
    "                 color=\"white\" if cm[i, j] > thresh else \"black\")\n",
    "\n",
    "    plt.tight_layout()\n",
    "    plt.ylabel('True label')\n",
    "    plt.xlabel('Predicted label')\n",
    "    \n",
    "def plot_confusion_matrix_with_accuracy(classes, y_true, y_pred, title, sum_overall_accuracy, total_predictions):\n",
    "    cm = ConfusionMatrix(y_true, y_pred)\n",
    "    \n",
    "    print('Current Overall accuracy: ' + str(cm.stats()['overall']['Accuracy']))\n",
    "    if total_predictions != 0:\n",
    "        print('Total Overall Accuracy: ' + str(sum_overall_accuracy/total_predictions))\n",
    "    else:\n",
    "        print('Total Overall Accuracy: ' + str(cm.stats()['overall']['Accuracy']))\n",
    "\n",
    "    conf_matrix = confusion_matrix(y_true, y_pred)\n",
    "    plt.figure()\n",
    "    plot_confusion_matrix(conf_matrix, classes=classes, title=title)\n",
    "    plt.show()"
   ]
  },
  {
   "cell_type": "code",
   "execution_count": 21,
   "metadata": {},
   "outputs": [
    {
     "name": "stderr",
     "output_type": "stream",
     "text": [
      "C:\\Users\\hawkp\\anaconda3\\lib\\site-packages\\pandas_ml\\confusion_matrix\\stats.py:60: FutureWarning: supplying multiple axes to axis is deprecated and will be removed in a future version.\n",
      "  num = df[df > 1].dropna(axis=[0, 1], thresh=1).applymap(lambda n: choose(n, 2)).sum().sum() - np.float64(nis2 * njs2) / n2\n"
     ]
    },
    {
     "name": "stdout",
     "output_type": "stream",
     "text": [
      "Current Overall accuracy: 0.6469565217391304\n",
      "Total Overall Accuracy: 0.6469565217391304\n"
     ]
    },
    {
     "data": {
      "image/png": "[encoded data removed]",
      "text/plain": [
       "<Figure size 432x288 with 2 Axes>"
      ]
     },
     "metadata": {
      "needs_background": "light"
     },
     "output_type": "display_data"
    },
    {
     "name": "stderr",
     "output_type": "stream",
     "text": [
      "C:\\Users\\hawkp\\anaconda3\\lib\\site-packages\\pandas_ml\\confusion_matrix\\stats.py:60: FutureWarning: supplying multiple axes to axis is deprecated and will be removed in a future version.\n",
      "  num = df[df > 1].dropna(axis=[0, 1], thresh=1).applymap(lambda n: choose(n, 2)).sum().sum() - np.float64(nis2 * njs2) / n2\n"
     ]
    },
    {
     "name": "stdout",
     "output_type": "stream",
     "text": [
      "Current Overall accuracy: 0.6365217391304347\n",
      "Total Overall Accuracy: 0.6417391304347826\n"
     ]
    },
    {
     "data": {
      "image/png": "[encoded data removed]",
      "text/plain": [
       "<Figure size 432x288 with 2 Axes>"
      ]
     },
     "metadata": {
      "needs_background": "light"
     },
     "output_type": "display_data"
    },
    {
     "name": "stdout",
     "output_type": "stream",
     "text": [
      "Current Overall accuracy: 0.6069565217391304\n",
      "Total Overall Accuracy: 0.6301449275362319\n"
     ]
    },
    {
     "name": "stderr",
     "output_type": "stream",
     "text": [
      "C:\\Users\\hawkp\\anaconda3\\lib\\site-packages\\pandas_ml\\confusion_matrix\\stats.py:60: FutureWarning: supplying multiple axes to axis is deprecated and will be removed in a future version.\n",
      "  num = df[df > 1].dropna(axis=[0, 1], thresh=1).applymap(lambda n: choose(n, 2)).sum().sum() - np.float64(nis2 * njs2) / n2\n"
     ]
    },
    {
     "data": {
      "image/png": "[encoded data removed]",
      "text/plain": [
       "<Figure size 432x288 with 2 Axes>"
      ]
     },
     "metadata": {
      "needs_background": "light"
     },
     "output_type": "display_data"
    },
    {
     "name": "stderr",
     "output_type": "stream",
     "text": [
      "C:\\Users\\hawkp\\anaconda3\\lib\\site-packages\\pandas_ml\\confusion_matrix\\stats.py:60: FutureWarning: supplying multiple axes to axis is deprecated and will be removed in a future version.\n",
      "  num = df[df > 1].dropna(axis=[0, 1], thresh=1).applymap(lambda n: choose(n, 2)).sum().sum() - np.float64(nis2 * njs2) / n2\n"
     ]
    },
    {
     "name": "stdout",
     "output_type": "stream",
     "text": [
      "Current Overall accuracy: 0.6121739130434782\n",
      "Total Overall Accuracy: 0.6256521739130435\n"
     ]
    },
    {
     "data": {
      "image/png": "[encoded data removed]",
      "text/plain": [
       "<Figure size 432x288 with 2 Axes>"
      ]
     },
     "metadata": {
      "needs_background": "light"
     },
     "output_type": "display_data"
    },
    {
     "name": "stderr",
     "output_type": "stream",
     "text": [
      "C:\\Users\\hawkp\\anaconda3\\lib\\site-packages\\pandas_ml\\confusion_matrix\\stats.py:60: FutureWarning: supplying multiple axes to axis is deprecated and will be removed in a future version.\n",
      "  num = df[df > 1].dropna(axis=[0, 1], thresh=1).applymap(lambda n: choose(n, 2)).sum().sum() - np.float64(nis2 * njs2) / n2\n"
     ]
    },
    {
     "name": "stdout",
     "output_type": "stream",
     "text": [
      "Current Overall accuracy: 0.6139130434782609\n",
      "Total Overall Accuracy: 0.6233043478260869\n"
     ]
    },
    {
     "data": {
      "image/png": "[encoded data removed]",
      "text/plain": [
       "<Figure size 432x288 with 2 Axes>"
      ]
     },
     "metadata": {
      "needs_background": "light"
     },
     "output_type": "display_data"
    }
   ],
   "source": [
    "from sklearn.metrics import confusion_matrix\n",
    "from pandas_ml import ConfusionMatrix\n",
    "\n",
    "# K-folds cross validation\n",
    "# K=5 or K=10 are generally used. \n",
    "# Note that the overall execution time increases linearly with k\n",
    "k = 5\n",
    "\n",
    "# Define the classes for the classifier\n",
    "classes = ['0','1','2']\n",
    "\n",
    "# Make Dataset random before start\n",
    "df_rand = df.sample(df.storypoint.count(), random_state=99)\n",
    "\n",
    "# Make datafrane to save results\n",
    "results = pd.DataFrame(columns=['True_Classes', 'Predicted_Classes'])\n",
    "\n",
    "# Number of examples in each fold\n",
    "fsamples =  int(df_rand.storypoint.count() / k)\n",
    "\n",
    "# Fill folds (obs: last folder could contain less than fsamples datapoints)\n",
    "folds = list()\n",
    "for i in range(k):\n",
    "    folds.append(df_rand.iloc[i * fsamples : (i + 1) * fsamples])\n",
    "        \n",
    "# Init\n",
    "sum_overall_accuracy = 0\n",
    "total_predictions = 0\n",
    "\n",
    "# Repeat k times and average results\n",
    "for i in range(k):\n",
    "    \n",
    "    #1 - Build new training and testing set for iteration i\n",
    "    training_set, testing_set  = rebuild_kfold_sets(folds, k, i)\n",
    "    y_true = testing_set.storypoint.tolist()\n",
    "\n",
    "    #2 - Oversample (ONLY TRAINING DATA)\n",
    "    X_resampled, y_resampled =  SimpleOverSample(training_set.label_title_desc.values.tolist(), training_set.storypoint.values.tolist())\n",
    "    \n",
    "    #3 - train\n",
    "    clf = FastTextClassifier()\n",
    "    clf.fit(X_resampled, y_resampled)\n",
    "    \n",
    "    #4 - Predict\n",
    "    y_pred = clf.predict(testing_set.label_title_desc.values.tolist())\n",
    "    \n",
    "    #3 - Update Overall Accuracy\n",
    "    for num_pred in range(len(y_pred)):\n",
    "        if(y_pred[num_pred] == y_true[num_pred]):\n",
    "            sum_overall_accuracy += 1\n",
    "        total_predictions += 1\n",
    "\n",
    "    #4 - Plot Confusion Matrix and accuracy \n",
    "    plot_confusion_matrix_with_accuracy(classes, y_true, y_pred, 'Confusion matrix (testing-set folder = ' + str(i) + ')', sum_overall_accuracy, total_predictions)\n",
    "    \n",
    "    #5 - Save true and predicted labels in results dataframe\n",
    "    results = results.append(pd.concat([pd.DataFrame({'True_Classes':y_true}), pd.DataFrame({'Predicted_Classes':y_pred})], axis=1))\n",
    "    \n",
    "# Save the results to .pkl file\n",
    "results.reset_index()\n",
    "results.to_pickle('appceleratorstudio_results.pkl') "
   ]
  },
  {
   "cell_type": "code",
   "execution_count": 22,
   "metadata": {},
   "outputs": [],
   "source": [
    "y_true = results['True_Classes'].tolist()\n",
    "y_pred = results['Predicted_Classes'].tolist()"
   ]
  },
  {
   "cell_type": "code",
   "execution_count": null,
   "metadata": {},
   "outputs": [],
   "source": []
  },
  {
   "cell_type": "code",
   "execution_count": 23,
   "metadata": {},
   "outputs": [
    {
     "data": {
      "image/png": "[encoded data removed]",
      "text/plain": [
       "<Figure size 432x288 with 3 Axes>"
      ]
     },
     "metadata": {
      "needs_background": "light"
     },
     "output_type": "display_data"
    }
   ],
   "source": [
    "from statsmodels.graphics import mosaicplot\n",
    "\n",
    "mosaicplot.mosaic(data=results, index=['True_Classes','Predicted_Classes'], title='Mosaic Plot')\n",
    "plt.show()"
   ]
  },
  {
   "cell_type": "code",
   "execution_count": 24,
   "metadata": {},
   "outputs": [
    {
     "data": {
      "image/png": "[encoded data removed]",
      "text/plain": [
       "<Figure size 432x288 with 2 Axes>"
      ]
     },
     "metadata": {
      "needs_background": "light"
     },
     "output_type": "display_data"
    },
    {
     "name": "stdout",
     "output_type": "stream",
     "text": [
      "Cohen's Kappa value:  0.2800079638767429\n"
     ]
    },
    {
     "name": "stderr",
     "output_type": "stream",
     "text": [
      "C:\\Users\\hawkp\\anaconda3\\lib\\site-packages\\pandas_ml\\confusion_matrix\\stats.py:60: FutureWarning: supplying multiple axes to axis is deprecated and will be removed in a future version.\n",
      "  num = df[df > 1].dropna(axis=[0, 1], thresh=1).applymap(lambda n: choose(n, 2)).sum().sum() - np.float64(nis2 * njs2) / n2\n"
     ]
    }
   ],
   "source": [
    "cm = ConfusionMatrix(y_true, y_pred)\n",
    "conf_matrix = confusion_matrix(y_true, y_pred)\n",
    "plt.figure()\n",
    "plot_confusion_matrix(conf_matrix, classes=classes, title='Confusion Matrix (Overall)')\n",
    "plt.show()\n",
    "\n",
    "print('Cohen\\'s Kappa value: ', cm.stats()['overall']['Kappa'])"
   ]
  },
  {
   "cell_type": "code",
   "execution_count": 25,
   "metadata": {},
   "outputs": [
    {
     "data": {
      "text/html": [
       "<div>\n",
       "<style scoped>\n",
       "    .dataframe tbody tr th:only-of-type {\n",
       "        vertical-align: middle;\n",
       "    }\n",
       "\n",
       "    .dataframe tbody tr th {\n",
       "        vertical-align: top;\n",
       "    }\n",
       "\n",
       "    .dataframe thead th {\n",
       "        text-align: right;\n",
       "    }\n",
       "</style>\n",
       "<table border=\"1\" class=\"dataframe\">\n",
       "  <thead>\n",
       "    <tr style=\"text-align: right;\">\n",
       "      <th>Classes</th>\n",
       "      <th>0</th>\n",
       "      <th>1</th>\n",
       "      <th>2</th>\n",
       "    </tr>\n",
       "  </thead>\n",
       "  <tbody>\n",
       "    <tr>\n",
       "      <th>Population</th>\n",
       "      <td>2875</td>\n",
       "      <td>2875</td>\n",
       "      <td>2875</td>\n",
       "    </tr>\n",
       "    <tr>\n",
       "      <th>P: Condition positive</th>\n",
       "      <td>260</td>\n",
       "      <td>1696</td>\n",
       "      <td>919</td>\n",
       "    </tr>\n",
       "    <tr>\n",
       "      <th>N: Condition negative</th>\n",
       "      <td>2615</td>\n",
       "      <td>1179</td>\n",
       "      <td>1956</td>\n",
       "    </tr>\n",
       "    <tr>\n",
       "      <th>Test outcome positive</th>\n",
       "      <td>150</td>\n",
       "      <td>1799</td>\n",
       "      <td>926</td>\n",
       "    </tr>\n",
       "    <tr>\n",
       "      <th>Test outcome negative</th>\n",
       "      <td>2725</td>\n",
       "      <td>1076</td>\n",
       "      <td>1949</td>\n",
       "    </tr>\n",
       "    <tr>\n",
       "      <th>TP: True Positive</th>\n",
       "      <td>62</td>\n",
       "      <td>1249</td>\n",
       "      <td>481</td>\n",
       "    </tr>\n",
       "    <tr>\n",
       "      <th>TN: True Negative</th>\n",
       "      <td>2527</td>\n",
       "      <td>629</td>\n",
       "      <td>1511</td>\n",
       "    </tr>\n",
       "    <tr>\n",
       "      <th>FP: False Positive</th>\n",
       "      <td>88</td>\n",
       "      <td>550</td>\n",
       "      <td>445</td>\n",
       "    </tr>\n",
       "    <tr>\n",
       "      <th>FN: False Negative</th>\n",
       "      <td>198</td>\n",
       "      <td>447</td>\n",
       "      <td>438</td>\n",
       "    </tr>\n",
       "    <tr>\n",
       "      <th>TPR: (Sensitivity, hit rate, recall)</th>\n",
       "      <td>0.238462</td>\n",
       "      <td>0.736439</td>\n",
       "      <td>0.523395</td>\n",
       "    </tr>\n",
       "    <tr>\n",
       "      <th>TNR=SPC: (Specificity)</th>\n",
       "      <td>0.966348</td>\n",
       "      <td>0.533503</td>\n",
       "      <td>0.772495</td>\n",
       "    </tr>\n",
       "    <tr>\n",
       "      <th>PPV: Pos Pred Value (Precision)</th>\n",
       "      <td>0.413333</td>\n",
       "      <td>0.694275</td>\n",
       "      <td>0.519438</td>\n",
       "    </tr>\n",
       "    <tr>\n",
       "      <th>NPV: Neg Pred Value</th>\n",
       "      <td>0.927339</td>\n",
       "      <td>0.584572</td>\n",
       "      <td>0.775269</td>\n",
       "    </tr>\n",
       "    <tr>\n",
       "      <th>FPR: False-out</th>\n",
       "      <td>0.033652</td>\n",
       "      <td>0.466497</td>\n",
       "      <td>0.227505</td>\n",
       "    </tr>\n",
       "    <tr>\n",
       "      <th>FDR: False Discovery Rate</th>\n",
       "      <td>0.586667</td>\n",
       "      <td>0.305725</td>\n",
       "      <td>0.480562</td>\n",
       "    </tr>\n",
       "    <tr>\n",
       "      <th>FNR: Miss Rate</th>\n",
       "      <td>0.761538</td>\n",
       "      <td>0.263561</td>\n",
       "      <td>0.476605</td>\n",
       "    </tr>\n",
       "    <tr>\n",
       "      <th>ACC: Accuracy</th>\n",
       "      <td>0.900522</td>\n",
       "      <td>0.653217</td>\n",
       "      <td>0.69287</td>\n",
       "    </tr>\n",
       "    <tr>\n",
       "      <th>F1 score</th>\n",
       "      <td>0.302439</td>\n",
       "      <td>0.714735</td>\n",
       "      <td>0.521409</td>\n",
       "    </tr>\n",
       "    <tr>\n",
       "      <th>MCC: Matthews correlation coefficient</th>\n",
       "      <td>0.264146</td>\n",
       "      <td>0.274358</td>\n",
       "      <td>0.295298</td>\n",
       "    </tr>\n",
       "    <tr>\n",
       "      <th>Informedness</th>\n",
       "      <td>0.20481</td>\n",
       "      <td>0.269942</td>\n",
       "      <td>0.29589</td>\n",
       "    </tr>\n",
       "    <tr>\n",
       "      <th>Markedness</th>\n",
       "      <td>0.340673</td>\n",
       "      <td>0.278847</td>\n",
       "      <td>0.294708</td>\n",
       "    </tr>\n",
       "    <tr>\n",
       "      <th>Prevalence</th>\n",
       "      <td>0.0904348</td>\n",
       "      <td>0.589913</td>\n",
       "      <td>0.319652</td>\n",
       "    </tr>\n",
       "    <tr>\n",
       "      <th>LR+: Positive likelihood ratio</th>\n",
       "      <td>7.0861</td>\n",
       "      <td>1.57866</td>\n",
       "      <td>2.30059</td>\n",
       "    </tr>\n",
       "    <tr>\n",
       "      <th>LR-: Negative likelihood ratio</th>\n",
       "      <td>0.788058</td>\n",
       "      <td>0.49402</td>\n",
       "      <td>0.616968</td>\n",
       "    </tr>\n",
       "    <tr>\n",
       "      <th>DOR: Diagnostic odds ratio</th>\n",
       "      <td>8.99185</td>\n",
       "      <td>3.19553</td>\n",
       "      <td>3.72885</td>\n",
       "    </tr>\n",
       "    <tr>\n",
       "      <th>FOR: False omission rate</th>\n",
       "      <td>0.0726606</td>\n",
       "      <td>0.415428</td>\n",
       "      <td>0.224731</td>\n",
       "    </tr>\n",
       "  </tbody>\n",
       "</table>\n",
       "</div>"
      ],
      "text/plain": [
       "Classes                                        0         1         2\n",
       "Population                                  2875      2875      2875\n",
       "P: Condition positive                        260      1696       919\n",
       "N: Condition negative                       2615      1179      1956\n",
       "Test outcome positive                        150      1799       926\n",
       "Test outcome negative                       2725      1076      1949\n",
       "TP: True Positive                             62      1249       481\n",
       "TN: True Negative                           2527       629      1511\n",
       "FP: False Positive                            88       550       445\n",
       "FN: False Negative                           198       447       438\n",
       "TPR: (Sensitivity, hit rate, recall)    0.238462  0.736439  0.523395\n",
       "TNR=SPC: (Specificity)                  0.966348  0.533503  0.772495\n",
       "PPV: Pos Pred Value (Precision)         0.413333  0.694275  0.519438\n",
       "NPV: Neg Pred Value                     0.927339  0.584572  0.775269\n",
       "FPR: False-out                          0.033652  0.466497  0.227505\n",
       "FDR: False Discovery Rate               0.586667  0.305725  0.480562\n",
       "FNR: Miss Rate                          0.761538  0.263561  0.476605\n",
       "ACC: Accuracy                           0.900522  0.653217   0.69287\n",
       "F1 score                                0.302439  0.714735  0.521409\n",
       "MCC: Matthews correlation coefficient   0.264146  0.274358  0.295298\n",
       "Informedness                             0.20481  0.269942   0.29589\n",
       "Markedness                              0.340673  0.278847  0.294708\n",
       "Prevalence                             0.0904348  0.589913  0.319652\n",
       "LR+: Positive likelihood ratio            7.0861   1.57866   2.30059\n",
       "LR-: Negative likelihood ratio          0.788058   0.49402  0.616968\n",
       "DOR: Diagnostic odds ratio               8.99185   3.19553   3.72885\n",
       "FOR: False omission rate               0.0726606  0.415428  0.224731"
      ]
     },
     "execution_count": 25,
     "metadata": {},
     "output_type": "execute_result"
    }
   ],
   "source": [
    "cm.stats()['class']"
   ]
  },
  {
   "cell_type": "code",
   "execution_count": 26,
   "metadata": {},
   "outputs": [
    {
     "name": "stdout",
     "output_type": "stream",
     "text": [
      "Scores:\n",
      "Precision for classes ['0', '1', '2']: [0.41333333 0.6942746  0.51943844]\n",
      "Recall for classes ['0', '1', '2']: [0.23846154 0.73643868 0.52339499]\n",
      "F-Score for classes ['0', '1', '2']: [0.30243902 0.71473534 0.52140921]\n",
      "Prediction count for classes ['0', '1', '2']: [ 260 1696  919]\n"
     ]
    }
   ],
   "source": [
    "from sklearn.metrics import precision_recall_fscore_support\n",
    "\n",
    "scores = precision_recall_fscore_support(y_true, y_pred)\n",
    "print('Scores:')\n",
    "print('Precision for classes {}: {}'.format(classes,scores[0]))\n",
    "print('Recall for classes {}: {}'.format(classes,scores[1]))\n",
    "print('F-Score for classes {}: {}'.format(classes,scores[2]))\n",
    "print('Prediction count for classes {}: {}'.format(classes,scores[3]))"
   ]
  },
  {
   "cell_type": "code",
   "execution_count": 8,
   "metadata": {},
   "outputs": [
    {
     "name": "stdout",
     "output_type": "stream",
     "text": [
      "Requirement already satisfied: numpy in c:\\users\\abhishek sharma\\appdata\\roaming\\python\\python37\\site-packages (1.19.5)\n",
      "Note: you may need to restart the kernel to use updated packages.\n"
     ]
    }
   ],
   "source": [
    "pip install numpy"
   ]
  },
  {
   "cell_type": "code",
   "execution_count": 1,
   "metadata": {},
   "outputs": [],
   "source": [
    "import time\n",
    "import datetime"
   ]
  },
  {
   "cell_type": "code",
   "execution_count": 15,
   "metadata": {},
   "outputs": [
    {
     "name": "stdout",
     "output_type": "stream",
     "text": [
      "20210417-220406\n"
     ]
    },
    {
     "data": {
      "text/plain": [
       "str"
      ]
     },
     "execution_count": 15,
     "metadata": {},
     "output_type": "execute_result"
    }
   ],
   "source": [
    "import time\n",
    "itimestr = str(time.strftime(\"%Y%m%d-%H%M%S\"))\n",
    "print (itimestr)\n",
    "type(itimestr)"
   ]
  },
  {
   "cell_type": "markdown",
   "metadata": {},
   "source": [
    "End of Notebook"
   ]
  },
  {
   "cell_type": "code",
   "execution_count": 29,
   "metadata": {},
   "outputs": [],
   "source": [
    "import pandas as pd"
   ]
  },
  {
   "cell_type": "code",
   "execution_count": 30,
   "metadata": {},
   "outputs": [],
   "source": [
    "df=pd.DataFrame(columns={\"m\"})"
   ]
  },
  {
   "cell_type": "code",
   "execution_count": 31,
   "metadata": {},
   "outputs": [],
   "source": [
    "value1=\"cool\""
   ]
  },
  {
   "cell_type": "code",
   "execution_count": 35,
   "metadata": {},
   "outputs": [
    {
     "data": {
      "text/html": [
       "<div>\n",
       "<style scoped>\n",
       "    .dataframe tbody tr th:only-of-type {\n",
       "        vertical-align: middle;\n",
       "    }\n",
       "\n",
       "    .dataframe tbody tr th {\n",
       "        vertical-align: top;\n",
       "    }\n",
       "\n",
       "    .dataframe thead th {\n",
       "        text-align: right;\n",
       "    }\n",
       "</style>\n",
       "<table border=\"1\" class=\"dataframe\">\n",
       "  <thead>\n",
       "    <tr style=\"text-align: right;\">\n",
       "      <th></th>\n",
       "      <th>m</th>\n",
       "      <th>cool</th>\n",
       "    </tr>\n",
       "  </thead>\n",
       "  <tbody>\n",
       "    <tr>\n",
       "      <th>0</th>\n",
       "      <td>NaN</td>\n",
       "      <td>cool</td>\n",
       "    </tr>\n",
       "    <tr>\n",
       "      <th>1</th>\n",
       "      <td>NaN</td>\n",
       "      <td>{cool, 2, 1}</td>\n",
       "    </tr>\n",
       "    <tr>\n",
       "      <th>2</th>\n",
       "      <td>NaN</td>\n",
       "      <td>[cool, 1, 2]</td>\n",
       "    </tr>\n",
       "  </tbody>\n",
       "</table>\n",
       "</div>"
      ],
      "text/plain": [
       "     m          cool\n",
       "0  NaN          cool\n",
       "1  NaN  {cool, 2, 1}\n",
       "2  NaN  [cool, 1, 2]"
      ]
     },
     "execution_count": 35,
     "metadata": {},
     "output_type": "execute_result"
    }
   ],
   "source": [
    "df=df.append({\"cool\":[\"cool\",\"1\",\"2\"]},ignore_index=True)\n",
    "df.head()"
   ]
  },
  {
   "cell_type": "code",
   "execution_count": 3,
   "metadata": {},
   "outputs": [],
   "source": [
    "import pandas as pd\n",
    "import numpy as np\n",
    "import matplotlib.pyplot as plt"
   ]
  },
  {
   "cell_type": "code",
   "execution_count": 6,
   "metadata": {},
   "outputs": [],
   "source": [
    "from sklearn.metrics import confusion_matrix\n",
    "#from pandas_ml import ConfusionMatrix"
   ]
  },
  {
   "cell_type": "code",
   "execution_count": 7,
   "metadata": {},
   "outputs": [],
   "source": [
    "y_true= [1, 2, 1, 1, 1, 1, 1, 2, 1, 1, 1, 0, 1, 1, 2, 1, 2, 0, 1, 1, 1, 2, 1, 1, 1, 2, 1, 1, 1, 2, 1, 2, 1, 1, 1, 1, 0, 1, 1, 1, 1, 1, 1, 0, 1, 2, 1, 1, 1, 1, 2, 1, 1, 1, 1, 1, 1, 1, 1, 1, 1, 2, 1, 1, 1, 2, 1, 1, 1, 1, 1, 1, 1, 1, 1, 1, 1, 1, 2, 1, 2, 2, 1, 1, 2, 1, 1, 1, 1, 1, 1, 1, 1, 0, 2, 0, 1, 1, 1, 1, 1, 1, 1, 2, 1, 1, 2, 0, 1, 1, 1, 1, 1, 1, 1, 1, 1, 1, 1, 0, 1, 1, 2, 2, 1, 0, 1, 1, 1, 1, 1, 1, 1, 1, 1, 1, 2, 1, 1, 1, 2, 1, 2, 1, 2, 2, 1, 1, 1, 1, 1, 1, 1, 1, 1, 1, 1, 1, 1, 1, 1, 1, 1, 1, 1, 1, 1, 2, 1, 1, 1, 1, 1, 1, 1, 1, 1, 1, 2, 1, 2, 2, 1, 2, 1, 1, 2, 1, 1, 1]\n",
    "y_pred=  [1, 1, 1, 1, 1, 1, 1, 1, 1, 1, 1, 1, 1, 1, 1, 1, 1, 1, 1, 0, 1, 2, 1, 1, 1, 1, 1, 1, 1, 2, 1, 1, 1, 1, 1, 1, 1, 1, 1, 1, 1, 1, 1, 1, 1, 1, 1, 1, 1, 1, 1, 1, 1, 1, 1, 1, 1, 1, 1, 1, 1, 1, 1, 1, 1, 1, 1, 1, 1, 1, 1, 1, 1, 1, 1, 1, 0, 1, 1, 1, 1, 1, 1, 1, 1, 1, 1, 1, 1, 1, 1, 1, 1, 1, 1, 1, 1, 1, 1, 1, 1, 1, 1, 2, 1, 1, 1, 1, 1, 1, 1, 1, 1, 1, 1, 1, 1, 1, 1, 1, 1, 1, 2, 1, 1, 1, 1, 2, 1, 1, 1, 0, 1, 1, 1, 1, 1, 1, 1, 1, 1, 1, 2, 1, 1, 1, 1, 1, 1, 1, 1, 1, 1, 1, 1, 1, 1, 1, 1, 1, 1, 1, 1, 1, 1, 1, 1, 1, 1, 1, 1, 1, 1, 1, 1, 1, 2, 1, 1, 1, 1, 2, 1, 1, 1, 2, 1, 1, 1, 1]"
   ]
  },
  {
   "cell_type": "code",
   "execution_count": 8,
   "metadata": {},
   "outputs": [],
   "source": [
    "def plot_confusion_matrix(cm, classes,\n",
    "                          normalize=True,\n",
    "                          title='Confusion matrix',\n",
    "                          cmap=plt.cm.Blues):\n",
    "    \"\"\"\n",
    "    This function prints and plots the confusion matrix.\n",
    "    Normalization can be applied by setting `normalize=True`.\n",
    "    \"\"\"\n",
    "    if normalize:\n",
    "        cm = cm.astype('float') / cm.sum(axis=1)[:, np.newaxis]\n",
    "\n",
    "\n",
    "    plt.imshow(cm, interpolation='nearest', cmap=cmap)\n",
    "    plt.title(title)\n",
    "    plt.colorbar()\n",
    "    tick_marks = np.arange(len(classes))\n",
    "    plt.xticks(tick_marks, classes, rotation=45)\n",
    "    plt.yticks(tick_marks, classes)\n",
    "\n",
    "    fmt = '.2f' if normalize else 'd'\n",
    "    thresh = cm.max() / 2.\n",
    "    for i, j in itertools.product(range(cm.shape[0]), range(cm.shape[1])):\n",
    "        plt.text(j, i, format(cm[i, j], fmt),\n",
    "                 horizontalalignment=\"center\",\n",
    "                 color=\"white\" if cm[i, j] > thresh else \"black\")\n",
    "\n",
    "    plt.tight_layout()\n",
    "    plt.ylabel('True label')\n",
    "    plt.xlabel('Predicted label')"
   ]
  },
  {
   "cell_type": "code",
   "execution_count": 9,
   "metadata": {},
   "outputs": [
    {
     "data": {
      "image/png": "[encoded data removed]",
      "text/plain": [
       "<Figure size 432x288 with 2 Axes>"
      ]
     },
     "metadata": {
      "needs_background": "light"
     },
     "output_type": "display_data"
    }
   ],
   "source": [
    "import itertools\n",
    "classes=['0','1','2']\n",
    "title=\"confusion matrix\"\n",
    "#cm = ConfusionMatrix(y_true, y_pred)\n",
    "conf_matrix = confusion_matrix(y_true, y_pred)\n",
    "#plt.figure()\n",
    "plot_confusion_matrix(conf_matrix, classes=classes, title='Confusion Matrix (Overall)')\n",
    "#plt.show()"
   ]
  },
  {
   "cell_type": "code",
   "execution_count": 15,
   "metadata": {},
   "outputs": [],
   "source": [
    "import sklearn\n",
    "from sklearn.metrics import roc_curve,auc\n",
    "from sklearn.metrics import roc_auc_score"
   ]
  },
  {
   "cell_type": "code",
   "execution_count": 17,
   "metadata": {},
   "outputs": [
    {
     "ename": "AxisError",
     "evalue": "axis 1 is out of bounds for array of dimension 1",
     "output_type": "error",
     "traceback": [
      "\u001b[1;31m---------------------------------------------------------------------------\u001b[0m",
      "\u001b[1;31mAxisError\u001b[0m                                 Traceback (most recent call last)",
      "\u001b[1;32m<ipython-input-17-8296c22be2dd>\u001b[0m in \u001b[0;36m<module>\u001b[1;34m\u001b[0m\n\u001b[0;32m     11\u001b[0m plt.show()'''\n\u001b[0;32m     12\u001b[0m \u001b[1;33m\u001b[0m\u001b[0m\n\u001b[1;32m---> 13\u001b[1;33m \u001b[0mauc_multi\u001b[0m\u001b[1;33m=\u001b[0m\u001b[0mroc_auc_score\u001b[0m\u001b[1;33m(\u001b[0m\u001b[0my_true\u001b[0m\u001b[1;33m,\u001b[0m\u001b[0my_pred\u001b[0m\u001b[1;33m,\u001b[0m\u001b[0mmulti_class\u001b[0m\u001b[1;33m=\u001b[0m\u001b[1;34m\"ovr\"\u001b[0m\u001b[1;33m)\u001b[0m\u001b[1;33m\u001b[0m\u001b[1;33m\u001b[0m\u001b[0m\n\u001b[0m\u001b[0;32m     14\u001b[0m \u001b[0mprint\u001b[0m\u001b[1;33m(\u001b[0m\u001b[0mauc_multi\u001b[0m\u001b[1;33m)\u001b[0m\u001b[1;33m\u001b[0m\u001b[1;33m\u001b[0m\u001b[0m\n",
      "\u001b[1;32mC:\\ProgramData\\Anaconda3\\lib\\site-packages\\sklearn\\utils\\validation.py\u001b[0m in \u001b[0;36minner_f\u001b[1;34m(*args, **kwargs)\u001b[0m\n\u001b[0;32m     61\u001b[0m             \u001b[0mextra_args\u001b[0m \u001b[1;33m=\u001b[0m \u001b[0mlen\u001b[0m\u001b[1;33m(\u001b[0m\u001b[0margs\u001b[0m\u001b[1;33m)\u001b[0m \u001b[1;33m-\u001b[0m \u001b[0mlen\u001b[0m\u001b[1;33m(\u001b[0m\u001b[0mall_args\u001b[0m\u001b[1;33m)\u001b[0m\u001b[1;33m\u001b[0m\u001b[1;33m\u001b[0m\u001b[0m\n\u001b[0;32m     62\u001b[0m             \u001b[1;32mif\u001b[0m \u001b[0mextra_args\u001b[0m \u001b[1;33m<=\u001b[0m \u001b[1;36m0\u001b[0m\u001b[1;33m:\u001b[0m\u001b[1;33m\u001b[0m\u001b[1;33m\u001b[0m\u001b[0m\n\u001b[1;32m---> 63\u001b[1;33m                 \u001b[1;32mreturn\u001b[0m \u001b[0mf\u001b[0m\u001b[1;33m(\u001b[0m\u001b[1;33m*\u001b[0m\u001b[0margs\u001b[0m\u001b[1;33m,\u001b[0m \u001b[1;33m**\u001b[0m\u001b[0mkwargs\u001b[0m\u001b[1;33m)\u001b[0m\u001b[1;33m\u001b[0m\u001b[1;33m\u001b[0m\u001b[0m\n\u001b[0m\u001b[0;32m     64\u001b[0m \u001b[1;33m\u001b[0m\u001b[0m\n\u001b[0;32m     65\u001b[0m             \u001b[1;31m# extra_args > 0\u001b[0m\u001b[1;33m\u001b[0m\u001b[1;33m\u001b[0m\u001b[1;33m\u001b[0m\u001b[0m\n",
      "\u001b[1;32mC:\\ProgramData\\Anaconda3\\lib\\site-packages\\sklearn\\metrics\\_ranking.py\u001b[0m in \u001b[0;36mroc_auc_score\u001b[1;34m(y_true, y_score, average, sample_weight, max_fpr, multi_class, labels)\u001b[0m\n\u001b[0;32m    536\u001b[0m             \u001b[1;32mraise\u001b[0m \u001b[0mValueError\u001b[0m\u001b[1;33m(\u001b[0m\u001b[1;34m\"multi_class must be in ('ovo', 'ovr')\"\u001b[0m\u001b[1;33m)\u001b[0m\u001b[1;33m\u001b[0m\u001b[1;33m\u001b[0m\u001b[0m\n\u001b[0;32m    537\u001b[0m         return _multiclass_roc_auc_score(y_true, y_score, labels,\n\u001b[1;32m--> 538\u001b[1;33m                                          multi_class, average, sample_weight)\n\u001b[0m\u001b[0;32m    539\u001b[0m     \u001b[1;32melif\u001b[0m \u001b[0my_type\u001b[0m \u001b[1;33m==\u001b[0m \u001b[1;34m\"binary\"\u001b[0m\u001b[1;33m:\u001b[0m\u001b[1;33m\u001b[0m\u001b[1;33m\u001b[0m\u001b[0m\n\u001b[0;32m    540\u001b[0m         \u001b[0mlabels\u001b[0m \u001b[1;33m=\u001b[0m \u001b[0mnp\u001b[0m\u001b[1;33m.\u001b[0m\u001b[0munique\u001b[0m\u001b[1;33m(\u001b[0m\u001b[0my_true\u001b[0m\u001b[1;33m)\u001b[0m\u001b[1;33m\u001b[0m\u001b[1;33m\u001b[0m\u001b[0m\n",
      "\u001b[1;32mC:\\ProgramData\\Anaconda3\\lib\\site-packages\\sklearn\\metrics\\_ranking.py\u001b[0m in \u001b[0;36m_multiclass_roc_auc_score\u001b[1;34m(y_true, y_score, labels, multi_class, average, sample_weight)\u001b[0m\n\u001b[0;32m    593\u001b[0m     \"\"\"\n\u001b[0;32m    594\u001b[0m     \u001b[1;31m# validation of the input y_score\u001b[0m\u001b[1;33m\u001b[0m\u001b[1;33m\u001b[0m\u001b[1;33m\u001b[0m\u001b[0m\n\u001b[1;32m--> 595\u001b[1;33m     \u001b[1;32mif\u001b[0m \u001b[1;32mnot\u001b[0m \u001b[0mnp\u001b[0m\u001b[1;33m.\u001b[0m\u001b[0mallclose\u001b[0m\u001b[1;33m(\u001b[0m\u001b[1;36m1\u001b[0m\u001b[1;33m,\u001b[0m \u001b[0my_score\u001b[0m\u001b[1;33m.\u001b[0m\u001b[0msum\u001b[0m\u001b[1;33m(\u001b[0m\u001b[0maxis\u001b[0m\u001b[1;33m=\u001b[0m\u001b[1;36m1\u001b[0m\u001b[1;33m)\u001b[0m\u001b[1;33m)\u001b[0m\u001b[1;33m:\u001b[0m\u001b[1;33m\u001b[0m\u001b[1;33m\u001b[0m\u001b[0m\n\u001b[0m\u001b[0;32m    596\u001b[0m         raise ValueError(\n\u001b[0;32m    597\u001b[0m             \u001b[1;34m\"Target scores need to be probabilities for multiclass \"\u001b[0m\u001b[1;33m\u001b[0m\u001b[1;33m\u001b[0m\u001b[0m\n",
      "\u001b[1;32m~\\AppData\\Roaming\\Python\\Python37\\site-packages\\numpy\\core\\_methods.py\u001b[0m in \u001b[0;36m_sum\u001b[1;34m(a, axis, dtype, out, keepdims, initial, where)\u001b[0m\n\u001b[0;32m     45\u001b[0m def _sum(a, axis=None, dtype=None, out=None, keepdims=False,\n\u001b[0;32m     46\u001b[0m          initial=_NoValue, where=True):\n\u001b[1;32m---> 47\u001b[1;33m     \u001b[1;32mreturn\u001b[0m \u001b[0mumr_sum\u001b[0m\u001b[1;33m(\u001b[0m\u001b[0ma\u001b[0m\u001b[1;33m,\u001b[0m \u001b[0maxis\u001b[0m\u001b[1;33m,\u001b[0m \u001b[0mdtype\u001b[0m\u001b[1;33m,\u001b[0m \u001b[0mout\u001b[0m\u001b[1;33m,\u001b[0m \u001b[0mkeepdims\u001b[0m\u001b[1;33m,\u001b[0m \u001b[0minitial\u001b[0m\u001b[1;33m,\u001b[0m \u001b[0mwhere\u001b[0m\u001b[1;33m)\u001b[0m\u001b[1;33m\u001b[0m\u001b[1;33m\u001b[0m\u001b[0m\n\u001b[0m\u001b[0;32m     48\u001b[0m \u001b[1;33m\u001b[0m\u001b[0m\n\u001b[0;32m     49\u001b[0m def _prod(a, axis=None, dtype=None, out=None, keepdims=False,\n",
      "\u001b[1;31mAxisError\u001b[0m: axis 1 is out of bounds for array of dimension 1"
     ]
    }
   ],
   "source": [
    "'''fpr,tpr,threshold=roc_curve(y_true,y_pred)\n",
    "auc_calculated=auc(fpr,tpr)\n",
    "\n",
    "plt.figure(flsgsize=(5,5),dpi=100)\n",
    "plt.plot(fpr,tpr,label='AUC: %0.3f'%auc_calculated)\n",
    "\n",
    "plt.xlabel('False Positive Rate -->')\n",
    "pt.ylabel('True Positive Rate -->')\n",
    "\n",
    "plt.legend()\n",
    "plt.show()'''\n",
    "\n",
    "auc_multi=roc_auc_score(y_true,y_pred,multi_class=\"ovr\")\n",
    "print(auc_multi)"
   ]
  },
  {
   "cell_type": "code",
   "execution_count": 20,
   "metadata": {},
   "outputs": [
    {
     "name": "stdout",
     "output_type": "stream",
     "text": [
      "['2', '0.902306']\n",
      "2   <class 'int'>\n",
      "0.902306   <class 'float'>\n"
     ]
    }
   ],
   "source": [
    "outfile=open(\"predicted_results_xx.txt\", mode=\"r\")\n",
    "test_pred = [(line.strip('_label\\r\\n')) for line in outfile.readlines()]\n",
    "outfile.close()\n",
    "\n",
    "#print(test_pred)\n",
    "length=len(test_pred)\n",
    "\n",
    "split_val=test_pred[length-1].split()\n",
    "print(split_val)\n",
    "\n",
    "label=int(split_val[0])\n",
    "prob=float(split_val[1])\n",
    "print(label,\" \",type(label))\n",
    "print(prob,\" \",type(prob))\n"
   ]
  },
  {
   "cell_type": "code",
   "execution_count": null,
   "metadata": {},
   "outputs": [],
   "source": []
  },
  {
   "cell_type": "code",
   "execution_count": null,
   "metadata": {},
   "outputs": [],
   "source": []
  },
  {
   "cell_type": "code",
   "execution_count": 30,
   "metadata": {},
   "outputs": [
    {
     "name": "stdout",
     "output_type": "stream",
     "text": [
      "len: 184\n",
      "y_pred:  [0, 0, 0, 0, 0, 2, 0, 0, 0, 1, 2, 2, 2, 2, 1, 1, 1, 2, 0, 2, 0, 0, 1, 0, 0, 2, 2, 2, 2, 0, 2, 1, 2, 0, 2, 2, 2, 2, 0, 1, 2, 0, 2, 0, 0, 0, 2, 0, 2, 1, 1, 0, 2, 2, 2, 0, 0, 2, 0, 0, 2, 2, 1, 2, 2, 2, 0, 2, 1, 1, 0, 2, 1, 0, 0, 2, 0, 2, 1, 0, 2, 0, 1, 0, 0, 0, 0, 1, 0, 0, 0, 2, 2, 2, 0, 0, 0, 1, 0, 2, 1, 2, 0, 2, 0, 0, 2, 2, 2, 2, 2, 1, 2, 1, 2, 0, 2, 2, 2, 2, 2, 0, 2, 0, 0, 2, 0, 0, 1, 0, 0, 2, 1, 1, 1, 0, 1, 2, 0, 0, 0, 0, 1, 0, 2, 2, 1, 1, 2, 0, 0, 2, 0, 2, 0, 1, 2, 0, 0, 0, 2, 1, 2, 2, 0, 0, 2, 2, 2, 2, 2, 2, 2, 2, 0, 0, 0, 2, 2, 2, 2, 2, 2, 2]\n",
      "len: 184\n",
      "prob:  [0.599552, 0.691223, 0.627304, 0.956339, 0.777759, 0.995202, 0.537939, 0.772705, 0.652609, 0.386304, 0.951615, 0.454667, 0.844728, 0.995444, 0.444733, 0.683523, 0.553967, 0.605593, 0.942716, 0.998897, 0.970675, 0.777759, 0.601836, 0.449339, 0.777759, 0.74529, 0.817188, 0.9759, 0.845495, 0.712307, 0.4326, 0.601836, 0.892691, 0.558071, 0.929526, 0.720892, 0.916051, 0.933345, 0.782864, 0.689988, 0.943189, 0.997835, 0.999665, 0.831908, 0.999435, 0.829341, 0.967184, 0.782847, 0.782907, 0.621497, 0.583801, 0.777759, 0.983137, 0.657567, 0.668075, 0.906663, 0.794612, 0.986601, 0.777577, 0.723477, 0.943869, 0.965113, 0.4725, 0.928982, 0.828246, 0.737962, 0.805278, 0.790717, 0.992544, 0.684133, 0.777759, 0.997503, 0.672201, 0.640441, 0.567211, 0.930948, 0.998964, 0.988631, 0.63022, 0.777759, 0.702443, 0.534836, 0.50454, 0.504364, 0.738118, 0.597886, 0.772655, 0.788848, 0.999384, 0.699942, 0.921756, 0.987935, 0.960643, 0.611404, 0.952175, 0.777759, 0.694401, 0.517155, 0.962627, 0.532077, 0.969203, 0.69475, 0.999916, 0.911544, 0.777759, 0.950643, 0.988018, 0.799701, 0.888114, 0.949991, 0.951511, 0.943188, 0.781048, 0.970472, 0.991538, 0.965079, 0.515995, 0.988088, 0.84115, 0.999532, 0.986726, 0.990088, 0.982371, 0.731609, 0.975816, 0.601224, 0.719939, 0.817304, 0.653729, 0.777759, 0.968015, 0.994755, 0.537416, 0.998007, 0.635027, 0.576036, 0.746547, 0.955128, 0.459319, 0.867917, 0.908331, 0.838379, 0.58034, 0.971021, 0.978797, 0.947728, 0.99858, 0.648494, 0.515281, 0.757705, 0.957279, 0.672129, 0.983784, 0.723915, 0.906062, 0.48349, 0.552469, 0.927146, 0.848649, 0.777759, 0.541124, 0.994662, 0.864852, 0.44769, 0.751922, 0.884801, 0.499711, 0.536128, 0.992321, 0.985558, 0.706492, 0.62619, 0.915061, 0.927176, 0.918232, 0.872249, 0.99803, 0.941792, 0.866931, 0.909312, 0.999803, 0.587507, 0.849014, 0.902306]\n"
     ]
    }
   ],
   "source": [
    "outfile=open(\"predicted_results_xx.txt\", mode=\"r\")\n",
    "test_pred = [(line.strip('_label\\r\\n')) for line in outfile.readlines()]\n",
    "outfile.close()\n",
    "y_pred=[]\n",
    "prob=[]\n",
    "length=len(test_pred)\n",
    "for i in range (length):\n",
    "            split_val=test_pred[i].split()\n",
    "            label1=int(split_val[0])\n",
    "            y_pred.append(label1)\n",
    "            prob1=float(split_val[1])\n",
    "            prob.append(prob1)\n",
    "print(\"len:\",len(y_pred))\n",
    "print(\"y_pred: \",y_pred)\n",
    "print(\"len:\",len(prob))\n",
    "print(\"prob: \",prob)"
   ]
  },
  {
   "cell_type": "code",
   "execution_count": 88,
   "metadata": {},
   "outputs": [
    {
     "ename": "KeyError",
     "evalue": "22",
     "output_type": "error",
     "traceback": [
      "\u001b[1;31m---------------------------------------------------------------------------\u001b[0m",
      "\u001b[1;31mKeyError\u001b[0m                                  Traceback (most recent call last)",
      "\u001b[1;32m<ipython-input-88-9cc0729c3216>\u001b[0m in \u001b[0;36m<module>\u001b[1;34m\u001b[0m\n\u001b[0;32m     11\u001b[0m \u001b[1;33m\u001b[0m\u001b[0m\n\u001b[0;32m     12\u001b[0m \u001b[0my_true\u001b[0m\u001b[1;33m=\u001b[0m\u001b[0mdf\u001b[0m\u001b[1;33m[\u001b[0m\u001b[1;34m\"y_true\"\u001b[0m\u001b[1;33m]\u001b[0m\u001b[1;33m[\u001b[0m\u001b[0ma\u001b[0m\u001b[1;33m-\u001b[0m\u001b[0mss\u001b[0m\u001b[1;33m]\u001b[0m\u001b[1;33m\u001b[0m\u001b[1;33m\u001b[0m\u001b[0m\n\u001b[1;32m---> 13\u001b[1;33m \u001b[0my_pred\u001b[0m\u001b[1;33m=\u001b[0m\u001b[0mdf\u001b[0m\u001b[1;33m[\u001b[0m\u001b[1;34m\"y_pred\"\u001b[0m\u001b[1;33m]\u001b[0m\u001b[1;33m[\u001b[0m\u001b[0mb\u001b[0m\u001b[1;33m+\u001b[0m\u001b[0mss2\u001b[0m\u001b[1;33m]\u001b[0m\u001b[1;33m\u001b[0m\u001b[1;33m\u001b[0m\u001b[0m\n\u001b[0m\u001b[0;32m     14\u001b[0m \u001b[0my_prob\u001b[0m\u001b[1;33m=\u001b[0m\u001b[0mdf\u001b[0m\u001b[1;33m[\u001b[0m\u001b[1;34m\"y_prob\"\u001b[0m\u001b[1;33m]\u001b[0m\u001b[1;33m[\u001b[0m\u001b[0mc\u001b[0m\u001b[1;33m+\u001b[0m\u001b[0mss2\u001b[0m\u001b[1;33m]\u001b[0m\u001b[1;33m\u001b[0m\u001b[1;33m\u001b[0m\u001b[0m\n\u001b[0;32m     15\u001b[0m \u001b[1;33m\u001b[0m\u001b[0m\n",
      "\u001b[1;32mC:\\ProgramData\\Anaconda3\\lib\\site-packages\\pandas\\core\\series.py\u001b[0m in \u001b[0;36m__getitem__\u001b[1;34m(self, key)\u001b[0m\n\u001b[0;32m    866\u001b[0m         \u001b[0mkey\u001b[0m \u001b[1;33m=\u001b[0m \u001b[0mcom\u001b[0m\u001b[1;33m.\u001b[0m\u001b[0mapply_if_callable\u001b[0m\u001b[1;33m(\u001b[0m\u001b[0mkey\u001b[0m\u001b[1;33m,\u001b[0m \u001b[0mself\u001b[0m\u001b[1;33m)\u001b[0m\u001b[1;33m\u001b[0m\u001b[1;33m\u001b[0m\u001b[0m\n\u001b[0;32m    867\u001b[0m         \u001b[1;32mtry\u001b[0m\u001b[1;33m:\u001b[0m\u001b[1;33m\u001b[0m\u001b[1;33m\u001b[0m\u001b[0m\n\u001b[1;32m--> 868\u001b[1;33m             \u001b[0mresult\u001b[0m \u001b[1;33m=\u001b[0m \u001b[0mself\u001b[0m\u001b[1;33m.\u001b[0m\u001b[0mindex\u001b[0m\u001b[1;33m.\u001b[0m\u001b[0mget_value\u001b[0m\u001b[1;33m(\u001b[0m\u001b[0mself\u001b[0m\u001b[1;33m,\u001b[0m \u001b[0mkey\u001b[0m\u001b[1;33m)\u001b[0m\u001b[1;33m\u001b[0m\u001b[1;33m\u001b[0m\u001b[0m\n\u001b[0m\u001b[0;32m    869\u001b[0m \u001b[1;33m\u001b[0m\u001b[0m\n\u001b[0;32m    870\u001b[0m             \u001b[1;32mif\u001b[0m \u001b[1;32mnot\u001b[0m \u001b[0mis_scalar\u001b[0m\u001b[1;33m(\u001b[0m\u001b[0mresult\u001b[0m\u001b[1;33m)\u001b[0m\u001b[1;33m:\u001b[0m\u001b[1;33m\u001b[0m\u001b[1;33m\u001b[0m\u001b[0m\n",
      "\u001b[1;32mC:\\ProgramData\\Anaconda3\\lib\\site-packages\\pandas\\core\\indexes\\base.py\u001b[0m in \u001b[0;36mget_value\u001b[1;34m(self, series, key)\u001b[0m\n\u001b[0;32m   4373\u001b[0m         \u001b[1;32mtry\u001b[0m\u001b[1;33m:\u001b[0m\u001b[1;33m\u001b[0m\u001b[1;33m\u001b[0m\u001b[0m\n\u001b[0;32m   4374\u001b[0m             return self._engine.get_value(s, k,\n\u001b[1;32m-> 4375\u001b[1;33m                                           tz=getattr(series.dtype, 'tz', None))\n\u001b[0m\u001b[0;32m   4376\u001b[0m         \u001b[1;32mexcept\u001b[0m \u001b[0mKeyError\u001b[0m \u001b[1;32mas\u001b[0m \u001b[0me1\u001b[0m\u001b[1;33m:\u001b[0m\u001b[1;33m\u001b[0m\u001b[1;33m\u001b[0m\u001b[0m\n\u001b[0;32m   4377\u001b[0m             \u001b[1;32mif\u001b[0m \u001b[0mlen\u001b[0m\u001b[1;33m(\u001b[0m\u001b[0mself\u001b[0m\u001b[1;33m)\u001b[0m \u001b[1;33m>\u001b[0m \u001b[1;36m0\u001b[0m \u001b[1;32mand\u001b[0m \u001b[1;33m(\u001b[0m\u001b[0mself\u001b[0m\u001b[1;33m.\u001b[0m\u001b[0mholds_integer\u001b[0m\u001b[1;33m(\u001b[0m\u001b[1;33m)\u001b[0m \u001b[1;32mor\u001b[0m \u001b[0mself\u001b[0m\u001b[1;33m.\u001b[0m\u001b[0mis_boolean\u001b[0m\u001b[1;33m(\u001b[0m\u001b[1;33m)\u001b[0m\u001b[1;33m)\u001b[0m\u001b[1;33m:\u001b[0m\u001b[1;33m\u001b[0m\u001b[1;33m\u001b[0m\u001b[0m\n",
      "\u001b[1;32mpandas/_libs/index.pyx\u001b[0m in \u001b[0;36mpandas._libs.index.IndexEngine.get_value\u001b[1;34m()\u001b[0m\n",
      "\u001b[1;32mpandas/_libs/index.pyx\u001b[0m in \u001b[0;36mpandas._libs.index.IndexEngine.get_value\u001b[1;34m()\u001b[0m\n",
      "\u001b[1;32mpandas/_libs/index.pyx\u001b[0m in \u001b[0;36mpandas._libs.index.IndexEngine.get_loc\u001b[1;34m()\u001b[0m\n",
      "\u001b[1;32mpandas/_libs/hashtable_class_helper.pxi\u001b[0m in \u001b[0;36mpandas._libs.hashtable.Int64HashTable.get_item\u001b[1;34m()\u001b[0m\n",
      "\u001b[1;32mpandas/_libs/hashtable_class_helper.pxi\u001b[0m in \u001b[0;36mpandas._libs.hashtable.Int64HashTable.get_item\u001b[1;34m()\u001b[0m\n",
      "\u001b[1;31mKeyError\u001b[0m: 22"
     ]
    }
   ],
   "source": [
    "import pandas as pd\n",
    "import json\n",
    "from sklearn.metrics import precision_recall_fscore_support\n",
    "\n",
    "df=pd.read_csv(\"required_names.csv\")\n",
    "ss=df[\"file_access\"].count()\n",
    "ss2=ss*2\n",
    "a=df[\"y_true\"].count()\n",
    "b=df[\"y_pred\"].count()\n",
    "c=df[\"y_prob\"].count()\n",
    "\n",
    "y_true=df[\"y_true\"][a-ss]\n",
    "y_pred=df[\"y_pred\"][b+ss2]\n",
    "y_prob=df[\"y_prob\"][c+ss2]\n",
    "\n",
    "\n",
    "print(\"\\na:\",a)\n",
    "print(\"y_true:\",y_true)\n",
    "print(\"\\nb:\",b)\n",
    "print(\"y_pred:\",y_pred)\n",
    "print(\"\\nc:\",c)\n",
    "print(\"y_prob:\",y_prob)\n",
    "\n",
    "'''y_true2 = json.loads(y_true)\n",
    "y_pred2 = json.loads(y_pred)\n",
    "y_prob2 = json.loads(y_prob)'''\n",
    "\n",
    "    "
   ]
  },
  {
   "cell_type": "code",
   "execution_count": 101,
   "metadata": {},
   "outputs": [
    {
     "name": "stderr",
     "output_type": "stream",
     "text": [
      "C:\\ProgramData\\Anaconda3\\lib\\site-packages\\ipykernel_launcher.py:9: SettingWithCopyWarning: \n",
      "A value is trying to be set on a copy of a slice from a DataFrame\n",
      "\n",
      "See the caveats in the documentation: http://pandas.pydata.org/pandas-docs/stable/indexing.html#indexing-view-versus-copy\n",
      "  if __name__ == '__main__':\n",
      "C:\\ProgramData\\Anaconda3\\lib\\site-packages\\ipykernel_launcher.py:13: SettingWithCopyWarning: \n",
      "A value is trying to be set on a copy of a slice from a DataFrame\n",
      "\n",
      "See the caveats in the documentation: http://pandas.pydata.org/pandas-docs/stable/indexing.html#indexing-view-versus-copy\n",
      "  del sys.path[0]\n",
      "C:\\ProgramData\\Anaconda3\\lib\\site-packages\\ipykernel_launcher.py:17: SettingWithCopyWarning: \n",
      "A value is trying to be set on a copy of a slice from a DataFrame\n",
      "\n",
      "See the caveats in the documentation: http://pandas.pydata.org/pandas-docs/stable/indexing.html#indexing-view-versus-copy\n"
     ]
    }
   ],
   "source": [
    "import pandas as pd\n",
    "ytrue=[0, 0, 0, 0, 0, 2, 0, 0, 0, 1, 2, 2, 2, 2, 1, 1, 1, 2, 0, 2, 0, 0, 1, 0, 0, 2, 2, 2, 2, 0, 2, 1, 2, 0, 2, 2, 2, 2, 0, 1, 2, 0, 2, 0, 0, 0, 2, 0, 2, 1, 1, 0, 2, 2, 2, 0, 0, 2, 0, 0, 2, 2, 1, 2, 2, 2, 0, 2, 1, 1, 0, 2, 1, 0, 0, 2, 0, 2, 1, 0, 2, 0, 1, 0, 0, 0, 0, 1, 0, 0, 0, 2, 2, 2, 0, 0, 0, 1, 0, 2, 1, 2, 0, 2, 0, 0, 2, 2, 2, 2, 2, 1, 2, 1, 2, 0, 2, 2, 2, 2, 2, 0, 2, 0, 0, 2, 0, 0, 1, 0, 0, 2, 1, 1, 1, 0, 1, 2, 0, 0, 0, 0, 1, 0, 2, 2, 1, 1, 2, 0, 0, 2, 0, 2, 0, 1, 2, 0, 0, 0, 2, 1, 2, 2, 0, 0, 2, 2, 2, 2, 2, 2, 2, 2, 0, 0, 0, 2, 2, 2, 2, 2, 2, 2]\n",
    "y_pred= [0, 0, 0, 0, 0, 2, 0, 0, 0, 1, 2, 2, 2, 2, 1, 1, 1, 2, 0, 2, 0, 0, 1, 0, 0, 2, 2, 2, 2, 0, 2, 1, 2, 0, 2, 2, 2, 2, 0, 1, 2, 0, 2, 0, 0, 0, 2, 0, 2, 1, 1, 0, 2, 2, 2, 0, 0, 2, 0, 0, 2, 2, 1, 2, 2, 2, 0, 2, 1, 1, 0, 2, 1, 0, 0, 2, 0, 2, 1, 0, 2, 0, 1, 0, 0, 0, 0, 1, 0, 0, 0, 2, 2, 2, 0, 0, 0, 1, 0, 2, 1, 2, 0, 2, 0, 0, 2, 2, 2, 2, 2, 1, 2, 1, 2, 0, 2, 2, 2, 2, 2, 0, 2, 0, 0, 2, 0, 0, 1, 0, 0, 2, 1, 1, 1, 0, 1, 2, 0, 0, 0, 0, 1, 0, 2, 2, 1, 1, 2, 0, 0, 2, 0, 2, 0, 1, 2, 0, 0, 0, 2, 1, 2, 2, 0, 0, 2, 2, 2, 2, 2, 2, 2, 2, 0, 0, 0, 2, 2, 2, 2, 2, 2, 2]\n",
    "y_prob=[0, 0, 0, 0, 0, 2, 0, 0, 0, 1, 2, 2, 2, 2, 1, 1, 1, 2, 0, 2, 0, 0, 1, 0, 0, 2, 2, 2, 2, 0, 2, 1, 2, 0, 2, 2, 2, 2, 0, 1, 2, 0, 2, 0, 0, 0, 2, 0, 2, 1, 1, 0, 2, 2, 2, 0, 0, 2, 0, 0, 2, 2, 1, 2, 2, 2, 0, 2, 1, 1, 0, 2, 1, 0, 0, 2, 0, 2, 1, 0, 2, 0, 1, 0, 0, 0, 0, 1, 0, 0, 0, 2, 2, 2, 0, 0, 0, 1, 0, 2, 1, 2, 0, 2, 0, 0, 2, 2, 2, 2, 2, 1, 2, 1, 2, 0, 2, 2, 2, 2, 2, 0, 2, 0, 0, 2, 0, 0, 1, 0, 0, 2, 1, 1, 1, 0, 1, 2, 0, 0, 0, 0, 1, 0, 2, 2, 1, 1, 2, 0, 0, 2, 0, 2, 0, 1, 2, 0, 0, 0, 2, 1, 2, 2, 0, 0, 2, 2, 2, 2, 2, 2, 2, 2, 0, 0, 0, 2, 2, 2, 2, 2, 2, 2]\n",
    "df=pd.read_csv(\"required_names.csv\")\n",
    "\n",
    "# Appending name of y_true\n",
    "\n",
    "df[\"y_true\"][1]=y_true\n",
    "#df=df.append({\"y_true\":y_true},ignore_index=True)\n",
    "\n",
    "# Appending name of y_pred\n",
    "df[\"y_pred\"][1]=y_pred\n",
    "#df=df.append({\"y_pred\":y_pred},ignore_index=True)\n",
    "\n",
    "# Appending name of prob\n",
    "df[\"y_prob\"][1]=y_prob\n",
    "#df=df.append({\"y_prob\":prob},ignore_index=True)\n",
    "\n",
    "\n",
    "head=[\"y_true\",\"y_pred\",\"y_prob\"]\n",
    "#df.to_csv(\"required_names.csv\",index_label=head,mode='w',header=True,index=False)\n",
    "df.to_csv(\"required_names.csv\",index_label=head, index=False,mode='w')"
   ]
  },
  {
   "cell_type": "code",
   "execution_count": 102,
   "metadata": {},
   "outputs": [],
   "source": [
    "import pickle"
   ]
  },
  {
   "cell_type": "code",
   "execution_count": 142,
   "metadata": {},
   "outputs": [
    {
     "data": {
      "text/plain": [
       "str"
      ]
     },
     "execution_count": 142,
     "metadata": {},
     "output_type": "execute_result"
    }
   ],
   "source": [
    "y_true=[0, 0, 0, 0, 0, 2, 0, 0, 0, 1, 2, 2, 2, 2, 1, 1, 1, 2, 0, 2, 0, 0, 1, 0, 0, 2, 2, 2, 2, 0, 2, 1, 2, 0, 2, 2, 2, 2, 0, 1, 2, 0, 2, 0, 0, 0, 2, 0, 2, 1, 1, 0, 2, 2, 2, 0, 0, 2, 0, 0, 2, 2, 1, 2, 2, 2, 0, 2, 1, 1, 0, 2, 1, 0, 0, 2, 0, 2, 1, 0, 2, 0, 1, 0, 0, 0, 0, 1, 0, 0, 0, 2, 2, 2, 0, 0, 0, 1, 0, 2, 1, 2, 0, 2, 0, 0, 2, 2, 2, 2, 2, 1, 2, 1, 2, 0, 2, 2, 2, 2, 2, 0, 2, 0, 0, 2, 0, 0, 1, 0, 0, 2, 1, 1, 1, 0, 1, 2, 0, 0, 0, 0, 1, 0, 2, 2, 1, 1, 2, 0, 0, 2, 0, 2, 0, 1, 2, 0, 0, 0, 2, 1, 2, 2, 0, 0, 2, 2, 2, 2, 2, 2, 2, 2, 0, 0, 0, 2, 2, 2, 2, 2, 2, 2]\n",
    "y_pred= [1, 0, 0, 0, 0, 2, 0, 0, 0, 1, 2, 2, 2, 2, 1, 1, 1, 2, 0, 2, 0, 0, 1, 0, 0, 2, 2, 2, 2, 0, 2, 1, 2, 0, 2, 2, 2, 2, 0, 1, 2, 0, 2, 0, 0, 0, 2, 0, 2, 1, 1, 0, 2, 2, 2, 0, 0, 2, 0, 0, 2, 2, 1, 2, 2, 2, 0, 2, 1, 1, 0, 2, 1, 0, 0, 2, 0, 2, 1, 0, 2, 0, 1, 0, 0, 0, 0, 1, 0, 0, 0, 2, 2, 2, 0, 0, 0, 1, 0, 2, 1, 2, 0, 2, 0, 0, 2, 2, 2, 2, 2, 1, 2, 1, 2, 0, 2, 2, 2, 2, 2, 0, 2, 0, 0, 2, 0, 0, 1, 0, 0, 2, 1, 1, 1, 0, 1, 2, 0, 0, 0, 0, 1, 0, 2, 2, 1, 1, 2, 0, 0, 2, 0, 2, 0, 1, 2, 0, 0, 0, 2, 1, 2, 2, 0, 0, 2, 2, 2, 2, 2, 2, 2, 2, 0, 0, 0, 2, 2, 2, 2, 2, 2, 2]\n",
    "y_prob=[2, 0, 0, 0, 0, 2, 0, 0, 0, 1, 2, 2, 2, 2, 1, 1, 1, 2, 0, 2, 0, 0, 1, 0, 0, 2, 2, 2, 2, 0, 2, 1, 2, 0, 2, 2, 2, 2, 0, 1, 2, 0, 2, 0, 0, 0, 2, 0, 2, 1, 1, 0, 2, 2, 2, 0, 0, 2, 0, 0, 2, 2, 1, 2, 2, 2, 0, 2, 1, 1, 0, 2, 1, 0, 0, 2, 0, 2, 1, 0, 2, 0, 1, 0, 0, 0, 0, 1, 0, 0, 0, 2, 2, 2, 0, 0, 0, 1, 0, 2, 1, 2, 0, 2, 0, 0, 2, 2, 2, 2, 2, 1, 2, 1, 2, 0, 2, 2, 2, 2, 2, 0, 2, 0, 0, 2, 0, 0, 1, 0, 0, 2, 1, 1, 1, 0, 1, 2, 0, 0, 0, 0, 1, 0, 2, 2, 1, 1, 2, 0, 0, 2, 0, 2, 0, 1, 2, 0, 0, 0, 2, 1, 2, 2, 0, 0, 2, 2, 2, 2, 2, 2, 2, 2, 0, 0, 0, 2, 2, 2, 2, 2, 2, 2]\n",
    "log=['file']\n",
    "var=[y_true,y_pred,y_prob,log]\n",
    "with open('variable.pickle', 'wb') as f:\n",
    "    pickle.dump(var, f)\n",
    "\n",
    "with open('variable.pickle', 'rb') as f:\n",
    "        obj = pickle.load(f)\n",
    "        \n",
    "y_true=obj[0]\n",
    "y_pred=obj[1]\n",
    "y_prob=obj[2]"
   ]
  },
  {
   "cell_type": "code",
   "execution_count": 156,
   "metadata": {},
   "outputs": [
    {
     "name": "stdout",
     "output_type": "stream",
     "text": [
      "yes\n",
      "rmdir -r logfiles_8dfc662f-4d3a-4981-af5b-c8ff3b3b6046\n",
      "yes\n",
      "rmdir -r logfiles_8dfc662f-4d3a-4981-af5b-c8ff3b3b6046\n"
     ]
    }
   ],
   "source": [
    "import pickle\n",
    "import os\n",
    "from os import path\n",
    "file=[\"logfiles_1fa0fd78-94c6-4675-bf95-cc8011dcf8d9\",\"logfiles_8dfc662f-4d3a-4981-af5b-c8ff3b3b6046\",\"logfiles_8dfc662f-4d3a-4981-af5b-c8ff3b3b6046\"]\n",
    "with open('temp.pickle', 'wb') as f:\n",
    "    pickle.dump(file, f)\n",
    "with open('temp.pickle', 'rb') as f:\n",
    "        obj = pickle.load(f)    \n",
    "x=obj[1:]\n",
    "for i in x:\n",
    "        if(path.isdir(i)):\n",
    "            print(\"yes\")\n",
    "            command = \"rmdir -r \" + i\n",
    "            print(command)\n",
    "            os.system(command)"
   ]
  },
  {
   "cell_type": "code",
   "execution_count": 146,
   "metadata": {},
   "outputs": [
    {
     "name": "stdout",
     "output_type": "stream",
     "text": [
      "2\n",
      "<class 'str'>\n",
      "3\n",
      "<class 'str'>\n",
      "4\n",
      "<class 'str'>\n"
     ]
    }
   ],
   "source": [
    "for i in x:\n",
    "    print(i"
   ]
  },
  {
   "cell_type": "code",
   "execution_count": 163,
   "metadata": {},
   "outputs": [],
   "source": [
    "import pickle5 \n",
    "import pandas as pd\n",
    "with open('appceleratorstudio_results.pkl', \"rb\") as fh:\n",
    "            pretrained = pickle5.load(fh)\n",
    "with open('mosaic_results.pickle', 'wb') as f:\n",
    "        pickle.dump(results, f)"
   ]
  },
  {
   "cell_type": "code",
   "execution_count": 165,
   "metadata": {},
   "outputs": [
    {
     "data": {
      "image/png": "[encoded data removed]",
      "text/plain": [
       "<Figure size 432x288 with 3 Axes>"
      ]
     },
     "metadata": {
      "needs_background": "light"
     },
     "output_type": "display_data"
    }
   ],
   "source": [
    "from statsmodels.graphics import mosaicplot\n",
    "import matplotlib.pyplot as plt\n",
    "mosaicplot.mosaic(data=pretrained, index=['True_Classes','Predicted_Classes'], title='Mosaic Plot')\n",
    "plt.show()"
   ]
  },
  {
   "cell_type": "code",
   "execution_count": 1,
   "metadata": {},
   "outputs": [
    {
     "name": "stdout",
     "output_type": "stream",
     "text": [
      "[2, 1, 2, 2, 1, 1, 1, 1, 2, 0, 1, 2, 1, 0, 2, 1, 1, 2, 2, 2, 2, 1, 1, 1, 1, 2, 2, 1, 1, 2, 2, 1, 1, 1, 1, 1, 0, 0, 2, 2, 2, 1, 2, 1, 1, 0, 1, 1, 1, 1, 1, 0, 1, 0, 1, 1, 0, 1, 1, 1, 2, 1, 0, 1, 0, 0, 1, 2, 1, 2, 1, 1, 2, 1, 1, 1, 1, 1, 2, 2, 1, 1, 1, 1, 1, 1, 1, 1, 1, 1, 1, 0, 2, 2, 1, 2, 1, 2, 1, 0, 1, 1, 2, 1, 2, 2, 0, 1, 2, 1, 2, 2, 1, 1, 2, 1, 2, 1, 1, 1, 1, 1, 2, 2, 2, 2, 0, 2, 1, 1, 2, 1, 1, 1, 2, 2, 1, 1, 1, 2, 0, 1, 2, 2, 1, 2, 2, 1, 1, 1, 1, 1, 0, 1, 1, 2, 2, 1, 0, 1, 2, 1, 1, 1, 1, 1, 1, 1, 2, 1, 0, 2, 0, 1, 1, 1, 2, 1, 1, 1, 2, 1, 1, 2, 1, 1, 0, 2, 2, 1, 2, 2, 0, 1, 1, 2, 1, 1, 0, 1, 1, 1, 1, 2, 2, 1, 1, 1, 2, 0, 2, 0, 0, 1, 2, 1, 2, 0, 1, 1, 1, 1, 1, 2, 1, 0, 1, 1, 1, 0, 1, 0, 1, 1, 2, 1, 2, 1, 1, 1, 1, 1, 2, 2, 1, 2, 2, 1, 2, 2, 0, 2, 1, 0, 1, 1, 1, 1, 2, 1, 1, 1, 1, 1, 1, 1, 2, 1, 2, 2, 1, 2, 2, 1, 1, 2, 2, 1, 2, 1, 1, 2, 1, 1, 1, 2, 1, 1, 2, 2, 1, 2, 1, 2, 1, 1, 1, 1, 1, 1, 0, 1, 2, 1, 1, 1, 1, 2, 2, 1, 1, 1, 1, 1, 2, 1, 1, 1, 2, 1, 1, 1, 1, 1, 1, 1, 1, 2, 2, 1, 1, 1, 1, 1, 1, 2, 0, 2, 0, 2, 2, 2, 1, 1, 2, 1, 1, 1, 1, 2, 1, 2, 2, 1, 1, 1, 2, 1, 1, 1, 2, 1, 2, 1, 1, 1, 1, 2, 1, 1, 1, 2, 2, 1, 1, 0, 1, 1, 1, 0, 2, 1, 2, 0, 1, 1, 1, 1, 1, 2, 1, 1, 1, 1, 2, 1, 2, 2, 1, 1, 1, 1, 1, 2, 2, 2, 1, 1, 1, 1, 1, 2, 2, 0, 0, 2, 2, 2, 2, 0, 1, 1, 2, 1, 1, 2, 2, 1, 1, 1, 1, 2, 1, 1, 2, 2, 1, 2, 2, 2, 1, 2, 2, 1, 1, 1, 2, 2, 1, 2, 1, 1, 1, 1, 1, 1, 2, 2, 1, 1, 2, 1, 0, 1, 1, 1, 1, 1, 1, 2, 1, 1, 2, 2, 1, 2, 2, 2, 1, 1, 2, 1, 1, 1, 2, 2, 1, 1, 1, 1, 2, 2, 2, 1, 0, 1, 1, 2, 2, 2, 1, 2, 1, 1, 0, 1, 2, 1, 1, 1, 2, 1, 0, 1, 1, 1, 1, 1, 0, 1, 1, 2, 1, 1, 0, 1, 2, 2, 1, 2, 1, 1, 1, 1, 1, 0, 1, 0, 2, 1, 1, 0, 2, 1, 0, 1, 2, 1, 0, 1, 1, 2, 2, 2, 1, 1, 0, 1, 1, 0, 0, 1, 2, 1, 2, 1, 1, 1, 1, 0, 1, 2, 1, 1, 1, 0, 1, 2, 1, 1, 1, 1, 2, 1, 1, 2, 1, 2, 1, 2, 2, 1, 1, 2, 2, 1, 1, 2, 2, 0, 2, 1, 0, 1, 1, 2, 2, 0, 1, 1, 1, 1, 1, 1, 2, 0, 1, 1, 1, 1, 2, 1, 1, 2, 1, 2, 1, 2, 1, 1, 2, 2, 1, 2, 1, 1, 1, 2, 2, 1, 1, 2, 1, 1, 1, 2, 1, 0, 1, 0, 2, 2, 1, 0, 2, 1, 1, 0, 1, 2, 2, 2, 1, 1, 1, 1, 2, 1, 2, 1, 2, 1, 1, 2, 1, 2, 2, 2, 1, 1, 2, 0, 2, 1, 1, 0, 2, 1, 2, 1, 1, 1, 2, 1, 1, 1, 2, 1, 2, 1, 2, 2, 1, 1, 1, 0, 1, 1, 1, 1, 1, 2, 2, 1, 2, 1, 1, 1, 1, 2, 1, 0, 2, 1, 1, 1, 1, 1, 2, 1, 1, 1, 1, 2, 1, 1, 2, 1, 2, 1, 1, 2, 1, 0, 2, 1, 1, 2, 0, 1, 2, 2, 0, 1, 1, 2, 2, 1, 0, 1, 2, 2, 1, 2, 1, 1, 1, 2, 1, 0, 1, 1, 1, 2, 2, 1, 1, 1, 0, 2, 0, 0, 1, 1, 1, 2, 2, 1, 1, 1, 1, 1, 0, 1, 1, 2, 1, 1, 1, 0, 2, 0, 1, 1, 2, 2, 1, 2, 2, 2, 2, 2, 1, 2, 1, 1, 1, 0, 1, 2, 2, 1, 2, 1, 1, 2, 2, 2, 1, 2, 1, 1, 1, 1, 1, 2, 2, 1, 1, 0, 0, 1, 1, 1, 1, 0, 1, 1, 2, 1, 1, 2, 2, 1, 1, 1, 0, 0, 1, 2, 2, 1, 1, 1, 1, 1, 2, 1, 2, 2, 2, 1, 2, 1, 1, 1, 1, 1, 0, 1, 2, 1, 1, 0, 0, 1, 2, 1, 1, 1, 1, 1, 0, 1, 1, 1, 1, 1, 0, 2, 1, 1, 0, 1, 1, 2, 2, 1, 1, 1, 1, 1, 1, 2, 1, 1, 1, 1, 1, 1, 2, 1, 1, 2, 2, 1, 1, 2, 1, 1, 0, 1, 2, 0, 1, 2, 0, 1, 2, 1, 2, 2, 2, 1, 1, 1, 2, 1, 0, 1, 2, 2, 2, 1, 1, 1, 2, 2, 2, 1, 1, 0, 1, 1, 2, 2, 1, 1, 2, 1, 2, 2, 2, 0, 2, 1, 2, 2, 0, 1, 1, 2, 1, 1, 1, 1, 1, 1, 1, 1, 1, 2, 2, 1, 2, 2, 1, 1, 2, 2, 1, 1, 1, 2, 1, 1, 2, 1, 2, 2, 1, 2, 1, 1, 2, 2, 2, 2, 1, 1, 1, 1, 0, 1, 2, 2, 1, 1, 1, 1, 1, 1, 1, 2, 1, 1, 1, 1, 2, 2, 2, 1, 1, 2, 2, 2, 1, 2, 0, 1, 2, 2, 1, 2, 1, 1, 2, 1, 1, 2, 1, 2, 2, 1, 2, 1, 2, 2, 2, 1, 2, 1, 2, 2, 1, 1, 1, 2, 1, 2, 1, 1, 1, 1, 2, 1, 2, 1, 1, 1, 2, 2, 1, 1, 1, 0, 2, 1, 1, 2, 1, 2, 0, 1, 1, 2, 2, 1, 1, 1, 1, 1, 1, 0, 1, 1, 1, 1, 2, 0, 0, 1, 1, 0, 2, 1, 1, 1, 1, 2, 1, 1, 0, 0, 0, 1, 1, 1, 1, 2, 1, 1, 2, 2, 1, 1, 1, 2, 1, 2, 0, 1, 0, 2, 2, 2, 0, 2, 1, 2, 1, 1, 1, 2, 1, 1, 2, 1, 2, 1, 2, 1, 1, 0, 1, 2, 1, 1, 2, 2, 2, 1, 1, 1, 2, 0, 1, 1, 1, 1, 1, 2, 1, 1, 1, 1, 1, 1, 1, 0, 1, 2, 0, 1, 2, 1, 2, 1, 1, 1, 2, 1, 2, 0, 1, 1, 1, 2, 1, 1, 2, 2, 1, 2, 2, 1, 1, 0, 2, 2, 2, 1, 2, 2, 2, 1, 2, 2, 2, 1, 1, 1, 2, 1, 1, 1, 1, 2, 1, 1, 1, 2, 1, 1, 1, 1, 1, 2, 1, 1, 1, 1, 1, 2, 1, 1, 2, 0, 1, 2, 2, 0, 2, 1, 1, 1, 2, 1, 2, 2, 0, 2, 1, 1, 1, 0, 2, 1, 1, 1, 2, 1, 1, 1, 1, 2, 2, 1, 2, 2, 2, 1, 1, 1, 1, 1, 1, 1, 1, 2, 1, 2, 1, 1, 1, 1, 0, 0, 2, 0, 1, 2, 1, 1, 2, 1, 2, 0, 1, 2, 1, 0, 2, 1, 1, 2, 2, 1, 1, 1, 0, 2, 2, 2, 2, 0, 2, 1, 1, 2, 1, 1, 2, 2, 0, 1, 2, 1, 1, 0, 2, 2, 1, 2, 1, 2, 1, 1, 2, 0, 1, 2, 2, 1, 1, 2, 1, 1, 1, 1, 1, 1, 2, 2, 2, 2, 2, 2, 2, 2, 1, 2, 1, 1, 1, 2, 2, 1, 1, 0, 2, 1, 1, 1, 1, 0, 1, 1, 1, 2, 1, 1, 2, 1, 1, 1, 2, 0, 1, 2, 2, 0, 1, 2, 0, 2, 1, 1, 1, 1, 1, 1, 1, 1, 2, 1, 1, 1, 2, 2, 1, 2, 2, 1, 1, 1, 2, 2, 1, 1, 2, 2, 0, 1, 1, 1, 2, 1, 1]\n",
      "[1, 1, 1, 2, 1, 1, 1, 2, 1, 2, 1, 1, 1, 2, 1, 1, 1, 1, 1, 2, 2, 1, 1, 1, 1, 1, 1, 1, 1, 2, 2, 1, 1, 1, 2, 1, 1, 2, 1, 1, 1, 1, 1, 1, 0, 2, 1, 1, 1, 2, 1, 1, 1, 2, 1, 2, 2, 1, 1, 1, 2, 1, 1, 1, 1, 0, 1, 1, 1, 1, 1, 1, 1, 1, 1, 2, 1, 1, 2, 1, 2, 1, 1, 1, 2, 1, 1, 1, 1, 1, 1, 1, 1, 1, 2, 2, 1, 2, 1, 1, 2, 1, 2, 1, 1, 2, 0, 1, 2, 2, 1, 2, 1, 1, 1, 1, 1, 1, 1, 1, 1, 1, 1, 1, 2, 2, 2, 0, 1, 1, 1, 1, 2, 2, 1, 2, 1, 1, 1, 1, 1, 1, 1, 1, 1, 1, 2, 1, 1, 2, 2, 1, 1, 2, 2, 2, 2, 2, 1, 2, 0, 1, 1, 1, 1, 1, 1, 1, 1, 1, 2, 1, 2, 2, 0, 1, 2, 2, 1, 2, 2, 1, 1, 2, 1, 1, 1, 2, 1, 1, 0, 2, 1, 1, 1, 1, 1, 1, 1, 1, 1, 1, 1, 1, 1, 2, 2, 1, 2, 2, 1, 1, 1, 1, 1, 1, 1, 1, 1, 1, 1, 1, 1, 1, 1, 1, 2, 2, 1, 0, 1, 1, 1, 2, 2, 1, 2, 1, 1, 2, 1, 1, 0, 1, 1, 2, 1, 1, 2, 2, 1, 1, 1, 1, 1, 2, 1, 2, 2, 2, 1, 2, 2, 1, 1, 1, 1, 1, 1, 2, 1, 2, 2, 1, 1, 2, 2, 1, 1, 1, 2, 2, 1, 2, 1, 1, 1, 2, 1, 2, 1, 1, 1, 1, 2, 1, 1, 1, 2, 1, 1, 2, 1, 2, 1, 1, 2, 2, 1, 0, 1, 1, 1, 1, 1, 1, 1, 2, 1, 1, 1, 1, 1, 1, 1, 1, 1, 1, 1, 1, 1, 1, 1, 1, 1, 2, 0, 2, 1, 1, 1, 1, 2, 0, 2, 2, 1, 1, 1, 1, 1, 1, 2, 1, 1, 1, 0, 1, 1, 1, 1, 1, 2, 1, 1, 1, 2, 2, 1, 1, 0, 2, 2, 1, 1, 0, 1, 1, 1, 0, 2, 1, 1, 1, 1, 2, 1, 1, 1, 1, 1, 2, 1, 1, 2, 1, 2, 2, 1, 1, 1, 2, 1, 1, 1, 2, 1, 2, 1, 1, 1, 2, 2, 1, 1, 1, 2, 2, 2, 2, 2, 0, 2, 1, 1, 2, 1, 1, 1, 1, 1, 1, 1, 1, 2, 2, 2, 2, 1, 2, 1, 2, 2, 1, 1, 1, 1, 1, 1, 2, 1, 1, 1, 1, 2, 0, 1, 1, 1, 1, 2, 1, 0, 1, 1, 1, 1, 1, 1, 1, 1, 1, 1, 2, 1, 1, 2, 2, 1, 1, 0, 1, 2, 2, 2, 0, 1, 1, 1, 1, 1, 2, 1, 1, 1, 1, 2, 1, 1, 2, 2, 1, 1, 2, 2, 1, 1, 1, 2, 1, 2, 2, 0, 2, 1, 2, 1, 1, 0, 1, 1, 1, 1, 2, 1, 2, 1, 2, 1, 2, 1, 2, 1, 1, 1, 2, 1, 2, 2, 2, 1, 0, 2, 1, 1, 2, 2, 2, 0, 1, 0, 2, 1, 2, 2, 1, 1, 1, 1, 2, 1, 1, 1, 1, 1, 1, 1, 2, 2, 0, 0, 1, 1, 1, 1, 0, 1, 1, 1, 1, 1, 2, 2, 2, 1, 2, 1, 2, 2, 2, 2, 1, 1, 1, 2, 1, 1, 1, 0, 1, 1, 1, 2, 2, 1, 0, 0, 2, 2, 1, 1, 1, 0, 2, 1, 1, 1, 1, 1, 1, 1, 1, 1, 1, 1, 2, 1, 2, 1, 1, 2, 1, 1, 1, 1, 1, 1, 2, 1, 1, 1, 1, 1, 1, 2, 1, 1, 2, 1, 1, 1, 1, 1, 1, 2, 2, 1, 2, 1, 2, 1, 2, 1, 2, 1, 1, 2, 1, 1, 1, 1, 1, 1, 1, 2, 1, 1, 1, 1, 2, 1, 1, 2, 1, 1, 2, 1, 1, 1, 1, 1, 1, 2, 1, 1, 1, 2, 2, 2, 1, 2, 2, 1, 1, 1, 2, 1, 2, 1, 2, 1, 2, 0, 2, 2, 1, 1, 1, 1, 2, 1, 0, 0, 1, 1, 2, 2, 2, 1, 1, 1, 2, 1, 1, 1, 2, 2, 2, 1, 1, 1, 1, 0, 1, 2, 1, 1, 2, 1, 1, 2, 0, 1, 1, 1, 1, 0, 1, 2, 2, 1, 2, 1, 2, 2, 1, 1, 2, 2, 1, 1, 1, 1, 1, 2, 1, 1, 1, 0, 1, 2, 0, 1, 1, 2, 2, 1, 2, 1, 1, 1, 1, 0, 1, 1, 1, 1, 2, 2, 1, 1, 1, 1, 1, 2, 1, 1, 0, 1, 1, 2, 2, 1, 2, 0, 1, 2, 1, 2, 1, 2, 2, 2, 1, 1, 2, 0, 0, 2, 0, 1, 1, 1, 1, 1, 1, 2, 2, 1, 1, 1, 1, 1, 1, 1, 1, 1, 1, 1, 1, 1, 1, 1, 1, 1, 2, 1, 1, 2, 1, 2, 1, 2, 2, 2, 1, 2, 1, 0, 2, 1, 1, 2, 1, 2, 1, 2, 2, 2, 2, 2, 1, 1, 1, 1, 1, 2, 1, 1, 2, 1, 2, 1, 0, 1, 2, 1, 2, 0, 2, 1, 1, 1, 1, 1, 1, 2, 1, 1, 1, 2, 1, 1, 1, 1, 0, 1, 1, 1, 1, 2, 1, 1, 1, 1, 1, 2, 1, 1, 1, 2, 1, 2, 1, 1, 2, 0, 2, 2, 1, 2, 1, 2, 2, 1, 1, 1, 1, 1, 1, 2, 2, 2, 2, 1, 1, 1, 2, 1, 1, 2, 1, 1, 1, 2, 1, 1, 1, 2, 1, 2, 2, 2, 1, 0, 1, 1, 0, 1, 2, 1, 2, 1, 1, 1, 1, 1, 1, 2, 2, 1, 2, 1, 1, 1, 2, 1, 0, 1, 2, 1, 1, 1, 2, 1, 1, 2, 1, 1, 1, 1, 1, 1, 1, 1, 1, 1, 1, 1, 1, 1, 1, 1, 1, 2, 2, 2, 1, 1, 1, 1, 1, 2, 2, 1, 1, 1, 1, 2, 2, 1, 1, 1, 1, 1, 1, 1, 1, 1, 1, 1, 1, 1, 2, 0, 1, 2, 2, 1, 2, 1, 2, 1, 2, 1, 0, 2, 1, 1, 1, 2, 1, 2, 2, 1, 1, 1, 2, 2, 1, 1, 1, 2, 2, 1, 1, 1, 1, 1, 1, 2, 2, 1, 1, 0, 2, 1, 1, 1, 2, 2, 2, 1, 2, 2, 1, 0, 2, 1, 1, 1, 1, 1, 0, 1, 1, 1, 1, 2, 0, 1, 2, 2, 2, 2, 1, 1, 1, 1, 1, 2, 1, 1, 0, 1, 1, 2, 2, 1, 1, 2, 2, 2, 2, 1, 2, 1, 1, 1, 0, 0, 0, 0, 0, 1, 1, 1, 1, 1, 1, 1, 2, 1, 2, 1, 1, 2, 2, 1, 1, 1, 1, 2, 1, 1, 2, 1, 2, 1, 2, 1, 1, 2, 2, 2, 0, 1, 2, 1, 1, 2, 2, 1, 2, 2, 1, 1, 1, 1, 0, 1, 1, 1, 1, 1, 1, 1, 2, 1, 2, 2, 1, 2, 1, 2, 1, 1, 1, 1, 1, 1, 1, 1, 2, 2, 1, 2, 2, 1, 2, 1, 2, 2, 2, 2, 1, 2, 1, 2, 1, 1, 2, 1, 1, 1, 1, 1, 2, 1, 1, 1, 1, 0, 2, 2, 1, 1, 1, 1, 2, 1, 1, 1, 1, 1, 1, 2, 0, 1, 2, 2, 2, 2, 1, 1, 1, 1, 1, 1, 0, 1, 1, 1, 0, 1, 1, 1, 1, 1, 1, 2, 1, 1, 1, 1, 2, 1, 1, 2, 1, 1, 1, 2, 1, 2, 2, 1, 1, 1, 2, 2, 1, 1, 1, 1, 1, 1, 0, 2, 2, 1, 1, 1, 1, 1, 1, 1, 2, 1, 1, 2, 1, 1, 1, 1, 2, 2, 0, 1, 1, 1, 1, 2, 2, 2, 2, 2, 1, 1, 2, 1, 1, 0, 2, 1, 1, 1, 1, 1, 1, 2, 2, 1, 1, 1, 1, 2, 0, 0, 2, 1, 2, 2, 1, 1, 1, 2, 1, 1, 2, 1, 2, 1, 2, 1, 2, 1, 2, 2, 1, 1, 1, 1, 1, 1, 2, 2, 1, 1, 1, 1, 1, 2, 1, 1, 0, 1, 1, 1, 2, 1, 1, 1, 1, 1, 1, 1, 1, 2, 2, 1, 1, 2, 2, 1, 1, 1, 1, 1, 1, 1, 1, 1, 2, 2, 2, 1, 1, 1, 1, 1, 2, 1, 1, 1, 1, 1, 1, 1, 1, 2, 1, 1, 1, 1, 1, 2, 1, 1]\n",
      "[0.993152, 0.804913, 0.999205, 0.997278, 0.903297, 0.999813, 0.995477, 0.646327, 0.951615, 0.562315, 0.998833, 0.998416, 0.959697, 0.992376, 0.983174, 0.999647, 0.994578, 0.99709, 0.774621, 0.994482, 0.943853, 0.782452, 0.999611, 0.976672, 0.94838, 0.999594, 0.666705, 0.998324, 0.995666, 0.892386, 0.992404, 1.00001, 0.99672, 0.999917, 0.977052, 0.709936, 0.872101, 0.991475, 0.97417, 0.773132, 0.999724, 0.954783, 0.863778, 0.991599, 0.816115, 0.951936, 0.999986, 0.474358, 0.893399, 0.529687, 0.861384, 0.600273, 1.00001, 0.996401, 0.984986, 0.950153, 0.95271, 0.998933, 0.987233, 0.74197, 0.895949, 0.996621, 0.990611, 0.998358, 0.999909, 0.816115, 0.996497, 0.807596, 0.969743, 0.907789, 0.961951, 0.990194, 0.990715, 0.999824, 0.999568, 0.900803, 0.869921, 0.931079, 0.993091, 0.998842, 0.939033, 0.995506, 0.991491, 0.988908, 0.968213, 0.981934, 0.97987, 0.92818, 0.99695, 0.997533, 0.997598, 0.972946, 0.999996, 0.982595, 0.865106, 0.482533, 0.990509, 0.74397, 0.863495, 0.806172, 0.623141, 0.999949, 0.976784, 1.00001, 0.77634, 0.888445, 0.657714, 0.996715, 0.996464, 0.926065, 0.999921, 0.668681, 0.976274, 0.987498, 0.676658, 0.990465, 0.640627, 0.964315, 0.998941, 0.917371, 0.418148, 0.998933, 0.803841, 0.562327, 0.999657, 0.50108, 0.916475, 0.535813, 0.997255, 0.950293, 0.965304, 0.987007, 0.936446, 0.956158, 0.807671, 0.984419, 0.842939, 0.920512, 0.995815, 0.981943, 0.983331, 0.931995, 0.532607, 0.968072, 0.999979, 0.999417, 0.961373, 0.999965, 0.981679, 0.900281, 0.856096, 0.971125, 0.995023, 0.856211, 0.527435, 0.684076, 0.866696, 0.668399, 0.996389, 0.987071, 0.816115, 0.994313, 0.985702, 1.00001, 0.894511, 0.999742, 0.96175, 0.991306, 0.951751, 0.999772, 0.92451, 0.965116, 0.443402, 0.644686, 0.876458, 0.955868, 0.631214, 0.98899, 0.999943, 0.983155, 0.977458, 1.00001, 0.751178, 0.999219, 0.540921, 0.992215, 0.814617, 0.709739, 0.977753, 0.999119, 0.939443, 0.756404, 0.995918, 0.999635, 0.962984, 0.93766, 0.999967, 0.64882, 0.977515, 0.986187, 0.880363, 0.998191, 0.996722, 0.954138, 0.890855, 0.996256, 0.97924, 0.990184, 0.516924, 0.582429, 0.994291, 0.999915, 0.970475, 0.998704, 0.97276, 0.994466, 0.959042, 0.996282, 0.717824, 0.898053, 0.9058, 0.956777, 0.999665, 0.750645, 0.817707, 0.998872, 0.594494, 0.496967, 0.551442, 0.982052, 0.999451, 0.950146, 0.982458, 0.996238, 0.893407, 0.999934, 0.798647, 0.576357, 0.999309, 0.96964, 1.0, 0.978837, 0.729996, 0.721445, 0.999804, 0.954549, 0.826441, 0.880761, 0.794476, 0.624731, 0.766339, 0.932733, 0.566244, 0.860776, 1.0, 0.648909, 0.99923, 0.907574, 0.581479, 0.972272, 0.906626, 0.938428, 0.695269, 0.999556, 0.999676, 0.945729, 0.980871, 0.922031, 0.949404, 0.561407, 0.99984, 0.966236, 0.999982, 0.453937, 0.994774, 0.764113, 0.979177, 0.821799, 0.990371, 0.987956, 0.821815, 0.987906, 0.991775, 0.773248, 0.999118, 0.516184, 0.987643, 0.945419, 0.997106, 0.999979, 0.988757, 0.999084, 0.991011, 0.998455, 0.616812, 0.9264, 0.971761, 0.891544, 0.632095, 0.999554, 0.821651, 0.541505, 0.708585, 0.687464, 0.992489, 0.876022, 0.851777, 0.983671, 0.99993, 0.668392, 0.999887, 0.999739, 0.712214, 0.999417, 0.989515, 0.999971, 0.997669, 0.941538, 0.999447, 0.986496, 0.520802, 0.996882, 0.999825, 0.724986, 0.919904, 0.951895, 0.992499, 0.992022, 0.995848, 1.0, 0.992704, 0.971496, 0.998854, 0.907693, 0.88933, 0.657427, 0.648428, 0.99776, 0.799364, 1.0, 0.971628, 0.999674, 0.5678, 0.816115, 0.995258, 0.879776, 0.999993, 0.937837, 0.965036, 0.801201, 0.978055, 0.999176, 0.762492, 0.92457, 0.999928, 0.504689, 0.816115, 0.966256, 0.982554, 0.999997, 0.970668, 0.999934, 0.996885, 0.975757, 0.972212, 0.997126, 0.87786, 0.992937, 0.998939, 0.98917, 0.855316, 0.857341, 0.674335, 0.957036, 0.999946, 0.981268, 0.984558, 0.993536, 0.97475, 0.67931, 0.9967, 0.988564, 0.924899, 0.744397, 0.999115, 0.959322, 0.999011, 0.866276, 0.989271, 0.998315, 0.972313, 0.997768, 0.929784, 0.669396, 0.957492, 0.990588, 0.615173, 0.986347, 0.999867, 0.91272, 0.902467, 0.666064, 0.995321, 0.992827, 0.863995, 0.710092, 0.933976, 0.53555, 0.994885, 0.76204, 1.00001, 0.991367, 0.988605, 0.997817, 0.995293, 0.971098, 0.942598, 0.902663, 0.534765, 0.999684, 0.726237, 0.360011, 0.563685, 0.74072, 0.973021, 0.963531, 0.999874, 0.997065, 0.965239, 0.959088, 0.997946, 0.863987, 0.577816, 0.935809, 0.999626, 0.998367, 0.812657, 0.727183, 0.766738, 0.833776, 0.994471, 0.972497, 0.994487, 0.968657, 0.566121, 0.986515, 0.856175, 0.725415, 0.983605, 0.978869, 0.999296, 0.999313, 0.986048, 0.999998, 0.913901, 0.816115, 0.995127, 0.932277, 0.865182, 0.999929, 0.923539, 0.997762, 0.998916, 0.98513, 0.942499, 0.990763, 0.99741, 0.696409, 0.991096, 0.688814, 0.936813, 0.651898, 0.700582, 0.951796, 0.999749, 0.810679, 0.99918, 0.94648, 0.922068, 0.998651, 0.816115, 0.996347, 0.641207, 0.950565, 0.973888, 0.816115, 0.851944, 0.995507, 0.987269, 0.999012, 0.981314, 0.856198, 0.630231, 0.999635, 0.999993, 0.958821, 0.809501, 0.963602, 0.99312, 0.964249, 0.934951, 0.985092, 0.997029, 0.935274, 0.560537, 0.948651, 0.990545, 0.999173, 0.998158, 0.99915, 0.994625, 0.545676, 0.549138, 0.880738, 0.694145, 0.514481, 0.881998, 0.998999, 0.995508, 0.975244, 1.00001, 0.857746, 0.890847, 0.866709, 0.999908, 0.858923, 0.999918, 0.531198, 0.994194, 0.999752, 0.983446, 0.999329, 0.930804, 0.983378, 0.97171, 0.841916, 1.0, 0.607374, 0.998874, 0.968696, 0.950071, 0.816115, 0.831878, 0.838747, 0.850037, 0.83139, 0.755081, 0.984869, 0.745227, 0.97069, 0.859352, 0.716795, 0.99284, 0.931226, 0.684762, 0.631328, 0.631409, 0.963087, 0.697815, 0.673441, 0.998944, 0.99907, 0.8995, 0.993633, 0.998351, 0.998157, 0.999902, 0.580413, 0.779701, 0.999447, 0.910841, 0.996864, 0.989213, 0.970289, 0.999498, 1.00001, 0.997133, 0.753996, 0.78876, 0.923849, 0.999986, 0.812194, 0.999763, 0.970081, 0.991286, 0.775013, 0.989305, 0.988376, 0.489096, 0.999912, 0.960489, 0.949793, 0.994552, 0.874305, 0.731891, 0.999151, 0.999597, 0.998455, 0.417224, 0.997676, 0.422693, 0.973037, 0.874643, 0.918083, 0.999997, 0.816115, 0.816115, 0.755246, 0.960582, 0.960768, 1.0, 0.999742, 0.816115, 0.94138, 0.575355, 0.918171, 0.989759, 0.992752, 0.992073, 0.982879, 0.619524, 0.935479, 0.931458, 0.967004, 0.998689, 0.959121, 0.983407, 0.99597, 0.995397, 0.999997, 1.00001, 0.886961, 0.961913, 0.785455, 0.501421, 0.999244, 0.999982, 0.994959, 0.808195, 0.999941, 0.999901, 0.779572, 0.99646, 0.999345, 0.847467, 0.999989, 0.997511, 0.958818, 0.99941, 1.00001, 0.808414, 0.996746, 0.974267, 0.745526, 0.921167, 0.965698, 0.993798, 1.00001, 0.576983, 0.503788, 0.965365, 0.999369, 0.998886, 0.997846, 0.99904, 0.993797, 0.537539, 0.842303, 0.904456, 0.999151, 0.755813, 0.99889, 0.998093, 0.881937, 0.964003, 0.884697, 0.950092, 0.999626, 0.984793, 0.873751, 0.9919, 0.626975, 0.999229, 0.534753, 0.931417, 0.797726, 0.592754, 0.991361, 0.843782, 0.99947, 0.940804, 0.991751, 0.963623, 0.995555, 0.635836, 0.999553, 0.939177, 0.987788, 0.989888, 0.983817, 0.802967, 0.89025, 0.999902, 0.99998, 0.89068, 0.987063, 0.999981, 0.991686, 0.995424, 0.992714, 0.993179, 0.994932, 0.441276, 0.784051, 0.994082, 0.996923, 0.967459, 0.995457, 0.931365, 0.689914, 0.558041, 0.948425, 0.93974, 0.999574, 0.817089, 0.832414, 0.588735, 0.996417, 0.80382, 0.97627, 0.998044, 0.756605, 0.998897, 0.924823, 0.985757, 0.952129, 0.993152, 0.964205, 0.943161, 0.883668, 0.987178, 0.987753, 0.453375, 0.786633, 0.516354, 0.865408, 0.995508, 0.955095, 0.995028, 0.961758, 0.989704, 0.816115, 0.96629, 0.978597, 0.999984, 0.621063, 0.747048, 0.985972, 0.726279, 0.594014, 0.649798, 0.983509, 0.996835, 0.90442, 0.857365, 0.989096, 0.931969, 0.915972, 0.855076, 0.376616, 0.997536, 0.838009, 0.66818, 0.657929, 0.985846, 0.77594, 0.996404, 0.912597, 0.731056, 0.99312, 0.989618, 0.816115, 0.867135, 1.00001, 0.544542, 0.873438, 0.960186, 0.740275, 0.996401, 0.970527, 0.996143, 0.964289, 0.594912, 0.991676, 0.999759, 0.522816, 0.892081, 0.540698, 0.87957, 0.854574, 0.9196, 0.997457, 0.849788, 0.884286, 0.940653, 0.981028, 0.998837, 0.5201, 0.669396, 0.894062, 0.998334, 0.829278, 0.893242, 0.787918, 0.979652, 0.999644, 0.577923, 0.94176, 0.999487, 0.990961, 0.944811, 0.99193, 0.785806, 0.970653, 0.996933, 0.98396, 0.883857, 0.816115, 0.907627, 0.591078, 0.977482, 0.999848, 0.99958, 0.999864, 0.998944, 0.734573, 0.967454, 0.626409, 0.997166, 0.994356, 0.972946, 0.99836, 0.966608, 0.966455, 0.999948, 0.981868, 0.805446, 0.982271, 0.998081, 0.997195, 0.959044, 0.834856, 0.591302, 0.999167, 0.999995, 0.948205, 0.775651, 0.994079, 0.656265, 0.739342, 0.87843, 0.994655, 0.849861, 0.895764, 0.986565, 0.970271, 0.535564, 1.00001, 0.670149, 0.561975, 0.837293, 0.531948, 0.954403, 0.939981, 0.995227, 0.9996, 0.885531, 0.695624, 0.935388, 0.700292, 0.97964, 0.999231, 0.589084, 0.998167, 0.934222, 0.976731, 0.847968, 0.899636, 0.998709, 0.618932, 0.972947, 0.985536, 0.563624, 0.409632, 0.955186, 0.928915, 0.90086, 0.599328, 0.911017, 0.991915, 0.999604, 0.99997, 0.969306, 0.985497, 0.9888, 1.00001, 0.746178, 0.999611, 0.99251, 0.986527, 0.799268, 0.977534, 0.956511, 0.824638, 0.999647, 0.816115, 0.99969, 0.995493, 0.97989, 0.784591, 0.97513, 0.885859, 0.993209, 0.999256, 0.921778, 0.918423, 0.506152, 0.50278, 0.99888, 0.65963, 0.919873, 0.697009, 0.987935, 0.396919, 0.999964, 0.592639, 0.9833, 0.839639, 0.949775, 0.999306, 0.992184, 0.996824, 0.531729, 0.786043, 0.868763, 0.997643, 0.510956, 0.999959, 0.841325, 0.998093, 0.999262, 0.927404, 0.592284, 0.990459, 0.830524, 0.529064, 0.934807, 0.999963, 0.998867, 0.987928, 0.957421, 0.990382, 0.995961, 0.991689, 0.969917, 0.966075, 0.995164, 0.964492, 0.964329, 0.988844, 0.723976, 0.988086, 0.926839, 0.614424, 0.816115, 0.999042, 0.980671, 0.816115, 0.656814, 0.983624, 0.851085, 0.99802, 0.999998, 0.99175, 0.615255, 0.947068, 0.981469, 0.981166, 0.502157, 0.931379, 0.884563, 0.612073, 0.505601, 0.759094, 0.999147, 0.827456, 1.00001, 0.680637, 0.510625, 0.97118, 0.999013, 1.00001, 0.998576, 0.919864, 0.999951, 0.964283, 0.879834, 0.53381, 0.999627, 0.999966, 0.983552, 0.930211, 0.996152, 0.977037, 0.997452, 0.823706, 0.983551, 0.985617, 0.999863, 0.663467, 0.998578, 0.78253, 0.968861, 0.999849, 0.997567, 0.63353, 0.869666, 0.999986, 0.998796, 0.983933, 0.936118, 0.966639, 0.824244, 0.803684, 0.881596, 0.955403, 0.992023, 0.982235, 0.998086, 0.999096, 0.999389, 0.984627, 0.99807, 0.968126, 0.991825, 0.539291, 0.980793, 0.959947, 0.972476, 0.617708, 0.980595, 0.909626, 0.992905, 0.993941, 0.846517, 0.996299, 0.992863, 0.864642, 0.999852, 0.979426, 0.701729, 0.528929, 0.851513, 0.98916, 0.992667, 0.816115, 0.748902, 0.829568, 0.992854, 0.998313, 0.982216, 0.977007, 0.992711, 0.670763, 0.827963, 0.852735, 0.56916, 0.777861, 0.812859, 0.999308, 0.999513, 0.999294, 0.868281, 0.997984, 0.983166, 0.997736, 0.999956, 0.999489, 0.969487, 0.989499, 0.890478, 0.88546, 1.00001, 0.997535, 0.973102, 0.996177, 0.987048, 0.550122, 0.999896, 1.00001, 0.645641, 0.990143, 0.938169, 0.682688, 0.700048, 0.655613, 0.816115, 0.970398, 0.989517, 0.990743, 0.9692, 0.999626, 0.928352, 0.453799, 1.00001, 0.994838, 0.997173, 0.999657, 0.984687, 0.988455, 0.974031, 0.653539, 0.986014, 0.598577, 0.999681, 0.556585, 0.89634, 0.993442, 0.997184, 0.948613, 0.622951, 1.00001, 0.941682, 0.816115, 0.999924, 0.998061, 0.814439, 0.644557, 0.994919, 0.866268, 0.921106, 0.512472, 0.584373, 0.99999, 0.998771, 0.75324, 0.999576, 0.964551, 0.992649, 0.816115, 0.816115, 0.816115, 0.999236, 0.772516, 0.985178, 0.999037, 0.965113, 0.997408, 0.999818, 0.883291, 1.00001, 0.782251, 0.99934, 0.975679, 0.998644, 0.982308, 0.996014, 0.785279, 0.679358, 0.999951, 0.999975, 0.902409, 0.992583, 0.999745, 0.957434, 0.778574, 0.998164, 0.615411, 0.79459, 0.511697, 0.987867, 0.976257, 0.679082, 0.505392, 0.891998, 0.947489, 0.998507, 0.524998, 0.955261, 0.937436, 0.956473, 0.98229, 0.70851, 0.993699, 0.967272, 1.00001, 0.928237, 0.999989, 0.999967, 0.995978, 0.999104, 0.999842, 0.930969, 0.999628, 0.558073, 0.999715, 0.84461, 0.99876, 0.995703, 0.42942, 0.894099, 0.928795, 0.936844, 0.942435, 0.824563, 0.952544, 0.995764, 0.991645, 0.999905, 0.910717, 0.528605, 0.975672, 0.998744, 0.930952, 0.927815, 0.999732, 0.85424, 0.481751, 0.765769, 0.995792, 0.792803, 0.944712, 0.899602, 0.999634, 0.93237, 0.913682, 0.981743, 0.655539, 0.988715, 0.99494, 0.990509, 0.992473, 0.916755, 0.984949, 0.829465, 0.998446, 0.999948, 0.99217, 0.549912, 0.928361, 0.991762, 0.983293, 0.446244, 0.886816, 0.994955, 0.966214, 0.992717, 0.998914, 0.996641, 0.752038, 0.99779, 0.928004, 0.985521, 0.987249, 0.900562, 1.0, 0.987424, 0.996658, 0.989804, 0.999993, 0.995004, 0.999126, 0.723427, 0.91996, 0.999804, 0.995227, 0.973132, 0.999828, 0.999709, 0.437264, 0.913774, 0.676506, 0.909123, 0.763359, 0.938715, 0.90334, 0.923308, 0.843161, 0.974973, 0.997441, 0.634389, 0.999432, 0.998904, 0.972913, 0.976958, 0.776704, 0.804265, 0.995006, 0.997395, 0.921258, 0.738448, 0.994787, 0.964496, 0.754617, 0.999845, 0.741089, 0.984094, 0.986221, 0.999705, 0.828718, 0.978939, 0.970514, 0.933103, 0.999612, 0.959777, 0.999917, 0.83774, 0.532433, 0.984836, 0.96392, 0.997621, 0.989291, 1.00001, 0.99288, 0.997714, 0.872988, 0.827237, 0.590157, 0.999973, 0.999786, 0.588515, 0.989453, 0.970999, 0.996097, 0.979311, 0.698847, 0.38915, 0.506701, 0.999735, 0.999125, 0.97948, 0.75288, 0.875461, 0.614149, 0.551634, 0.923975, 0.854636, 0.943565, 0.984745, 0.761164, 0.999814, 0.897412, 0.97076, 0.999496, 0.819367, 0.486621, 0.568944, 0.668481, 0.997966, 0.998529, 0.920865, 0.999851, 1.00001, 0.998403, 0.99784, 0.862531, 0.876864, 0.652876, 0.816115, 0.941423, 0.874836, 0.99769, 0.546633, 0.967006, 0.686831, 0.824002, 0.70767, 0.993704, 0.699801, 0.990557, 0.904016, 0.582653, 0.995906, 0.988639, 0.87114, 0.521763, 0.633916, 0.994652, 0.669537, 0.936098, 0.998853, 0.600789, 0.999424, 0.998758, 0.999447, 0.892639, 0.991652, 0.999135, 0.987006, 0.728489, 0.707859, 0.728955, 0.98587, 0.767475, 0.935378, 0.97388, 0.930548, 0.725796, 0.611612, 0.862145, 0.943179, 0.793471, 0.677245, 0.997027, 0.99852, 0.621976, 0.973442, 1.00001, 0.758229, 0.562479, 0.746885, 0.595712, 0.912257, 0.813201, 0.930825, 0.913682, 0.997861, 0.962772, 0.997025, 0.971926, 0.827295, 0.891737, 0.860422, 0.855146, 0.820361, 0.870582, 0.975586, 0.999979, 0.817221, 0.99034, 0.942553, 0.849047, 0.854086, 0.982993, 0.587133, 0.999758, 0.997863, 0.972429, 0.983876, 0.911661, 0.871335, 0.780082, 1.0, 0.649901, 0.733708, 0.76625, 0.739763, 0.996839, 0.718828]\n",
      "precision: [0.36708861 0.67616034 0.5162037 ]\n",
      "recall: [0.20863309 0.76309524 0.46458333]\n",
      "f_score: [0.26605505 0.71700224 0.48903509]\n"
     ]
    }
   ],
   "source": [
    "from sklearn.metrics import precision_recall_fscore_support\n",
    "import pickle\n",
    "with open('variable.pickle', 'rb') as f:\n",
    "            obj = pickle.load(f)\n",
    "        \n",
    "y_true=obj[0]\n",
    "y_pred=obj[1]\n",
    "y_prob=obj[2]\n",
    "print(y_true)\n",
    "print(y_pred)\n",
    "print(y_prob)\n",
    "\n",
    "\n",
    "scores = precision_recall_fscore_support(y_true, y_pred)\n",
    "\n",
    "precision=scores[0]\n",
    "print(\"precision:\",precision)\n",
    "\n",
    "recall=scores[1]\n",
    "print(\"recall:\",recall)\n",
    "\n",
    "f_score=scores[2]\n",
    "print(\"f_score:\",f_score)"
   ]
  },
  {
   "cell_type": "code",
   "execution_count": 4,
   "metadata": {},
   "outputs": [
    {
     "data": {
      "image/png": "[encoded data removed]",
      "text/plain": [
       "<Figure size 432x288 with 1 Axes>"
      ]
     },
     "metadata": {
      "needs_background": "light"
     },
     "output_type": "display_data"
    }
   ],
   "source": [
    "import matplotlib.pyplot as plt\n",
    "from sklearn.metrics import roc_curve,auc\n",
    "from sklearn.metrics import roc_auc_score\n",
    "from sklearn.preprocessing import label_binarize\n",
    "from pandas_ml import ConfusionMatrix\n",
    "# roc curve for classes\n",
    "\n",
    "pred_prob=[0.993152, 0.804913, 0.999205, 0.997278, 0.903297, 0.999813, 0.995477, 0.646327, 0.951615, 0.562315, 0.998833, 0.998416, 0.959697, 0.992376, 0.983174, 0.999647, 0.994578, 0.99709, 0.774621, 0.994482, 0.943853, 0.782452, 0.999611, 0.976672, 0.94838, 0.999594, 0.666705, 0.998324, 0.995666, 0.892386, 0.992404, 1.00001, 0.99672, 0.999917, 0.977052, 0.709936, 0.872101, 0.991475, 0.97417, 0.773132, 0.999724, 0.954783, 0.863778, 0.991599, 0.816115, 0.951936, 0.999986, 0.474358, 0.893399, 0.529687, 0.861384, 0.600273, 1.00001, 0.996401, 0.984986, 0.950153, 0.95271, 0.998933, 0.987233, 0.74197, 0.895949, 0.996621, 0.990611, 0.998358, 0.999909, 0.816115, 0.996497, 0.807596, 0.969743, 0.907789, 0.961951, 0.990194, 0.990715, 0.999824, 0.999568, 0.900803, 0.869921, 0.931079, 0.993091, 0.998842, 0.939033, 0.995506, 0.991491, 0.988908, 0.968213, 0.981934, 0.97987, 0.92818, 0.99695, 0.997533, 0.997598, 0.972946, 0.999996, 0.982595, 0.865106, 0.482533, 0.990509, 0.74397, 0.863495, 0.806172, 0.623141, 0.999949, 0.976784, 1.00001, 0.77634, 0.888445, 0.657714, 0.996715, 0.996464, 0.926065, 0.999921, 0.668681, 0.976274, 0.987498, 0.676658, 0.990465, 0.640627, 0.964315, 0.998941, 0.917371, 0.418148, 0.998933, 0.803841, 0.562327, 0.999657, 0.50108, 0.916475, 0.535813, 0.997255, 0.950293, 0.965304, 0.987007, 0.936446, 0.956158, 0.807671, 0.984419, 0.842939, 0.920512, 0.995815, 0.981943, 0.983331, 0.931995, 0.532607, 0.968072, 0.999979, 0.999417, 0.961373, 0.999965, 0.981679, 0.900281, 0.856096, 0.971125, 0.995023, 0.856211, 0.527435, 0.684076, 0.866696, 0.668399, 0.996389, 0.987071, 0.816115, 0.994313, 0.985702, 1.00001, 0.894511, 0.999742, 0.96175, 0.991306, 0.951751, 0.999772, 0.92451, 0.965116, 0.443402, 0.644686, 0.876458, 0.955868, 0.631214, 0.98899, 0.999943, 0.983155, 0.977458, 1.00001, 0.751178, 0.999219, 0.540921, 0.992215, 0.814617, 0.709739, 0.977753, 0.999119, 0.939443, 0.756404, 0.995918, 0.999635, 0.962984, 0.93766, 0.999967, 0.64882, 0.977515, 0.986187, 0.880363, 0.998191, 0.996722, 0.954138, 0.890855, 0.996256, 0.97924, 0.990184, 0.516924, 0.582429, 0.994291, 0.999915, 0.970475, 0.998704, 0.97276, 0.994466, 0.959042, 0.996282, 0.717824, 0.898053, 0.9058, 0.956777, 0.999665, 0.750645, 0.817707, 0.998872, 0.594494, 0.496967, 0.551442, 0.982052, 0.999451, 0.950146, 0.982458, 0.996238, 0.893407, 0.999934, 0.798647, 0.576357, 0.999309, 0.96964, 1.0, 0.978837, 0.729996, 0.721445, 0.999804, 0.954549, 0.826441, 0.880761, 0.794476, 0.624731, 0.766339, 0.932733, 0.566244, 0.860776, 1.0, 0.648909, 0.99923, 0.907574, 0.581479, 0.972272, 0.906626, 0.938428, 0.695269, 0.999556, 0.999676, 0.945729, 0.980871, 0.922031, 0.949404, 0.561407, 0.99984, 0.966236, 0.999982, 0.453937, 0.994774, 0.764113, 0.979177, 0.821799, 0.990371, 0.987956, 0.821815, 0.987906, 0.991775, 0.773248, 0.999118, 0.516184, 0.987643, 0.945419, 0.997106, 0.999979, 0.988757, 0.999084, 0.991011, 0.998455, 0.616812, 0.9264, 0.971761, 0.891544, 0.632095, 0.999554, 0.821651, 0.541505, 0.708585, 0.687464, 0.992489, 0.876022, 0.851777, 0.983671, 0.99993, 0.668392, 0.999887, 0.999739, 0.712214, 0.999417, 0.989515, 0.999971, 0.997669, 0.941538, 0.999447, 0.986496, 0.520802, 0.996882, 0.999825, 0.724986, 0.919904, 0.951895, 0.992499, 0.992022, 0.995848, 1.0, 0.992704, 0.971496, 0.998854, 0.907693, 0.88933, 0.657427, 0.648428, 0.99776, 0.799364, 1.0, 0.971628, 0.999674, 0.5678, 0.816115, 0.995258, 0.879776, 0.999993, 0.937837, 0.965036, 0.801201, 0.978055, 0.999176, 0.762492, 0.92457, 0.999928, 0.504689, 0.816115, 0.966256, 0.982554, 0.999997, 0.970668, 0.999934, 0.996885, 0.975757, 0.972212, 0.997126, 0.87786, 0.992937, 0.998939, 0.98917, 0.855316, 0.857341, 0.674335, 0.957036, 0.999946, 0.981268, 0.984558, 0.993536, 0.97475, 0.67931, 0.9967, 0.988564, 0.924899, 0.744397, 0.999115, 0.959322, 0.999011, 0.866276, 0.989271, 0.998315, 0.972313, 0.997768, 0.929784, 0.669396, 0.957492, 0.990588, 0.615173, 0.986347, 0.999867, 0.91272, 0.902467, 0.666064, 0.995321, 0.992827, 0.863995, 0.710092, 0.933976, 0.53555, 0.994885, 0.76204, 1.00001, 0.991367, 0.988605, 0.997817, 0.995293, 0.971098, 0.942598, 0.902663, 0.534765, 0.999684, 0.726237, 0.360011, 0.563685, 0.74072, 0.973021, 0.963531, 0.999874, 0.997065, 0.965239, 0.959088, 0.997946, 0.863987, 0.577816, 0.935809, 0.999626, 0.998367, 0.812657, 0.727183, 0.766738, 0.833776, 0.994471, 0.972497, 0.994487, 0.968657, 0.566121, 0.986515, 0.856175, 0.725415, 0.983605, 0.978869, 0.999296, 0.999313, 0.986048, 0.999998, 0.913901, 0.816115, 0.995127, 0.932277, 0.865182, 0.999929, 0.923539, 0.997762, 0.998916, 0.98513, 0.942499, 0.990763, 0.99741, 0.696409, 0.991096, 0.688814, 0.936813, 0.651898, 0.700582, 0.951796, 0.999749, 0.810679, 0.99918, 0.94648, 0.922068, 0.998651, 0.816115, 0.996347, 0.641207, 0.950565, 0.973888, 0.816115, 0.851944, 0.995507, 0.987269, 0.999012, 0.981314, 0.856198, 0.630231, 0.999635, 0.999993, 0.958821, 0.809501, 0.963602, 0.99312, 0.964249, 0.934951, 0.985092, 0.997029, 0.935274, 0.560537, 0.948651, 0.990545, 0.999173, 0.998158, 0.99915, 0.994625, 0.545676, 0.549138, 0.880738, 0.694145, 0.514481, 0.881998, 0.998999, 0.995508, 0.975244, 1.00001, 0.857746, 0.890847, 0.866709, 0.999908, 0.858923, 0.999918, 0.531198, 0.994194, 0.999752, 0.983446, 0.999329, 0.930804, 0.983378, 0.97171, 0.841916, 1.0, 0.607374, 0.998874, 0.968696, 0.950071, 0.816115, 0.831878, 0.838747, 0.850037, 0.83139, 0.755081, 0.984869, 0.745227, 0.97069, 0.859352, 0.716795, 0.99284, 0.931226, 0.684762, 0.631328, 0.631409, 0.963087, 0.697815, 0.673441, 0.998944, 0.99907, 0.8995, 0.993633, 0.998351, 0.998157, 0.999902, 0.580413, 0.779701, 0.999447, 0.910841, 0.996864, 0.989213, 0.970289, 0.999498, 1.00001, 0.997133, 0.753996, 0.78876, 0.923849, 0.999986, 0.812194, 0.999763, 0.970081, 0.991286, 0.775013, 0.989305, 0.988376, 0.489096, 0.999912, 0.960489, 0.949793, 0.994552, 0.874305, 0.731891, 0.999151, 0.999597, 0.998455, 0.417224, 0.997676, 0.422693, 0.973037, 0.874643, 0.918083, 0.999997, 0.816115, 0.816115, 0.755246, 0.960582, 0.960768, 1.0, 0.999742, 0.816115, 0.94138, 0.575355, 0.918171, 0.989759, 0.992752, 0.992073, 0.982879, 0.619524, 0.935479, 0.931458, 0.967004, 0.998689, 0.959121, 0.983407, 0.99597, 0.995397, 0.999997, 1.00001, 0.886961, 0.961913, 0.785455, 0.501421, 0.999244, 0.999982, 0.994959, 0.808195, 0.999941, 0.999901, 0.779572, 0.99646, 0.999345, 0.847467, 0.999989, 0.997511, 0.958818, 0.99941, 1.00001, 0.808414, 0.996746, 0.974267, 0.745526, 0.921167, 0.965698, 0.993798, 1.00001, 0.576983, 0.503788, 0.965365, 0.999369, 0.998886, 0.997846, 0.99904, 0.993797, 0.537539, 0.842303, 0.904456, 0.999151, 0.755813, 0.99889, 0.998093, 0.881937, 0.964003, 0.884697, 0.950092, 0.999626, 0.984793, 0.873751, 0.9919, 0.626975, 0.999229, 0.534753, 0.931417, 0.797726, 0.592754, 0.991361, 0.843782, 0.99947, 0.940804, 0.991751, 0.963623, 0.995555, 0.635836, 0.999553, 0.939177, 0.987788, 0.989888, 0.983817, 0.802967, 0.89025, 0.999902, 0.99998, 0.89068, 0.987063, 0.999981, 0.991686, 0.995424, 0.992714, 0.993179, 0.994932, 0.441276, 0.784051, 0.994082, 0.996923, 0.967459, 0.995457, 0.931365, 0.689914, 0.558041, 0.948425, 0.93974, 0.999574, 0.817089, 0.832414, 0.588735, 0.996417, 0.80382, 0.97627, 0.998044, 0.756605, 0.998897, 0.924823, 0.985757, 0.952129, 0.993152, 0.964205, 0.943161, 0.883668, 0.987178, 0.987753, 0.453375, 0.786633, 0.516354, 0.865408, 0.995508, 0.955095, 0.995028, 0.961758, 0.989704, 0.816115, 0.96629, 0.978597, 0.999984, 0.621063, 0.747048, 0.985972, 0.726279, 0.594014, 0.649798, 0.983509, 0.996835, 0.90442, 0.857365, 0.989096, 0.931969, 0.915972, 0.855076, 0.376616, 0.997536, 0.838009, 0.66818, 0.657929, 0.985846, 0.77594, 0.996404, 0.912597, 0.731056, 0.99312, 0.989618, 0.816115, 0.867135, 1.00001, 0.544542, 0.873438, 0.960186, 0.740275, 0.996401, 0.970527, 0.996143, 0.964289, 0.594912, 0.991676, 0.999759, 0.522816, 0.892081, 0.540698, 0.87957, 0.854574, 0.9196, 0.997457, 0.849788, 0.884286, 0.940653, 0.981028, 0.998837, 0.5201, 0.669396, 0.894062, 0.998334, 0.829278, 0.893242, 0.787918, 0.979652, 0.999644, 0.577923, 0.94176, 0.999487, 0.990961, 0.944811, 0.99193, 0.785806, 0.970653, 0.996933, 0.98396, 0.883857, 0.816115, 0.907627, 0.591078, 0.977482, 0.999848, 0.99958, 0.999864, 0.998944, 0.734573, 0.967454, 0.626409, 0.997166, 0.994356, 0.972946, 0.99836, 0.966608, 0.966455, 0.999948, 0.981868, 0.805446, 0.982271, 0.998081, 0.997195, 0.959044, 0.834856, 0.591302, 0.999167, 0.999995, 0.948205, 0.775651, 0.994079, 0.656265, 0.739342, 0.87843, 0.994655, 0.849861, 0.895764, 0.986565, 0.970271, 0.535564, 1.00001, 0.670149, 0.561975, 0.837293, 0.531948, 0.954403, 0.939981, 0.995227, 0.9996, 0.885531, 0.695624, 0.935388, 0.700292, 0.97964, 0.999231, 0.589084, 0.998167, 0.934222, 0.976731, 0.847968, 0.899636, 0.998709, 0.618932, 0.972947, 0.985536, 0.563624, 0.409632, 0.955186, 0.928915, 0.90086, 0.599328, 0.911017, 0.991915, 0.999604, 0.99997, 0.969306, 0.985497, 0.9888, 1.00001, 0.746178, 0.999611, 0.99251, 0.986527, 0.799268, 0.977534, 0.956511, 0.824638, 0.999647, 0.816115, 0.99969, 0.995493, 0.97989, 0.784591, 0.97513, 0.885859, 0.993209, 0.999256, 0.921778, 0.918423, 0.506152, 0.50278, 0.99888, 0.65963, 0.919873, 0.697009, 0.987935, 0.396919, 0.999964, 0.592639, 0.9833, 0.839639, 0.949775, 0.999306, 0.992184, 0.996824, 0.531729, 0.786043, 0.868763, 0.997643, 0.510956, 0.999959, 0.841325, 0.998093, 0.999262, 0.927404, 0.592284, 0.990459, 0.830524, 0.529064, 0.934807, 0.999963, 0.998867, 0.987928, 0.957421, 0.990382, 0.995961, 0.991689, 0.969917, 0.966075, 0.995164, 0.964492, 0.964329, 0.988844, 0.723976, 0.988086, 0.926839, 0.614424, 0.816115, 0.999042, 0.980671, 0.816115, 0.656814, 0.983624, 0.851085, 0.99802, 0.999998, 0.99175, 0.615255, 0.947068, 0.981469, 0.981166, 0.502157, 0.931379, 0.884563, 0.612073, 0.505601, 0.759094, 0.999147, 0.827456, 1.00001, 0.680637, 0.510625, 0.97118, 0.999013, 1.00001, 0.998576, 0.919864, 0.999951, 0.964283, 0.879834, 0.53381, 0.999627, 0.999966, 0.983552, 0.930211, 0.996152, 0.977037, 0.997452, 0.823706, 0.983551, 0.985617, 0.999863, 0.663467, 0.998578, 0.78253, 0.968861, 0.999849, 0.997567, 0.63353, 0.869666, 0.999986, 0.998796, 0.983933, 0.936118, 0.966639, 0.824244, 0.803684, 0.881596, 0.955403, 0.992023, 0.982235, 0.998086, 0.999096, 0.999389, 0.984627, 0.99807, 0.968126, 0.991825, 0.539291, 0.980793, 0.959947, 0.972476, 0.617708, 0.980595, 0.909626, 0.992905, 0.993941, 0.846517, 0.996299, 0.992863, 0.864642, 0.999852, 0.979426, 0.701729, 0.528929, 0.851513, 0.98916, 0.992667, 0.816115, 0.748902, 0.829568, 0.992854, 0.998313, 0.982216, 0.977007, 0.992711, 0.670763, 0.827963, 0.852735, 0.56916, 0.777861, 0.812859, 0.999308, 0.999513, 0.999294, 0.868281, 0.997984, 0.983166, 0.997736, 0.999956, 0.999489, 0.969487, 0.989499, 0.890478, 0.88546, 1.00001, 0.997535, 0.973102, 0.996177, 0.987048, 0.550122, 0.999896, 1.00001, 0.645641, 0.990143, 0.938169, 0.682688, 0.700048, 0.655613, 0.816115, 0.970398, 0.989517, 0.990743, 0.9692, 0.999626, 0.928352, 0.453799, 1.00001, 0.994838, 0.997173, 0.999657, 0.984687, 0.988455, 0.974031, 0.653539, 0.986014, 0.598577, 0.999681, 0.556585, 0.89634, 0.993442, 0.997184, 0.948613, 0.622951, 1.00001, 0.941682, 0.816115, 0.999924, 0.998061, 0.814439, 0.644557, 0.994919, 0.866268, 0.921106, 0.512472, 0.584373, 0.99999, 0.998771, 0.75324, 0.999576, 0.964551, 0.992649, 0.816115, 0.816115, 0.816115, 0.999236, 0.772516, 0.985178, 0.999037, 0.965113, 0.997408, 0.999818, 0.883291, 1.00001, 0.782251, 0.99934, 0.975679, 0.998644, 0.982308, 0.996014, 0.785279, 0.679358, 0.999951, 0.999975, 0.902409, 0.992583, 0.999745, 0.957434, 0.778574, 0.998164, 0.615411, 0.79459, 0.511697, 0.987867, 0.976257, 0.679082, 0.505392, 0.891998, 0.947489, 0.998507, 0.524998, 0.955261, 0.937436, 0.956473, 0.98229, 0.70851, 0.993699, 0.967272, 1.00001, 0.928237, 0.999989, 0.999967, 0.995978, 0.999104, 0.999842, 0.930969, 0.999628, 0.558073, 0.999715, 0.84461, 0.99876, 0.995703, 0.42942, 0.894099, 0.928795, 0.936844, 0.942435, 0.824563, 0.952544, 0.995764, 0.991645, 0.999905, 0.910717, 0.528605, 0.975672, 0.998744, 0.930952, 0.927815, 0.999732, 0.85424, 0.481751, 0.765769, 0.995792, 0.792803, 0.944712, 0.899602, 0.999634, 0.93237, 0.913682, 0.981743, 0.655539, 0.988715, 0.99494, 0.990509, 0.992473, 0.916755, 0.984949, 0.829465, 0.998446, 0.999948, 0.99217, 0.549912, 0.928361, 0.991762, 0.983293, 0.446244, 0.886816, 0.994955, 0.966214, 0.992717, 0.998914, 0.996641, 0.752038, 0.99779, 0.928004, 0.985521, 0.987249, 0.900562, 1.0, 0.987424, 0.996658, 0.989804, 0.999993, 0.995004, 0.999126, 0.723427, 0.91996, 0.999804, 0.995227, 0.973132, 0.999828, 0.999709, 0.437264, 0.913774, 0.676506, 0.909123, 0.763359, 0.938715, 0.90334, 0.923308, 0.843161, 0.974973, 0.997441, 0.634389, 0.999432, 0.998904, 0.972913, 0.976958, 0.776704, 0.804265, 0.995006, 0.997395, 0.921258, 0.738448, 0.994787, 0.964496, 0.754617, 0.999845, 0.741089, 0.984094, 0.986221, 0.999705, 0.828718, 0.978939, 0.970514, 0.933103, 0.999612, 0.959777, 0.999917, 0.83774, 0.532433, 0.984836, 0.96392, 0.997621, 0.989291, 1.00001, 0.99288, 0.997714, 0.872988, 0.827237, 0.590157, 0.999973, 0.999786, 0.588515, 0.989453, 0.970999, 0.996097, 0.979311, 0.698847, 0.38915, 0.506701, 0.999735, 0.999125, 0.97948, 0.75288, 0.875461, 0.614149, 0.551634, 0.923975, 0.854636, 0.943565, 0.984745, 0.761164, 0.999814, 0.897412, 0.97076, 0.999496, 0.819367, 0.486621, 0.568944, 0.668481, 0.997966, 0.998529, 0.920865, 0.999851, 1.00001, 0.998403, 0.99784, 0.862531, 0.876864, 0.652876, 0.816115, 0.941423, 0.874836, 0.99769, 0.546633, 0.967006, 0.686831, 0.824002, 0.70767, 0.993704, 0.699801, 0.990557, 0.904016, 0.582653, 0.995906, 0.988639, 0.87114, 0.521763, 0.633916, 0.994652, 0.669537, 0.936098, 0.998853, 0.600789, 0.999424, 0.998758, 0.999447, 0.892639, 0.991652, 0.999135, 0.987006, 0.728489, 0.707859, 0.728955, 0.98587, 0.767475, 0.935378, 0.97388, 0.930548, 0.725796, 0.611612, 0.862145, 0.943179, 0.793471, 0.677245, 0.997027, 0.99852, 0.621976, 0.973442, 1.00001, 0.758229, 0.562479, 0.746885, 0.595712, 0.912257, 0.813201, 0.930825, 0.913682, 0.997861, 0.962772, 0.997025, 0.971926, 0.827295, 0.891737, 0.860422, 0.855146, 0.820361, 0.870582, 0.975586, 0.999979, 0.817221, 0.99034, 0.942553, 0.849047, 0.854086, 0.982993, 0.587133, 0.999758, 0.997863, 0.972429, 0.983876, 0.911661, 0.871335, 0.780082, 1.0, 0.649901, 0.733708, 0.76625, 0.739763, 0.996839, 0.718828]\n",
    "y_pred=[1, 1, 1, 2, 1, 1, 1, 2, 1, 2, 1, 1, 1, 2, 1, 1, 1, 1, 1, 2, 2, 1, 1, 1, 1, 1, 1, 1, 1, 2, 2, 1, 1, 1, 2, 1, 1, 2, 1, 1, 1, 1, 1, 1, 0, 2, 1, 1, 1, 2, 1, 1, 1, 2, 1, 2, 2, 1, 1, 1, 2, 1, 1, 1, 1, 0, 1, 1, 1, 1, 1, 1, 1, 1, 1, 2, 1, 1, 2, 1, 2, 1, 1, 1, 2, 1, 1, 1, 1, 1, 1, 1, 1, 1, 2, 2, 1, 2, 1, 1, 2, 1, 2, 1, 1, 2, 0, 1, 2, 2, 1, 2, 1, 1, 1, 1, 1, 1, 1, 1, 1, 1, 1, 1, 2, 2, 2, 0, 1, 1, 1, 1, 2, 2, 1, 2, 1, 1, 1, 1, 1, 1, 1, 1, 1, 1, 2, 1, 1, 2, 2, 1, 1, 2, 2, 2, 2, 2, 1, 2, 0, 1, 1, 1, 1, 1, 1, 1, 1, 1, 2, 1, 2, 2, 0, 1, 2, 2, 1, 2, 2, 1, 1, 2, 1, 1, 1, 2, 1, 1, 0, 2, 1, 1, 1, 1, 1, 1, 1, 1, 1, 1, 1, 1, 1, 2, 2, 1, 2, 2, 1, 1, 1, 1, 1, 1, 1, 1, 1, 1, 1, 1, 1, 1, 1, 1, 2, 2, 1, 0, 1, 1, 1, 2, 2, 1, 2, 1, 1, 2, 1, 1, 0, 1, 1, 2, 1, 1, 2, 2, 1, 1, 1, 1, 1, 2, 1, 2, 2, 2, 1, 2, 2, 1, 1, 1, 1, 1, 1, 2, 1, 2, 2, 1, 1, 2, 2, 1, 1, 1, 2, 2, 1, 2, 1, 1, 1, 2, 1, 2, 1, 1, 1, 1, 2, 1, 1, 1, 2, 1, 1, 2, 1, 2, 1, 1, 2, 2, 1, 0, 1, 1, 1, 1, 1, 1, 1, 2, 1, 1, 1, 1, 1, 1, 1, 1, 1, 1, 1, 1, 1, 1, 1, 1, 1, 2, 0, 2, 1, 1, 1, 1, 2, 0, 2, 2, 1, 1, 1, 1, 1, 1, 2, 1, 1, 1, 0, 1, 1, 1, 1, 1, 2, 1, 1, 1, 2, 2, 1, 1, 0, 2, 2, 1, 1, 0, 1, 1, 1, 0, 2, 1, 1, 1, 1, 2, 1, 1, 1, 1, 1, 2, 1, 1, 2, 1, 2, 2, 1, 1, 1, 2, 1, 1, 1, 2, 1, 2, 1, 1, 1, 2, 2, 1, 1, 1, 2, 2, 2, 2, 2, 0, 2, 1, 1, 2, 1, 1, 1, 1, 1, 1, 1, 1, 2, 2, 2, 2, 1, 2, 1, 2, 2, 1, 1, 1, 1, 1, 1, 2, 1, 1, 1, 1, 2, 0, 1, 1, 1, 1, 2, 1, 0, 1, 1, 1, 1, 1, 1, 1, 1, 1, 1, 2, 1, 1, 2, 2, 1, 1, 0, 1, 2, 2, 2, 0, 1, 1, 1, 1, 1, 2, 1, 1, 1, 1, 2, 1, 1, 2, 2, 1, 1, 2, 2, 1, 1, 1, 2, 1, 2, 2, 0, 2, 1, 2, 1, 1, 0, 1, 1, 1, 1, 2, 1, 2, 1, 2, 1, 2, 1, 2, 1, 1, 1, 2, 1, 2, 2, 2, 1, 0, 2, 1, 1, 2, 2, 2, 0, 1, 0, 2, 1, 2, 2, 1, 1, 1, 1, 2, 1, 1, 1, 1, 1, 1, 1, 2, 2, 0, 0, 1, 1, 1, 1, 0, 1, 1, 1, 1, 1, 2, 2, 2, 1, 2, 1, 2, 2, 2, 2, 1, 1, 1, 2, 1, 1, 1, 0, 1, 1, 1, 2, 2, 1, 0, 0, 2, 2, 1, 1, 1, 0, 2, 1, 1, 1, 1, 1, 1, 1, 1, 1, 1, 1, 2, 1, 2, 1, 1, 2, 1, 1, 1, 1, 1, 1, 2, 1, 1, 1, 1, 1, 1, 2, 1, 1, 2, 1, 1, 1, 1, 1, 1, 2, 2, 1, 2, 1, 2, 1, 2, 1, 2, 1, 1, 2, 1, 1, 1, 1, 1, 1, 1, 2, 1, 1, 1, 1, 2, 1, 1, 2, 1, 1, 2, 1, 1, 1, 1, 1, 1, 2, 1, 1, 1, 2, 2, 2, 1, 2, 2, 1, 1, 1, 2, 1, 2, 1, 2, 1, 2, 0, 2, 2, 1, 1, 1, 1, 2, 1, 0, 0, 1, 1, 2, 2, 2, 1, 1, 1, 2, 1, 1, 1, 2, 2, 2, 1, 1, 1, 1, 0, 1, 2, 1, 1, 2, 1, 1, 2, 0, 1, 1, 1, 1, 0, 1, 2, 2, 1, 2, 1, 2, 2, 1, 1, 2, 2, 1, 1, 1, 1, 1, 2, 1, 1, 1, 0, 1, 2, 0, 1, 1, 2, 2, 1, 2, 1, 1, 1, 1, 0, 1, 1, 1, 1, 2, 2, 1, 1, 1, 1, 1, 2, 1, 1, 0, 1, 1, 2, 2, 1, 2, 0, 1, 2, 1, 2, 1, 2, 2, 2, 1, 1, 2, 0, 0, 2, 0, 1, 1, 1, 1, 1, 1, 2, 2, 1, 1, 1, 1, 1, 1, 1, 1, 1, 1, 1, 1, 1, 1, 1, 1, 1, 2, 1, 1, 2, 1, 2, 1, 2, 2, 2, 1, 2, 1, 0, 2, 1, 1, 2, 1, 2, 1, 2, 2, 2, 2, 2, 1, 1, 1, 1, 1, 2, 1, 1, 2, 1, 2, 1, 0, 1, 2, 1, 2, 0, 2, 1, 1, 1, 1, 1, 1, 2, 1, 1, 1, 2, 1, 1, 1, 1, 0, 1, 1, 1, 1, 2, 1, 1, 1, 1, 1, 2, 1, 1, 1, 2, 1, 2, 1, 1, 2, 0, 2, 2, 1, 2, 1, 2, 2, 1, 1, 1, 1, 1, 1, 2, 2, 2, 2, 1, 1, 1, 2, 1, 1, 2, 1, 1, 1, 2, 1, 1, 1, 2, 1, 2, 2, 2, 1, 0, 1, 1, 0, 1, 2, 1, 2, 1, 1, 1, 1, 1, 1, 2, 2, 1, 2, 1, 1, 1, 2, 1, 0, 1, 2, 1, 1, 1, 2, 1, 1, 2, 1, 1, 1, 1, 1, 1, 1, 1, 1, 1, 1, 1, 1, 1, 1, 1, 1, 2, 2, 2, 1, 1, 1, 1, 1, 2, 2, 1, 1, 1, 1, 2, 2, 1, 1, 1, 1, 1, 1, 1, 1, 1, 1, 1, 1, 1, 2, 0, 1, 2, 2, 1, 2, 1, 2, 1, 2, 1, 0, 2, 1, 1, 1, 2, 1, 2, 2, 1, 1, 1, 2, 2, 1, 1, 1, 2, 2, 1, 1, 1, 1, 1, 1, 2, 2, 1, 1, 0, 2, 1, 1, 1, 2, 2, 2, 1, 2, 2, 1, 0, 2, 1, 1, 1, 1, 1, 0, 1, 1, 1, 1, 2, 0, 1, 2, 2, 2, 2, 1, 1, 1, 1, 1, 2, 1, 1, 0, 1, 1, 2, 2, 1, 1, 2, 2, 2, 2, 1, 2, 1, 1, 1, 0, 0, 0, 0, 0, 1, 1, 1, 1, 1, 1, 1, 2, 1, 2, 1, 1, 2, 2, 1, 1, 1, 1, 2, 1, 1, 2, 1, 2, 1, 2, 1, 1, 2, 2, 2, 0, 1, 2, 1, 1, 2, 2, 1, 2, 2, 1, 1, 1, 1, 0, 1, 1, 1, 1, 1, 1, 1, 2, 1, 2, 2, 1, 2, 1, 2, 1, 1, 1, 1, 1, 1, 1, 1, 2, 2, 1, 2, 2, 1, 2, 1, 2, 2, 2, 2, 1, 2, 1, 2, 1, 1, 2, 1, 1, 1, 1, 1, 2, 1, 1, 1, 1, 0, 2, 2, 1, 1, 1, 1, 2, 1, 1, 1, 1, 1, 1, 2, 0, 1, 2, 2, 2, 2, 1, 1, 1, 1, 1, 1, 0, 1, 1, 1, 0, 1, 1, 1, 1, 1, 1, 2, 1, 1, 1, 1, 2, 1, 1, 2, 1, 1, 1, 2, 1, 2, 2, 1, 1, 1, 2, 2, 1, 1, 1, 1, 1, 1, 0, 2, 2, 1, 1, 1, 1, 1, 1, 1, 2, 1, 1, 2, 1, 1, 1, 1, 2, 2, 0, 1, 1, 1, 1, 2, 2, 2, 2, 2, 1, 1, 2, 1, 1, 0, 2, 1, 1, 1, 1, 1, 1, 2, 2, 1, 1, 1, 1, 2, 0, 0, 2, 1, 2, 2, 1, 1, 1, 2, 1, 1, 2, 1, 2, 1, 2, 1, 2, 1, 2, 2, 1, 1, 1, 1, 1, 1, 2, 2, 1, 1, 1, 1, 1, 2, 1, 1, 0, 1, 1, 1, 2, 1, 1, 1, 1, 1, 1, 1, 1, 2, 2, 1, 1, 2, 2, 1, 1, 1, 1, 1, 1, 1, 1, 1, 2, 2, 2, 1, 1, 1, 1, 1, 2, 1, 1, 1, 1, 1, 1, 1, 1, 2, 1, 1, 1, 1, 1, 2, 1, 1]\n",
    "y_true=[2, 1, 2, 2, 1, 1, 1, 1, 2, 0, 1, 2, 1, 0, 2, 1, 1, 2, 2, 2, 2, 1, 1, 1, 1, 2, 2, 1, 1, 2, 2, 1, 1, 1, 1, 1, 0, 0, 2, 2, 2, 1, 2, 1, 1, 0, 1, 1, 1, 1, 1, 0, 1, 0, 1, 1, 0, 1, 1, 1, 2, 1, 0, 1, 0, 0, 1, 2, 1, 2, 1, 1, 2, 1, 1, 1, 1, 1, 2, 2, 1, 1, 1, 1, 1, 1, 1, 1, 1, 1, 1, 0, 2, 2, 1, 2, 1, 2, 1, 0, 1, 1, 2, 1, 2, 2, 0, 1, 2, 1, 2, 2, 1, 1, 2, 1, 2, 1, 1, 1, 1, 1, 2, 2, 2, 2, 0, 2, 1, 1, 2, 1, 1, 1, 2, 2, 1, 1, 1, 2, 0, 1, 2, 2, 1, 2, 2, 1, 1, 1, 1, 1, 0, 1, 1, 2, 2, 1, 0, 1, 2, 1, 1, 1, 1, 1, 1, 1, 2, 1, 0, 2, 0, 1, 1, 1, 2, 1, 1, 1, 2, 1, 1, 2, 1, 1, 0, 2, 2, 1, 2, 2, 0, 1, 1, 2, 1, 1, 0, 1, 1, 1, 1, 2, 2, 1, 1, 1, 2, 0, 2, 0, 0, 1, 2, 1, 2, 0, 1, 1, 1, 1, 1, 2, 1, 0, 1, 1, 1, 0, 1, 0, 1, 1, 2, 1, 2, 1, 1, 1, 1, 1, 2, 2, 1, 2, 2, 1, 2, 2, 0, 2, 1, 0, 1, 1, 1, 1, 2, 1, 1, 1, 1, 1, 1, 1, 2, 1, 2, 2, 1, 2, 2, 1, 1, 2, 2, 1, 2, 1, 1, 2, 1, 1, 1, 2, 1, 1, 2, 2, 1, 2, 1, 2, 1, 1, 1, 1, 1, 1, 0, 1, 2, 1, 1, 1, 1, 2, 2, 1, 1, 1, 1, 1, 2, 1, 1, 1, 2, 1, 1, 1, 1, 1, 1, 1, 1, 2, 2, 1, 1, 1, 1, 1, 1, 2, 0, 2, 0, 2, 2, 2, 1, 1, 2, 1, 1, 1, 1, 2, 1, 2, 2, 1, 1, 1, 2, 1, 1, 1, 2, 1, 2, 1, 1, 1, 1, 2, 1, 1, 1, 2, 2, 1, 1, 0, 1, 1, 1, 0, 2, 1, 2, 0, 1, 1, 1, 1, 1, 2, 1, 1, 1, 1, 2, 1, 2, 2, 1, 1, 1, 1, 1, 2, 2, 2, 1, 1, 1, 1, 1, 2, 2, 0, 0, 2, 2, 2, 2, 0, 1, 1, 2, 1, 1, 2, 2, 1, 1, 1, 1, 2, 1, 1, 2, 2, 1, 2, 2, 2, 1, 2, 2, 1, 1, 1, 2, 2, 1, 2, 1, 1, 1, 1, 1, 1, 2, 2, 1, 1, 2, 1, 0, 1, 1, 1, 1, 1, 1, 2, 1, 1, 2, 2, 1, 2, 2, 2, 1, 1, 2, 1, 1, 1, 2, 2, 1, 1, 1, 1, 2, 2, 2, 1, 0, 1, 1, 2, 2, 2, 1, 2, 1, 1, 0, 1, 2, 1, 1, 1, 2, 1, 0, 1, 1, 1, 1, 1, 0, 1, 1, 2, 1, 1, 0, 1, 2, 2, 1, 2, 1, 1, 1, 1, 1, 0, 1, 0, 2, 1, 1, 0, 2, 1, 0, 1, 2, 1, 0, 1, 1, 2, 2, 2, 1, 1, 0, 1, 1, 0, 0, 1, 2, 1, 2, 1, 1, 1, 1, 0, 1, 2, 1, 1, 1, 0, 1, 2, 1, 1, 1, 1, 2, 1, 1, 2, 1, 2, 1, 2, 2, 1, 1, 2, 2, 1, 1, 2, 2, 0, 2, 1, 0, 1, 1, 2, 2, 0, 1, 1, 1, 1, 1, 1, 2, 0, 1, 1, 1, 1, 2, 1, 1, 2, 1, 2, 1, 2, 1, 1, 2, 2, 1, 2, 1, 1, 1, 2, 2, 1, 1, 2, 1, 1, 1, 2, 1, 0, 1, 0, 2, 2, 1, 0, 2, 1, 1, 0, 1, 2, 2, 2, 1, 1, 1, 1, 2, 1, 2, 1, 2, 1, 1, 2, 1, 2, 2, 2, 1, 1, 2, 0, 2, 1, 1, 0, 2, 1, 2, 1, 1, 1, 2, 1, 1, 1, 2, 1, 2, 1, 2, 2, 1, 1, 1, 0, 1, 1, 1, 1, 1, 2, 2, 1, 2, 1, 1, 1, 1, 2, 1, 0, 2, 1, 1, 1, 1, 1, 2, 1, 1, 1, 1, 2, 1, 1, 2, 1, 2, 1, 1, 2, 1, 0, 2, 1, 1, 2, 0, 1, 2, 2, 0, 1, 1, 2, 2, 1, 0, 1, 2, 2, 1, 2, 1, 1, 1, 2, 1, 0, 1, 1, 1, 2, 2, 1, 1, 1, 0, 2, 0, 0, 1, 1, 1, 2, 2, 1, 1, 1, 1, 1, 0, 1, 1, 2, 1, 1, 1, 0, 2, 0, 1, 1, 2, 2, 1, 2, 2, 2, 2, 2, 1, 2, 1, 1, 1, 0, 1, 2, 2, 1, 2, 1, 1, 2, 2, 2, 1, 2, 1, 1, 1, 1, 1, 2, 2, 1, 1, 0, 0, 1, 1, 1, 1, 0, 1, 1, 2, 1, 1, 2, 2, 1, 1, 1, 0, 0, 1, 2, 2, 1, 1, 1, 1, 1, 2, 1, 2, 2, 2, 1, 2, 1, 1, 1, 1, 1, 0, 1, 2, 1, 1, 0, 0, 1, 2, 1, 1, 1, 1, 1, 0, 1, 1, 1, 1, 1, 0, 2, 1, 1, 0, 1, 1, 2, 2, 1, 1, 1, 1, 1, 1, 2, 1, 1, 1, 1, 1, 1, 2, 1, 1, 2, 2, 1, 1, 2, 1, 1, 0, 1, 2, 0, 1, 2, 0, 1, 2, 1, 2, 2, 2, 1, 1, 1, 2, 1, 0, 1, 2, 2, 2, 1, 1, 1, 2, 2, 2, 1, 1, 0, 1, 1, 2, 2, 1, 1, 2, 1, 2, 2, 2, 0, 2, 1, 2, 2, 0, 1, 1, 2, 1, 1, 1, 1, 1, 1, 1, 1, 1, 2, 2, 1, 2, 2, 1, 1, 2, 2, 1, 1, 1, 2, 1, 1, 2, 1, 2, 2, 1, 2, 1, 1, 2, 2, 2, 2, 1, 1, 1, 1, 0, 1, 2, 2, 1, 1, 1, 1, 1, 1, 1, 2, 1, 1, 1, 1, 2, 2, 2, 1, 1, 2, 2, 2, 1, 2, 0, 1, 2, 2, 1, 2, 1, 1, 2, 1, 1, 2, 1, 2, 2, 1, 2, 1, 2, 2, 2, 1, 2, 1, 2, 2, 1, 1, 1, 2, 1, 2, 1, 1, 1, 1, 2, 1, 2, 1, 1, 1, 2, 2, 1, 1, 1, 0, 2, 1, 1, 2, 1, 2, 0, 1, 1, 2, 2, 1, 1, 1, 1, 1, 1, 0, 1, 1, 1, 1, 2, 0, 0, 1, 1, 0, 2, 1, 1, 1, 1, 2, 1, 1, 0, 0, 0, 1, 1, 1, 1, 2, 1, 1, 2, 2, 1, 1, 1, 2, 1, 2, 0, 1, 0, 2, 2, 2, 0, 2, 1, 2, 1, 1, 1, 2, 1, 1, 2, 1, 2, 1, 2, 1, 1, 0, 1, 2, 1, 1, 2, 2, 2, 1, 1, 1, 2, 0, 1, 1, 1, 1, 1, 2, 1, 1, 1, 1, 1, 1, 1, 0, 1, 2, 0, 1, 2, 1, 2, 1, 1, 1, 2, 1, 2, 0, 1, 1, 1, 2, 1, 1, 2, 2, 1, 2, 2, 1, 1, 0, 2, 2, 2, 1, 2, 2, 2, 1, 2, 2, 2, 1, 1, 1, 2, 1, 1, 1, 1, 2, 1, 1, 1, 2, 1, 1, 1, 1, 1, 2, 1, 1, 1, 1, 1, 2, 1, 1, 2, 0, 1, 2, 2, 0, 2, 1, 1, 1, 2, 1, 2, 2, 0, 2, 1, 1, 1, 0, 2, 1, 1, 1, 2, 1, 1, 1, 1, 2, 2, 1, 2, 2, 2, 1, 1, 1, 1, 1, 1, 1, 1, 2, 1, 2, 1, 1, 1, 1, 0, 0, 2, 0, 1, 2, 1, 1, 2, 1, 2, 0, 1, 2, 1, 0, 2, 1, 1, 2, 2, 1, 1, 1, 0, 2, 2, 2, 2, 0, 2, 1, 1, 2, 1, 1, 2, 2, 0, 1, 2, 1, 1, 0, 2, 2, 1, 2, 1, 2, 1, 1, 2, 0, 1, 2, 2, 1, 1, 2, 1, 1, 1, 1, 1, 1, 2, 2, 2, 2, 2, 2, 2, 2, 1, 2, 1, 1, 1, 2, 2, 1, 1, 0, 2, 1, 1, 1, 1, 0, 1, 1, 1, 2, 1, 1, 2, 1, 1, 1, 2, 0, 1, 2, 2, 0, 1, 2, 0, 2, 1, 1, 1, 1, 1, 1, 1, 1, 2, 1, 1, 1, 2, 2, 1, 2, 2, 1, 1, 1, 2, 2, 1, 1, 2, 2, 0, 1, 1, 1, 2, 1, 1]\n",
    "fpr = {}\n",
    "tpr = {}\n",
    "thresh ={}\n",
    "\n",
    "n_class = 3\n",
    "fpr = dict()\n",
    "tpr = dict()\n",
    "roc_auc = dict()\n",
    "for i in range(n_class): \n",
    "    fpr[i], tpr[i], thresh[i] = roc_curve(y_true, pred_prob,pos_label=i)\n",
    "    #fpr[i], tpr[i], thresh[i] = roc_curve(y_test, pred_prob,pos_label=i)\n",
    "    roc_auc[i] = auc(fpr[i], tpr[i])\n",
    "    \n",
    "# plotting    \n",
    "plt.plot(fpr[0], tpr[0], linestyle='--',color='orange', label='Class 0 vs Rest: (area = %0.2f)' % roc_auc[0])\n",
    "plt.plot(fpr[1], tpr[1], linestyle='--',color='green', label='Class 1 vs Rest: (area = %0.2f)' % roc_auc[1])\n",
    "plt.plot(fpr[2], tpr[2], linestyle='--',color='blue', label='Class 2 vs Rest: (area = %0.2f)' % roc_auc[2])\n",
    "plt.title('Multiclass ROC curve')\n",
    "plt.xlabel('False Positive Rate')\n",
    "plt.ylabel('True Positive rate')\n",
    "plt.legend(loc='best')\n",
    "plt.show()\n",
    "\n"
   ]
  },
  {
   "cell_type": "code",
   "execution_count": 6,
   "metadata": {},
   "outputs": [
    {
     "name": "stdout",
     "output_type": "stream",
     "text": [
      "[1]\n",
      "[1, 2]\n",
      "[1, 2, 3]\n",
      "[1, 2, 3, 4]\n",
      "[1, 2, 3, 4, 5]\n"
     ]
    }
   ],
   "source": [
    "a= [1,2,3,4,5]\n",
    "for i in a:\n",
    "    print(a[:i])\n",
    "    "
   ]
  },
  {
   "cell_type": "code",
   "execution_count": 7,
   "metadata": {},
   "outputs": [
    {
     "name": "stderr",
     "output_type": "stream",
     "text": [
      "C:\\ProgramData\\Anaconda3\\lib\\site-packages\\pandas_ml\\confusion_matrix\\stats.py:60: FutureWarning: supplying multiple axes to axis is deprecated and will be removed in a future version.\n",
      "  num = df[df > 1].dropna(axis=[0, 1], thresh=1).applymap(lambda n: choose(n, 2)).sum().sum() - np.float64(nis2 * njs2) / n2\n"
     ]
    },
    {
     "name": "stdout",
     "output_type": "stream",
     "text": [
      "Current Overall accuracy: 0.6120630568882797\n",
      "Total Overall Accuracy: 0.6120630568882797\n"
     ]
    }
   ],
   "source": [
    "cm = ConfusionMatrix(y_true, y_pred)\n",
    "\n",
    "sum_overall_accuracy = 0\n",
    "total_predictions = 0\n",
    "    \n",
    "for num_pred in range(len(y_pred)):\n",
    "        if(y_pred[num_pred] == y_true[num_pred]):\n",
    "            sum_overall_accuracy += 1\n",
    "        total_predictions += 1\n",
    "        \n",
    "print('Current Overall accuracy: ' + str(cm.stats()['overall']['Accuracy']))\n",
    "if total_predictions != 0:\n",
    "        print('Total Overall Accuracy: ' + str(sum_overall_accuracy/total_predictions))\n",
    "else:\n",
    "        print('Total Overall Accuracy: ' + str(cm.stats()['overall']['Accuracy']))\n",
    "        \n",
    "        "
   ]
  },
  {
   "cell_type": "code",
   "execution_count": null,
   "metadata": {},
   "outputs": [],
   "source": []
  }
 ],
 "metadata": {
  "kernelspec": {
   "display_name": "Python 3",
   "language": "python",
   "name": "python3"
  },
  "language_info": {
   "codemirror_mode": {
    "name": "ipython",
    "version": 3
   },
   "file_extension": ".py",
   "mimetype": "text/x-python",
   "name": "python",
   "nbconvert_exporter": "python",
   "pygments_lexer": "ipython3",
   "version": "3.7.3"
  }
 },
 "nbformat": 4,
 "nbformat_minor": 4
}
