{
 "cells": [
  {
   "cell_type": "code",
   "execution_count": 1,
   "metadata": {},
   "outputs": [],
   "source": [
    "import pandas as pd\n",
    "import numpy as np\n",
    "import os"
   ]
  },
  {
   "cell_type": "code",
   "execution_count": 2,
   "metadata": {},
   "outputs": [],
   "source": [
    "path = \"master_csv.csv\"\n",
    "df = pd.read_csv('appceleratorstudio.csv')"
   ]
  },
  {
   "cell_type": "code",
   "execution_count": 3,
   "metadata": {},
   "outputs": [
    {
     "data": {
      "text/plain": [
       "issuekey        0\n",
       "title           0\n",
       "description    43\n",
       "storypoint      0\n",
       "dtype: int64"
      ]
     },
     "execution_count": 3,
     "metadata": {},
     "output_type": "execute_result"
    }
   ],
   "source": [
    "df.isnull().sum()"
   ]
  },
  {
   "cell_type": "code",
   "execution_count": 4,
   "metadata": {},
   "outputs": [],
   "source": [
    "df = df.dropna(how='any')"
   ]
  },
  {
   "cell_type": "code",
   "execution_count": 5,
   "metadata": {},
   "outputs": [
    {
     "data": {
      "text/html": [
       "<div>\n",
       "<style scoped>\n",
       "    .dataframe tbody tr th:only-of-type {\n",
       "        vertical-align: middle;\n",
       "    }\n",
       "\n",
       "    .dataframe tbody tr th {\n",
       "        vertical-align: top;\n",
       "    }\n",
       "\n",
       "    .dataframe thead th {\n",
       "        text-align: right;\n",
       "    }\n",
       "</style>\n",
       "<table border=\"1\" class=\"dataframe\">\n",
       "  <thead>\n",
       "    <tr style=\"text-align: right;\">\n",
       "      <th></th>\n",
       "      <th>issuekey</th>\n",
       "      <th>title</th>\n",
       "      <th>description</th>\n",
       "      <th>storypoint</th>\n",
       "    </tr>\n",
       "  </thead>\n",
       "  <tbody>\n",
       "    <tr>\n",
       "      <th>0</th>\n",
       "      <td>TISTUD-6</td>\n",
       "      <td>Add CA against object literals in function inv...</td>\n",
       "      <td>{html}&lt;div&gt;&lt;p&gt;The idea here is that if our met...</td>\n",
       "      <td>1</td>\n",
       "    </tr>\n",
       "    <tr>\n",
       "      <th>1</th>\n",
       "      <td>TISTUD-9</td>\n",
       "      <td>Update branding for Appcelerator plugin to App...</td>\n",
       "      <td>{html}&lt;div&gt;&lt;p&gt;At least fix feature icons, asso...</td>\n",
       "      <td>1</td>\n",
       "    </tr>\n",
       "    <tr>\n",
       "      <th>2</th>\n",
       "      <td>TISTUD-11</td>\n",
       "      <td>Create new JSON schema for SDK team</td>\n",
       "      <td>{html}&lt;div&gt;&lt;p&gt;Create JSON schema containing pr...</td>\n",
       "      <td>1</td>\n",
       "    </tr>\n",
       "    <tr>\n",
       "      <th>3</th>\n",
       "      <td>TISTUD-13</td>\n",
       "      <td>Create Project References Property Page</td>\n",
       "      <td>{html}&lt;div&gt;&lt;p&gt;Create property page for project...</td>\n",
       "      <td>1</td>\n",
       "    </tr>\n",
       "    <tr>\n",
       "      <th>4</th>\n",
       "      <td>TISTUD-16</td>\n",
       "      <td>New Desktop Project Wizard</td>\n",
       "      <td>{html}&lt;div&gt;&lt;p&gt;Desktop (need to convert existin...</td>\n",
       "      <td>1</td>\n",
       "    </tr>\n",
       "  </tbody>\n",
       "</table>\n",
       "</div>"
      ],
      "text/plain": [
       "    issuekey                                              title  \\\n",
       "0   TISTUD-6  Add CA against object literals in function inv...   \n",
       "1   TISTUD-9  Update branding for Appcelerator plugin to App...   \n",
       "2  TISTUD-11                Create new JSON schema for SDK team   \n",
       "3  TISTUD-13            Create Project References Property Page   \n",
       "4  TISTUD-16                         New Desktop Project Wizard   \n",
       "\n",
       "                                         description  storypoint  \n",
       "0  {html}<div><p>The idea here is that if our met...           1  \n",
       "1  {html}<div><p>At least fix feature icons, asso...           1  \n",
       "2  {html}<div><p>Create JSON schema containing pr...           1  \n",
       "3  {html}<div><p>Create property page for project...           1  \n",
       "4  {html}<div><p>Desktop (need to convert existin...           1  "
      ]
     },
     "execution_count": 5,
     "metadata": {},
     "output_type": "execute_result"
    }
   ],
   "source": [
    "df.head()"
   ]
  },
  {
   "cell_type": "code",
   "execution_count": 6,
   "metadata": {},
   "outputs": [
    {
     "data": {
      "text/plain": [
       "count    2876.000000\n",
       "mean        5.636300\n",
       "std         3.309936\n",
       "min         1.000000\n",
       "25%         3.000000\n",
       "50%         5.000000\n",
       "75%         8.000000\n",
       "max        40.000000\n",
       "Name: storypoint, dtype: float64"
      ]
     },
     "execution_count": 6,
     "metadata": {},
     "output_type": "execute_result"
    }
   ],
   "source": [
    "df.storypoint.describe()"
   ]
  },
  {
   "cell_type": "code",
   "execution_count": 7,
   "metadata": {},
   "outputs": [
    {
     "data": {
      "text/plain": [
       "<Figure size 640x480 with 1 Axes>"
      ]
     },
     "metadata": {},
     "output_type": "display_data"
    }
   ],
   "source": [
    "import matplotlib.pyplot as plt\n",
    " \n",
    "plt.hist(df.storypoint, bins=20, alpha=0.6, color='y')\n",
    "plt.title(\"#Items per Point\")\n",
    "plt.xlabel(\"Points\")\n",
    "plt.ylabel(\"Count\")\n",
    " \n",
    "plt.show()"
   ]
  },
  {
   "cell_type": "code",
   "execution_count": 8,
   "metadata": {},
   "outputs": [
    {
     "data": {
      "text/plain": [
       "storypoint\n",
       "1      148\n",
       "2      112\n",
       "3      571\n",
       "5     1126\n",
       "8      751\n",
       "9        1\n",
       "13     137\n",
       "20      22\n",
       "21       3\n",
       "34       1\n",
       "40       4\n",
       "dtype: int64"
      ]
     },
     "execution_count": 8,
     "metadata": {},
     "output_type": "execute_result"
    }
   ],
   "source": [
    "df.groupby('storypoint').size()"
   ]
  },
  {
   "cell_type": "markdown",
   "metadata": {},
   "source": [
    "### Data Preprocessing"
   ]
  },
  {
   "cell_type": "code",
   "execution_count": 9,
   "metadata": {},
   "outputs": [],
   "source": [
    "df.loc[df.storypoint <= 2, 'storypoint'] = 0 #small\n",
    "df.loc[(df.storypoint > 2) & (df.storypoint <= 5), 'storypoint'] = 1 #medium\n",
    "df.loc[df.storypoint > 5, 'storypoint'] = 2 #big"
   ]
  },
  {
   "cell_type": "code",
   "execution_count": 10,
   "metadata": {},
   "outputs": [
    {
     "data": {
      "text/plain": [
       "storypoint\n",
       "0     260\n",
       "1    1697\n",
       "2     919\n",
       "dtype: int64"
      ]
     },
     "execution_count": 10,
     "metadata": {},
     "output_type": "execute_result"
    }
   ],
   "source": [
    "df.groupby('storypoint').size()"
   ]
  },
  {
   "cell_type": "code",
   "execution_count": 11,
   "metadata": {},
   "outputs": [],
   "source": [
    "import csv\n",
    "from nltk.corpus import stopwords\n",
    "\n",
    "#Define some known html tokens that appear in the data to be removed later\n",
    "htmltokens = ['{html}','<div>','<pre>','<p>', '</div>','</pre>','</p>']\n",
    "\n",
    "#Clean operation\n",
    "#Remove english stop words and html tokens\n",
    "\n",
    "def cleanData(text):\n",
    "    result = ''\n",
    "    \n",
    "    for w in htmltokens:\n",
    "        text = text.replace(w, '')\n",
    "    \n",
    "    text_words = text.split()    \n",
    "    \n",
    "    resultwords  = [word for word in text_words if word not in stopwords.words('english')]\n",
    "    \n",
    "    if len(resultwords) > 0:\n",
    "        result = ' '.join(resultwords)\n",
    "    else:\n",
    "        print('Empty transformation for: ' + text)\n",
    "        \n",
    "    return result\n",
    "\n",
    "def formatFastTextClassifier(label):\n",
    "    return \"__label__\" + str(label) + \" \""
   ]
  },
  {
   "cell_type": "code",
   "execution_count": 12,
   "metadata": {},
   "outputs": [
    {
     "name": "stderr",
     "output_type": "stream",
     "text": [
      "[nltk_data] Downloading package stopwords to C:\\Users\\Abhishek\n",
      "[nltk_data]     Sharma\\AppData\\Roaming\\nltk_data...\n",
      "[nltk_data]   Package stopwords is already up-to-date!\n"
     ]
    }
   ],
   "source": [
    "import nltk\n",
    "\n",
    "#nltk.download('stopwords')\n",
    "\n",
    "df['title_desc'] = df['title'].str.lower() + ' - ' + df['description'].str.lower()\n",
    "df['label_title_desc'] = df['storypoint'].apply(lambda x: formatFastTextClassifier(x)) + df['title_desc'].apply(lambda x: cleanData(str(x)))\n",
    "\n",
    "df = df.reset_index(drop=True)"
   ]
  },
  {
   "cell_type": "code",
   "execution_count": 13,
   "metadata": {},
   "outputs": [],
   "source": [
    "from collections import Counter\n",
    "\n",
    "def SimpleOverSample(_xtrain, _ytrain):\n",
    "    xtrain = list(_xtrain)\n",
    "    ytrain = list(_ytrain)\n",
    "\n",
    "    samples_counter = Counter(ytrain)\n",
    "    max_samples = sorted(samples_counter.values(), reverse=True)[0]\n",
    "    for sc in samples_counter:\n",
    "        init_samples = samples_counter[sc]\n",
    "        samples_to_add = max_samples - init_samples\n",
    "        if samples_to_add > 0:\n",
    "            #collect indices to oversample for the current class\n",
    "            index = list()\n",
    "            for i in range(len(ytrain)):\n",
    "                if(ytrain[i] == sc):\n",
    "                    index.append(i)\n",
    "            #select samples to copy for the current class    \n",
    "            copy_from = [xtrain[i] for i in index]\n",
    "            index_copy = 0\n",
    "            for i in range(samples_to_add):\n",
    "                xtrain.append(copy_from[index_copy % len(copy_from)])\n",
    "                ytrain.append(sc)\n",
    "                index_copy += 1\n",
    "    return xtrain, ytrain"
   ]
  },
  {
   "cell_type": "code",
   "execution_count": 14,
   "metadata": {},
   "outputs": [
    {
     "data": {
      "image/png": "[encoded data removed]",
      "text/plain": [
       "<Figure size 432x288 with 1 Axes>"
      ]
     },
     "metadata": {
      "needs_background": "light"
     },
     "output_type": "display_data"
    }
   ],
   "source": [
    "df_oversampled = pd.DataFrame(df, columns=['label_title_desc','storypoint'])\n",
    "X_resampled, y_resampled =  SimpleOverSample(df_oversampled.label_title_desc.values.tolist(), df_oversampled.storypoint.values.tolist())\n",
    "\n",
    "plt.hist(y_resampled, bins=20, alpha=0.6, color='y')\n",
    "plt.title(\"#Items per Point\")\n",
    "plt.xlabel(\"Points\")\n",
    "plt.ylabel(\"Count\")\n",
    "plt.show()"
   ]
  },
  {
   "cell_type": "markdown",
   "metadata": {},
   "source": [
    "### Creating pretrained vectors"
   ]
  },
  {
   "cell_type": "markdown",
   "metadata": {},
   "source": [
    "root = '../IEEE TSE2018/pretrain data/'\n",
    "\n",
    "pretrain_files = ['apache_pretrain.csv', \n",
    "                  'jira_pretrain.csv', \n",
    "                  'spring_pretrain.csv', \n",
    "                  'talendforge_pretrain.csv', \n",
    "                  'moodle_pretrain.csv',\n",
    "                  'appcelerator_pretrain.csv',\n",
    "                  'duraspace_pretrain.csv',\n",
    "                  'mulesoft_pretrain.csv',\n",
    "                  'lsstcorp_pretrain.csv']\n",
    "\n",
    "pretrained = None\n",
    "\n",
    "for file in pretrain_files:\n",
    "    df_pretrain = pd.read_csv(root + file, usecols=['issuekey', 'title', 'description'])\n",
    "    if(pretrained is not None):\n",
    "        pretrained = pd.concat([pretrained, df_pretrain])\n",
    "    else:\n",
    "        pretrained = df_pretrain\n",
    "\n",
    "pretrained = pretrained.dropna(how='any')"
   ]
  },
  {
   "cell_type": "markdown",
   "metadata": {},
   "source": [
    "#pretrained['title_desc'] = (pretrained['title'].str.lower() + ' - ' + pretrained['description'].str.lower()).apply(lambda x: cleanData(str(x)))\n",
    "#pretrained.to_pickle('pretrained_df.pkl')\n",
    "pretrained = pd.read_pickle('pretrained_df.pkl')"
   ]
  },
  {
   "cell_type": "markdown",
   "metadata": {},
   "source": [
    "outfile=open(\"issues_pretrain.txt\", mode=\"w\", encoding=\"utf-8\")\n",
    "for line in pretrained.title_desc.values:\n",
    "    outfile.write(line + '\\n')\n",
    "outfile.close()"
   ]
  },
  {
   "cell_type": "markdown",
   "metadata": {},
   "source": [
    "#command = \"fasttext skipgram -input issues_pretrain.txt -output pretrained_model -epoch 100 -wordNgrams 4 -dim 300 -minn 4 -maxn 6 -lr 0.01\"\n",
    "#os.system(command)"
   ]
  },
  {
   "cell_type": "markdown",
   "metadata": {},
   "source": [
    "### Model Training and Results"
   ]
  },
  {
   "cell_type": "code",
   "execution_count": 15,
   "metadata": {},
   "outputs": [],
   "source": [
    "import uuid\n",
    "\n",
    "class FastTextClassifier:\n",
    "    \n",
    "    folderName = \"\"\n",
    "    trainFileName = \"\"\n",
    "    testFileName = \"\"\n",
    "    pretrainedModelName = \"\"\n",
    "    outputModelName = \"\"\n",
    "    outputFileName = \"\"\n",
    "    logFolderName = \"\"\n",
    "    \n",
    "    \n",
    "    def __init__(self):\n",
    "        self.rand = str(uuid.uuid4())\n",
    "        self.trainFileName = \"issues_train_\" + self.rand + \".txt\"\n",
    "        self.testFileName = \"issues_test_\" + self.rand + \".txt\"\n",
    "        self.pretrainedModelName = \"pretrained_model\" + \".vec\"\n",
    "        self.outputModelName = \"supervised_classifier_model_\" + self.rand\n",
    "        self.outputFileName = \"predicted_results_\" + self.rand + \".txt\"\n",
    "        self.logFolderName = \"logfiles_\" + self.rand\n",
    "        \n",
    "        command = \"mkdir \" + self.logFolderName\n",
    "        os.system(command)\n",
    "        \n",
    "    \n",
    "    def fit(self, xtrain, ytrain):\n",
    "        #log folder path\n",
    "        trainFilePath = self.logFolderName + \"/\" +self.trainFileName\n",
    "        outputModelPath = self.logFolderName + \"/\" +self.outputModelName\n",
    "        \n",
    "        outfile=open(trainFilePath, mode=\"w\", encoding=\"utf-8\")\n",
    "        for i in range(len(xtrain)):\n",
    "            #line = \"__label__\" + str(ytrain[i]) + \" \" + xtrain[i]\n",
    "            line = xtrain[i]\n",
    "            outfile.write(line + '\\n')\n",
    "        outfile.close()            \n",
    "        \n",
    "        #fit data to model and save it\n",
    "        command = \"fasttext supervised -input \" + trainFilePath + \" -output \" + outputModelPath + \" -epoch 500 -wordNgrams 4 -dim 300 -minn 4 -maxn 6 -pretrainedVectors \" + self.pretrainedModelName\n",
    "        os.system(command)\n",
    "        \n",
    "        \n",
    "    def predict(self, xtest):\n",
    "        #log folder path\n",
    "        testFilePath = self.logFolderName + \"/\" +self.testFileName\n",
    "        outputFilePath = self.logFolderName + \"/\" +self.outputFileName\n",
    "        outputModelPath = self.logFolderName + \"/\" +self.outputModelName\n",
    "        \n",
    "        #save test file\n",
    "        outfile=open(testFilePath, mode=\"w\", encoding=\"utf-8\")\n",
    "        for i in range(len(xtest)):\n",
    "            outfile.write(xtest[i] + '\\n')\n",
    "        outfile.close()\n",
    "        \n",
    "        #get predictions     \n",
    "        command =  \"fasttext predict \" + outputModelPath + \".bin \" + testFilePath + \" > \" + outputFilePath\n",
    "        os.system(command)\n",
    "        \n",
    "        outfile=open(outputFilePath, mode=\"r\")\n",
    "        test_pred = [int(line.strip('_label\\r\\n')) for line in outfile.readlines()]\n",
    "        outfile.close()\n",
    "                \n",
    "        return test_pred"
   ]
  },
  {
   "cell_type": "code",
   "execution_count": 16,
   "metadata": {},
   "outputs": [],
   "source": [
    "def rebuild_kfold_sets(folds, k, i):\n",
    "    training_set = None\n",
    "    testing_set = None\n",
    "\n",
    "    for j in range(k):\n",
    "        if(i==j):\n",
    "            testing_set = folds[i]\n",
    "        elif(training_set is not None):\n",
    "            training_set = pd.concat([training_set, folds[j]])\n",
    "        else:\n",
    "            training_set = folds[j]\n",
    "    \n",
    "    return training_set, testing_set"
   ]
  },
  {
   "cell_type": "code",
   "execution_count": 17,
   "metadata": {},
   "outputs": [],
   "source": [
    "import itertools\n",
    "\n",
    "def plot_confusion_matrix(cm, classes,\n",
    "                          normalize=False,\n",
    "                          title='Confusion matrix',\n",
    "                          cmap=plt.cm.Blues):\n",
    "    \"\"\"\n",
    "    This function prints and plots the confusion matrix.\n",
    "    Normalization can be applied by setting `normalize=True`.\n",
    "    \"\"\"\n",
    "    if normalize:\n",
    "        cm = cm.astype('float') / cm.sum(axis=1)[:, np.newaxis]\n",
    "\n",
    "\n",
    "    plt.imshow(cm, interpolation='nearest', cmap=cmap)\n",
    "    plt.title(title)\n",
    "    plt.colorbar()\n",
    "    tick_marks = np.arange(len(classes))\n",
    "    plt.xticks(tick_marks, classes, rotation=45)\n",
    "    plt.yticks(tick_marks, classes)\n",
    "\n",
    "    fmt = '.2f' if normalize else 'd'\n",
    "    thresh = cm.max() / 2.\n",
    "    for i, j in itertools.product(range(cm.shape[0]), range(cm.shape[1])):\n",
    "        plt.text(j, i, format(cm[i, j], fmt),\n",
    "                 horizontalalignment=\"center\",\n",
    "                 color=\"white\" if cm[i, j] > thresh else \"black\")\n",
    "\n",
    "    plt.tight_layout()\n",
    "    plt.ylabel('True label')\n",
    "    plt.xlabel('Predicted label')\n",
    "    \n",
    "def plot_confusion_matrix_with_accuracy(classes, y_true, y_pred, title, sum_overall_accuracy, total_predictions):\n",
    "    cm = ConfusionMatrix(y_true, y_pred)\n",
    "    \n",
    "    print('Current Overall accuracy: ' + str(cm.stats()['overall']['Accuracy']))\n",
    "    if total_predictions != 0:\n",
    "        print('Total Overall Accuracy: ' + str(sum_overall_accuracy/total_predictions))\n",
    "    else:\n",
    "        print('Total Overall Accuracy: ' + str(cm.stats()['overall']['Accuracy']))\n",
    "\n",
    "    conf_matrix = confusion_matrix(y_true, y_pred)\n",
    "    plt.figure()\n",
    "    plot_confusion_matrix(conf_matrix, classes=classes, title=title)\n",
    "    plt.show()"
   ]
  },
  {
   "cell_type": "code",
   "execution_count": 18,
   "metadata": {},
   "outputs": [
    {
     "ename": "AssertionError",
     "evalue": "y_true must have same size - 410 != 0",
     "output_type": "error",
     "traceback": [
      "\u001b[1;31m---------------------------------------------------------------------------\u001b[0m",
      "\u001b[1;31mAssertionError\u001b[0m                            Traceback (most recent call last)",
      "\u001b[1;32m<ipython-input-18-b1ff1f214ceb>\u001b[0m in \u001b[0;36m<module>\u001b[1;34m\u001b[0m\n\u001b[0;32m     54\u001b[0m \u001b[1;33m\u001b[0m\u001b[0m\n\u001b[0;32m     55\u001b[0m     \u001b[1;31m#4 - Plot Confusion Matrix and accuracy\u001b[0m\u001b[1;33m\u001b[0m\u001b[1;33m\u001b[0m\u001b[1;33m\u001b[0m\u001b[0m\n\u001b[1;32m---> 56\u001b[1;33m     \u001b[0mplot_confusion_matrix_with_accuracy\u001b[0m\u001b[1;33m(\u001b[0m\u001b[0mclasses\u001b[0m\u001b[1;33m,\u001b[0m \u001b[0my_true\u001b[0m\u001b[1;33m,\u001b[0m \u001b[0my_pred\u001b[0m\u001b[1;33m,\u001b[0m \u001b[1;34m'Confusion matrix (testing-set folder = '\u001b[0m \u001b[1;33m+\u001b[0m \u001b[0mstr\u001b[0m\u001b[1;33m(\u001b[0m\u001b[0mi\u001b[0m\u001b[1;33m)\u001b[0m \u001b[1;33m+\u001b[0m \u001b[1;34m')'\u001b[0m\u001b[1;33m,\u001b[0m \u001b[0msum_overall_accuracy\u001b[0m\u001b[1;33m,\u001b[0m \u001b[0mtotal_predictions\u001b[0m\u001b[1;33m)\u001b[0m\u001b[1;33m\u001b[0m\u001b[1;33m\u001b[0m\u001b[0m\n\u001b[0m\u001b[0;32m     57\u001b[0m \u001b[1;33m\u001b[0m\u001b[0m\n\u001b[0;32m     58\u001b[0m     \u001b[1;31m#5 - Save true and predicted labels in results dataframe\u001b[0m\u001b[1;33m\u001b[0m\u001b[1;33m\u001b[0m\u001b[1;33m\u001b[0m\u001b[0m\n",
      "\u001b[1;32m<ipython-input-17-13666990c592>\u001b[0m in \u001b[0;36mplot_confusion_matrix_with_accuracy\u001b[1;34m(classes, y_true, y_pred, title, sum_overall_accuracy, total_predictions)\u001b[0m\n\u001b[0;32m     32\u001b[0m \u001b[1;33m\u001b[0m\u001b[0m\n\u001b[0;32m     33\u001b[0m \u001b[1;32mdef\u001b[0m \u001b[0mplot_confusion_matrix_with_accuracy\u001b[0m\u001b[1;33m(\u001b[0m\u001b[0mclasses\u001b[0m\u001b[1;33m,\u001b[0m \u001b[0my_true\u001b[0m\u001b[1;33m,\u001b[0m \u001b[0my_pred\u001b[0m\u001b[1;33m,\u001b[0m \u001b[0mtitle\u001b[0m\u001b[1;33m,\u001b[0m \u001b[0msum_overall_accuracy\u001b[0m\u001b[1;33m,\u001b[0m \u001b[0mtotal_predictions\u001b[0m\u001b[1;33m)\u001b[0m\u001b[1;33m:\u001b[0m\u001b[1;33m\u001b[0m\u001b[1;33m\u001b[0m\u001b[0m\n\u001b[1;32m---> 34\u001b[1;33m     \u001b[0mcm\u001b[0m \u001b[1;33m=\u001b[0m \u001b[0mConfusionMatrix\u001b[0m\u001b[1;33m(\u001b[0m\u001b[0my_true\u001b[0m\u001b[1;33m,\u001b[0m \u001b[0my_pred\u001b[0m\u001b[1;33m)\u001b[0m\u001b[1;33m\u001b[0m\u001b[1;33m\u001b[0m\u001b[0m\n\u001b[0m\u001b[0;32m     35\u001b[0m \u001b[1;33m\u001b[0m\u001b[0m\n\u001b[0;32m     36\u001b[0m     \u001b[0mprint\u001b[0m\u001b[1;33m(\u001b[0m\u001b[1;34m'Current Overall accuracy: '\u001b[0m \u001b[1;33m+\u001b[0m \u001b[0mstr\u001b[0m\u001b[1;33m(\u001b[0m\u001b[0mcm\u001b[0m\u001b[1;33m.\u001b[0m\u001b[0mstats\u001b[0m\u001b[1;33m(\u001b[0m\u001b[1;33m)\u001b[0m\u001b[1;33m[\u001b[0m\u001b[1;34m'overall'\u001b[0m\u001b[1;33m]\u001b[0m\u001b[1;33m[\u001b[0m\u001b[1;34m'Accuracy'\u001b[0m\u001b[1;33m]\u001b[0m\u001b[1;33m)\u001b[0m\u001b[1;33m)\u001b[0m\u001b[1;33m\u001b[0m\u001b[1;33m\u001b[0m\u001b[0m\n",
      "\u001b[1;32mC:\\ProgramData\\Anaconda3\\lib\\site-packages\\pandas_ml\\confusion_matrix\\cm.py\u001b[0m in \u001b[0;36m__new__\u001b[1;34m(cls, y_true, y_pred, *args, **kwargs)\u001b[0m\n\u001b[0;32m     22\u001b[0m                 \u001b[1;32mfrom\u001b[0m \u001b[0mpandas_ml\u001b[0m\u001b[1;33m.\u001b[0m\u001b[0mconfusion_matrix\u001b[0m\u001b[1;33m.\u001b[0m\u001b[0mbcm\u001b[0m \u001b[1;32mimport\u001b[0m \u001b[0mBinaryConfusionMatrix\u001b[0m\u001b[1;33m\u001b[0m\u001b[1;33m\u001b[0m\u001b[0m\n\u001b[0;32m     23\u001b[0m                 \u001b[1;32mreturn\u001b[0m \u001b[0mBinaryConfusionMatrix\u001b[0m\u001b[1;33m(\u001b[0m\u001b[0my_true\u001b[0m\u001b[1;33m,\u001b[0m \u001b[0my_pred\u001b[0m\u001b[1;33m,\u001b[0m \u001b[1;33m*\u001b[0m\u001b[0margs\u001b[0m\u001b[1;33m,\u001b[0m \u001b[1;33m**\u001b[0m\u001b[0mkwargs\u001b[0m\u001b[1;33m)\u001b[0m\u001b[1;33m\u001b[0m\u001b[1;33m\u001b[0m\u001b[0m\n\u001b[1;32m---> 24\u001b[1;33m         \u001b[1;32mreturn\u001b[0m \u001b[0mLabeledConfusionMatrix\u001b[0m\u001b[1;33m(\u001b[0m\u001b[0my_true\u001b[0m\u001b[1;33m,\u001b[0m \u001b[0my_pred\u001b[0m\u001b[1;33m,\u001b[0m \u001b[1;33m*\u001b[0m\u001b[0margs\u001b[0m\u001b[1;33m,\u001b[0m \u001b[1;33m**\u001b[0m\u001b[0mkwargs\u001b[0m\u001b[1;33m)\u001b[0m\u001b[1;33m\u001b[0m\u001b[1;33m\u001b[0m\u001b[0m\n\u001b[0m\u001b[0;32m     25\u001b[0m \u001b[1;33m\u001b[0m\u001b[0m\n\u001b[0;32m     26\u001b[0m \u001b[1;33m\u001b[0m\u001b[0m\n",
      "\u001b[1;32mC:\\ProgramData\\Anaconda3\\lib\\site-packages\\pandas_ml\\confusion_matrix\\abstract.py\u001b[0m in \u001b[0;36m__init__\u001b[1;34m(self, y_true, y_pred, labels, display_sum, backend, true_name, pred_name)\u001b[0m\n\u001b[0;32m     54\u001b[0m         \u001b[0mN_pred\u001b[0m \u001b[1;33m=\u001b[0m \u001b[0mlen\u001b[0m\u001b[1;33m(\u001b[0m\u001b[0my_pred\u001b[0m\u001b[1;33m)\u001b[0m\u001b[1;33m\u001b[0m\u001b[1;33m\u001b[0m\u001b[0m\n\u001b[0;32m     55\u001b[0m         \u001b[1;32massert\u001b[0m \u001b[0mN_true\u001b[0m \u001b[1;33m==\u001b[0m \u001b[0mN_pred\u001b[0m\u001b[1;33m,\u001b[0m\u001b[0;31m \u001b[0m\u001b[0;31m\\\u001b[0m\u001b[1;33m\u001b[0m\u001b[1;33m\u001b[0m\u001b[0m\n\u001b[1;32m---> 56\u001b[1;33m             \u001b[1;34m\"y_true must have same size - %d != %d\"\u001b[0m \u001b[1;33m%\u001b[0m \u001b[1;33m(\u001b[0m\u001b[0mN_true\u001b[0m\u001b[1;33m,\u001b[0m \u001b[0mN_pred\u001b[0m\u001b[1;33m)\u001b[0m\u001b[1;33m\u001b[0m\u001b[1;33m\u001b[0m\u001b[0m\n\u001b[0m\u001b[0;32m     57\u001b[0m \u001b[1;33m\u001b[0m\u001b[0m\n\u001b[0;32m     58\u001b[0m         \u001b[0mdf\u001b[0m \u001b[1;33m=\u001b[0m \u001b[0mpd\u001b[0m\u001b[1;33m.\u001b[0m\u001b[0mcrosstab\u001b[0m\u001b[1;33m(\u001b[0m\u001b[0mself\u001b[0m\u001b[1;33m.\u001b[0m\u001b[0m_y_true\u001b[0m\u001b[1;33m,\u001b[0m \u001b[0mself\u001b[0m\u001b[1;33m.\u001b[0m\u001b[0m_y_pred\u001b[0m\u001b[1;33m)\u001b[0m\u001b[1;33m\u001b[0m\u001b[1;33m\u001b[0m\u001b[0m\n",
      "\u001b[1;31mAssertionError\u001b[0m: y_true must have same size - 410 != 0"
     ]
    }
   ],
   "source": [
    "import sklearn\n",
    "from sklearn.metrics import confusion_matrix\n",
    "\n",
    "from pandas_ml import ConfusionMatrix\n",
    "\n",
    "# K-folds cross validation\n",
    "# K=5 or K=10 are generally used. \n",
    "# Note that the overall execution time increases linearly with k\n",
    "k = 7\n",
    "\n",
    "# Define the classes for the classifier\n",
    "classes = ['0','1','2']\n",
    "\n",
    "# Make Dataset random before start\n",
    "df_rand = df.sample(df.storypoint.count(), random_state=99)\n",
    "\n",
    "# Make datafrane to save results\n",
    "results = pd.DataFrame(columns=['True_Classes', 'Predicted_Classes'])\n",
    "\n",
    "# Number of examples in each fold\n",
    "fsamples =  int(df_rand.storypoint.count() / k)\n",
    "\n",
    "# Fill folds (obs: last folder could contain less than fsamples datapoints)\n",
    "folds = list()\n",
    "for i in range(k):\n",
    "    folds.append(df_rand.iloc[i * fsamples : (i + 1) * fsamples])\n",
    "        \n",
    "# Init\n",
    "sum_overall_accuracy = 0\n",
    "total_predictions = 0\n",
    "\n",
    "# Repeat k times and average results\n",
    "for i in range(k):\n",
    "    \n",
    "    #1 - Build new training and testing set for iteration i\n",
    "    training_set, testing_set  = rebuild_kfold_sets(folds, k, i)\n",
    "    y_true = testing_set.storypoint.tolist()\n",
    "\n",
    "    #2 - Oversample (ONLY TRAINING DATA)\n",
    "    X_resampled, y_resampled =  SimpleOverSample(training_set.label_title_desc.values.tolist(), training_set.storypoint.values.tolist())\n",
    "    \n",
    "    #3 - train\n",
    "    clf = FastTextClassifier()\n",
    "    clf.fit(X_resampled, y_resampled)\n",
    "    \n",
    "    #4 - Predict\n",
    "    y_pred = clf.predict(testing_set.label_title_desc.values.tolist())\n",
    "    \n",
    "    #3 - Update Overall Accuracy\n",
    "    for num_pred in range(len(y_pred)):\n",
    "        if(y_pred[num_pred] == y_true[num_pred]):\n",
    "            sum_overall_accuracy += 1\n",
    "        total_predictions += 1\n",
    "\n",
    "    #4 - Plot Confusion Matrix and accuracy \n",
    "    plot_confusion_matrix_with_accuracy(classes, y_true, y_pred, 'Confusion matrix (testing-set folder = ' + str(i) + ')', sum_overall_accuracy, total_predictions)\n",
    "    \n",
    "    #5 - Save true and predicted labels in results dataframe\n",
    "    results = results.append(pd.concat([pd.DataFrame({'True_Classes':y_true}), pd.DataFrame({'Predicted_Classes':y_pred})], axis=1))\n",
    "    \n",
    "# Save the results to .pkl file\n",
    "results.reset_index()\n",
    "results.to_pickle('master.pkl')"
   ]
  },
  {
   "cell_type": "code",
   "execution_count": null,
   "metadata": {},
   "outputs": [],
   "source": []
  },
  {
   "cell_type": "code",
   "execution_count": null,
   "metadata": {},
   "outputs": [],
   "source": [
    "y_true = results['True_Classes'].tolist()\n",
    "y_pred = results['Predicted_Classes'].tolist()"
   ]
  },
  {
   "cell_type": "code",
   "execution_count": null,
   "metadata": {},
   "outputs": [],
   "source": []
  },
  {
   "cell_type": "code",
   "execution_count": null,
   "metadata": {},
   "outputs": [],
   "source": [
    "from statsmodels.graphics import mosaicplot\n",
    "\n",
    "mosaicplot.mosaic(data=results, index=['True_Classes','Predicted_Classes'], title='Mosaic Plot')\n",
    "plt.show()"
   ]
  },
  {
   "cell_type": "code",
   "execution_count": null,
   "metadata": {},
   "outputs": [],
   "source": [
    "cm = ConfusionMatrix(y_true, y_pred)\n",
    "conf_matrix = confusion_matrix(y_true, y_pred)\n",
    "plt.figure()\n",
    "plot_confusion_matrix(conf_matrix, classes=classes, title='Confusion Matrix (Overall)')\n",
    "plt.show()\n",
    "\n",
    "print('Cohen\\'s Kappa value: ', cm.stats()['overall']['Kappa'])"
   ]
  },
  {
   "cell_type": "code",
   "execution_count": null,
   "metadata": {},
   "outputs": [],
   "source": [
    "cm.stats()['class']"
   ]
  },
  {
   "cell_type": "code",
   "execution_count": null,
   "metadata": {},
   "outputs": [],
   "source": [
    "from sklearn.metrics import precision_recall_fscore_support\n",
    "\n",
    "scores = precision_recall_fscore_support(y_true, y_pred)\n",
    "print('Scores:')\n",
    "print('Precision for classes {}: {}'.format(classes,scores[0]))\n",
    "print('Recall for classes {}: {}'.format(classes,scores[1]))\n",
    "print('F-Score for classes {}: {}'.format(classes,scores[2]))\n",
    "print('Prediction count for classes {}: {}'.format(classes,scores[3]))"
   ]
  },
  {
   "cell_type": "code",
   "execution_count": null,
   "metadata": {},
   "outputs": [],
   "source": []
  },
  {
   "cell_type": "code",
   "execution_count": null,
   "metadata": {},
   "outputs": [],
   "source": []
  },
  {
   "cell_type": "code",
   "execution_count": null,
   "metadata": {},
   "outputs": [],
   "source": []
  },
  {
   "cell_type": "markdown",
   "metadata": {},
   "source": [
    "End of Notebook"
   ]
  }
 ],
 "metadata": {
  "kernelspec": {
   "display_name": "Python 3",
   "language": "python",
   "name": "python3"
  },
  "language_info": {
   "codemirror_mode": {
    "name": "ipython",
    "version": 3
   },
   "file_extension": ".py",
   "mimetype": "text/x-python",
   "name": "python",
   "nbconvert_exporter": "python",
   "pygments_lexer": "ipython3",
   "version": "3.7.3"
  }
 },
 "nbformat": 4,
 "nbformat_minor": 4
}
